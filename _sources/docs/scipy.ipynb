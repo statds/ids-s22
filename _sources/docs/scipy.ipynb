{
 "cells": [
  {
   "cell_type": "markdown",
   "id": "769c05c6",
   "metadata": {},
   "source": [
    "(scipy)=\n",
    "\n",
    "# SciPy for Data Science\n",
    "\n",
    "From SciPy User Guide:\n",
    "\n",
    "> SciPy is a collection of mathematical algorithms and convenience\n",
    "> functions built on the NumPy extension of Python. It adds\n",
    "> significant power to the interactive Python session by providing the\n",
    "> user with high-level commands and classes for manipulating and\n",
    "> visualizing data. With SciPy, an interactive Python session becomes\n",
    "> a data-processing and system-prototyping environment rivaling\n",
    "> systems, such as MATLAB, IDL, Octave, R-Lab, and SciLab.\n",
    "\n",
    "\n",
    "> The additional benefit of basing SciPy on Python is that this also\n",
    "> makes a powerful programming language available for use in\n",
    "> developing sophisticated programs and specialized\n",
    "> applications. Scientific applications using SciPy benefit from the\n",
    "> development of additional modules in numerous niches of the software\n",
    "> landscape by developers across the world. Everything from parallel\n",
    "> programming to web and data-base subroutines and classes have been\n",
    "> made available to the Python programmer. All of this power is\n",
    "> available in addition to the mathematical libraries in SciPy.\n",
    "\n",
    "SciPy contains the [following\n",
    "modules](https://scipy.github.io/devdocs/tutorial/index.html#user-guide):\n",
    "\n",
    "\n",
    "+ Special functions (`scipy.special`)\n",
    "+ Integration (`scipy.integrate`)\n",
    "+ Optimization (`scipy.optimize`)\n",
    "+ Interpolation (`scipy.interpolate`)\n",
    "+ Fourier Transforms (`scipy.fft`)\n",
    "+ Signal Processing (`scipy.signal`)\n",
    "+ Linear Algebra (`scipy.linalg`)\n",
    "+ Sparse eigenvalue problems with `ARPACK`\n",
    "+ Compressed Sparse Graph Routines (`scipy.sparse.csgraph`)\n",
    "+ Spatial data structures and algorithms (`scipy.spatial`)\n",
    "+ Statistics (`scipy.stats`)\n",
    "+ Multidimensional image processing (`scipy.ndimage`)\n",
    "+ File IO (`scipy.io`)\n",
    "\n",
    "## Statistics\n",
    "\n",
    "The `scipy.stats` module contains functionalities on probability\n",
    "distributions. For those who are familiar with R, the density,\n",
    "distribution, quantile, and sampling functions are implemented for a\n",
    "large number of distributions.\n",
    "\n",
    "\n",
    "For example, the generalized extreme value (GEV) distribution is\n",
    "available as `scipy.stats.genextreme`. See\n",
    "[Wiki](https://en.wikipedia.org/wiki/Generalized_extreme_value_distribution)."
   ]
  },
  {
   "cell_type": "code",
   "execution_count": 1,
   "id": "913c01be",
   "metadata": {},
   "outputs": [
    {
     "data": {
      "text/plain": [
       "array([False,  True,  True,  True,  True,  True,  True,  True,  True,\n",
       "        True])"
      ]
     },
     "execution_count": 1,
     "metadata": {},
     "output_type": "execute_result"
    }
   ],
   "source": [
    "from scipy.stats import genextreme\n",
    "\n",
    "xi = -0.2\n",
    "n  = 10\n",
    "## a random sample of size n\n",
    "x = genextreme.rvs(xi, size = n)\n",
    "## density\n",
    "genextreme.pdf(x, c = xi)\n",
    "genextreme.logpdf(x, c = xi) # for loglikelihood\n",
    "## distribution\n",
    "genextreme.cdf(x, c = xi)\n",
    "genextreme.logcdf(x, c = xi) # for loglikelihood\n",
    "## quantile\n",
    "genextreme.ppf(genextreme.cdf(x, c = xi), c = xi) == x"
   ]
  },
  {
   "cell_type": "code",
   "execution_count": 2,
   "id": "e1aba9a8",
   "metadata": {},
   "outputs": [
    {
     "data": {
      "text/plain": [
       "array([-2.25392832, -1.0279759 , -1.01355005, -1.57022104, -1.73214358,\n",
       "       -1.38216849, -1.34088522, -2.18515039, -3.053701  , -2.13873669])"
      ]
     },
     "execution_count": 2,
     "metadata": {},
     "output_type": "execute_result"
    }
   ],
   "source": [
    "genextreme.logpdf(x, c = xi)"
   ]
  },
  {
   "cell_type": "markdown",
   "id": "3fd03fbe",
   "metadata": {},
   "source": [
    "See\n",
    "[documentation](https://scipy.github.io/devdocs/reference/stats.html#statsrefmanual)\n",
    "for more.\n",
    "\n",
    "## Optimization\n",
    "\n",
    "The `scipy.optimize` module provides unconstrained and constrained\n",
    "minimizations with the function `minimize()`.\n",
    "\n",
    "For illustration, consider the $n$-variate [Rosenbrook function](https://en.wikipedia.org/wiki/Rosenbrock_function)."
   ]
  },
  {
   "cell_type": "code",
   "execution_count": 3,
   "id": "2d115894",
   "metadata": {},
   "outputs": [],
   "source": [
    "def rosen(x, a = 1, b = 100):\n",
    "    \"\"\"The Rosenbrock function\"\"\"\n",
    "    return sum(b*(x[1:] - x[:-1]**2.0)**2.0 + (a-x[:-1])**2.0)"
   ]
  },
  {
   "cell_type": "markdown",
   "id": "23b9a956",
   "metadata": {},
   "source": [
    "The important arguments of `minimize()` are:\n",
    "\n",
    "+ `fun`: objective function\n",
    "+ `x0`: initial guess\n",
    "+ `args`: extra arguments to the objective function (and its\n",
    "  derivatives)\n",
    "+ `method`: type of solver, including `Nelder-Mead`, `BFGS`, etc.\n",
    "\n",
    "Derivatives can be supplied via `jac` and `hess`.\n",
    "\n",
    "The returned object is of type `scipy.optimize.OptimizeResult`. We\n",
    "need these attributes:\n",
    "\n",
    "+ `x`: the solution to the optimization\n",
    "+ `fun`: the value of the minimized objective function (in a\n",
    "  likelihood estimation problem, negative loglikelihood)\n",
    "+ `hess_inv`: inverse of the Hessian matrix (in a likelihood\n",
    "  estimation problem it is the variance matrix of the MLE)"
   ]
  },
  {
   "cell_type": "code",
   "execution_count": 4,
   "id": "809a0034",
   "metadata": {},
   "outputs": [
    {
     "name": "stdout",
     "output_type": "stream",
     "text": [
      "Optimization terminated successfully.\n",
      "         Current function value: 0.000000\n",
      "         Iterations: 79\n",
      "         Function evaluations: 150\n"
     ]
    },
    {
     "data": {
      "text/plain": [
       "array([1., 1.])"
      ]
     },
     "execution_count": 4,
     "metadata": {},
     "output_type": "execute_result"
    }
   ],
   "source": [
    "import numpy as np\n",
    "from scipy.optimize import minimize\n",
    "\n",
    "x0 = np.array([1.3, 0.7]) # , 0.8, 1.9, 1.2])\n",
    "res = minimize(rosen, x0,\n",
    "               method = 'Nelder-Mead',\n",
    "               options = {'xatol': 1e-8, 'disp': True})\n",
    "res.x"
   ]
  },
  {
   "cell_type": "markdown",
   "id": "49260e62",
   "metadata": {},
   "source": [
    "The Hessian matrix is not available from the Nelder-Mead method, but\n",
    "from the BFGS method. Now we use `res.x` as initial value and apply\n",
    "the BFGS method to get `hess_inv`."
   ]
  },
  {
   "cell_type": "code",
   "execution_count": 5,
   "id": "0a4a4b2d",
   "metadata": {},
   "outputs": [
    {
     "data": {
      "text/plain": [
       "array([1., 1.])"
      ]
     },
     "execution_count": 5,
     "metadata": {},
     "output_type": "execute_result"
    }
   ],
   "source": [
    "res2 = minimize(rosen, res.x, method='BFGS',\n",
    "                options = {'maxiter': 0})\n",
    "res2.x"
   ]
  },
  {
   "cell_type": "code",
   "execution_count": 6,
   "id": "609a614a",
   "metadata": {},
   "outputs": [
    {
     "data": {
      "text/plain": [
       "array([[1, 0],\n",
       "       [0, 1]])"
      ]
     },
     "execution_count": 6,
     "metadata": {},
     "output_type": "execute_result"
    }
   ],
   "source": [
    "res2.hess_inv"
   ]
  },
  {
   "cell_type": "markdown",
   "id": "10b1e718",
   "metadata": {},
   "source": [
    "Let's change the value of `a` and `b`."
   ]
  },
  {
   "cell_type": "code",
   "execution_count": 7,
   "id": "0675c9dc",
   "metadata": {},
   "outputs": [
    {
     "data": {
      "text/plain": [
       "array([3.00000422, 9.00002562])"
      ]
     },
     "execution_count": 7,
     "metadata": {},
     "output_type": "execute_result"
    }
   ],
   "source": [
    "res2 = minimize(rosen, res.x, args=(3, 100),\n",
    "                method = 'Nelder-Mead')\n",
    "res2.x"
   ]
  }
 ],
 "metadata": {
  "jupytext": {
   "text_representation": {
    "extension": ".md",
    "format_name": "myst",
    "format_version": 0.13,
    "jupytext_version": "1.11.5"
   }
  },
  "kernelspec": {
   "display_name": "Python 3",
   "language": "python",
   "name": "python3"
  },
  "language_info": {
   "codemirror_mode": {
    "name": "ipython",
    "version": 3
   },
   "file_extension": ".py",
   "mimetype": "text/x-python",
   "name": "python",
   "nbconvert_exporter": "python",
   "pygments_lexer": "ipython3",
   "version": "3.9.12"
  },
  "source_map": [
   12,
   69,
   86,
   88,
   101,
   105,
   126,
   135,
   142,
   148,
   150,
   153
  ]
 },
 "nbformat": 4,
 "nbformat_minor": 5
}