{
 "cells": [
  {
   "cell_type": "markdown",
   "id": "551b285d",
   "metadata": {},
   "source": [
    "# K Nearest Neighbor\n",
    "\n",
    "## Algorithm/Concept\n",
    "\n",
    "The (k) nearest neighbor algorithm is a supervised learning method based on the idea that \n",
    "that closer data points are more similar, and is commonly used in both regression and\n",
    "classification. In practice, this can be used to estimate missing information or predict new variables.\n",
    "\n",
    "In the regression case, values are predicted from an average of the k values closest to the data.\n",
    "For example, if you wanted to predict the weight of a new subject based on their height, from the \n",
    "k heights closest to them you would take the average of their weights as the subject's weight.\n",
    "\n",
    "For classification, assignment is based on a majority rule. If .55$k$ of the $k$ data points belong \n",
    "to Group A, the new point will also be classified as Group A. \n",
    "\n",
    "Basic Implementation:\n",
    "1. Choose an arbitrary value for k (often between 5 and 10).\n",
    "2. Fit the data to the classification or regression model.\n",
    "3. Using the k nearest training data points, categorize or predict the value of the new data point.\n",
    "4. Optimize k value from the training data and created model.\n",
    "\n",
    "## Unsupervised Nearest Neighbor\n",
    "\n",
    "While we focus on the supervised methodology, there is also an unsupervised version which uses \n",
    "different algorithms (`brute` force, `ball_tree`, or `kd_tree`) to find the k nearest neighbors, where \n",
    "efficiency is based on number of sample, value of k, data structure, etc.\n",
    "\n",
    "In Python: [`sklearn.neighbors.NearestNeighbors`](https://scikit-learn.org/stable/modules/generated/sklearn.neighbors.NearestNeighbors.html#sklearn.neighbors.NearestNeighbors)\n",
    "\n",
    "> Notes: \n",
    ">\n",
    "> An issue with k nearest neighbor is that if there is a significant difference in the number of observations \n",
    "in each group, then larger classes to to overpower smaller ones. The most common solution is to weight each \n",
    "observation, such that closer observations hold more deciding power than those further away. While this \n",
    "is especially problematic in classification, weights can be applied to regression aswell.\n",
    ">\n",
    "> The algorithm is also very sensitive to the value of k. A particularly small value of k increases the \n",
    "liklihood of overfitting the to the training data, and too large a k reduces the accuracy of the model all \n",
    "around. The model should be optimized for a value of k that minimizes error rate (RMSE or MSE).\n",
    ">\n",
    "> Categorical data would need to be encoded - converted into numerical data before use.\n",
    "\n",
    "\n",
    "In Python, the scikit-learn library contains multiple packages to implement the k \n",
    "nearest neighbor algorithm in Python. The example below uses:\n",
    "\n",
    "`model_selection`, `neighbors`, and `metrics`\n",
    "\n",
    "\n",
    "## Classification Example (Supervised)"
   ]
  },
  {
   "cell_type": "code",
   "execution_count": 1,
   "id": "1c1d0b80",
   "metadata": {},
   "outputs": [
    {
     "name": "stderr",
     "output_type": "stream",
     "text": [
      "/tmp/ipykernel_3866/3937316007.py:6: DtypeWarning: Columns (23,24,25,26,29,31,32,59,60) have mixed types. Specify dtype option on import or set low_memory=False.\n",
      "  dob_job = pd.read_csv(url)\n"
     ]
    },
    {
     "name": "stdout",
     "output_type": "stream",
     "text": [
      "<class 'pandas.core.frame.DataFrame'>\n",
      "RangeIndex: 20087 entries, 0 to 20086\n",
      "Data columns (total 96 columns):\n",
      " #   Column                         Non-Null Count  Dtype  \n",
      "---  ------                         --------------  -----  \n",
      " 0   Job #                          20087 non-null  int64  \n",
      " 1   Doc #                          20087 non-null  int64  \n",
      " 2   Borough                        20087 non-null  object \n",
      " 3   House #                        20087 non-null  object \n",
      " 4   Street Name                    20087 non-null  object \n",
      " 5   Block                          20087 non-null  int64  \n",
      " 6   Lot                            20087 non-null  int64  \n",
      " 7   Bin #                          20087 non-null  int64  \n",
      " 8   Job Type                       20087 non-null  object \n",
      " 9   Job Status                     20087 non-null  object \n",
      " 10  Job Status Descrp              20087 non-null  object \n",
      " 11  Latest Action Date             20087 non-null  object \n",
      " 12  Building Type                  20087 non-null  object \n",
      " 13  Community - Board              20086 non-null  float64\n",
      " 14  Cluster                        19926 non-null  object \n",
      " 15  Landmarked                     20067 non-null  object \n",
      " 16  Adult Estab                    19961 non-null  object \n",
      " 17  Loft Board                     19956 non-null  object \n",
      " 18  City Owned                     2382 non-null   object \n",
      " 19  Little e                       19930 non-null  object \n",
      " 20  PC Filed                       40 non-null     object \n",
      " 21  eFiling Filed                  19874 non-null  object \n",
      " 22  Plumbing                       1357 non-null   object \n",
      " 23  Mechanical                     756 non-null    object \n",
      " 24  Boiler                         142 non-null    object \n",
      " 25  Fuel Burning                   7 non-null      object \n",
      " 26  Fuel Storage                   25 non-null     object \n",
      " 27  Standpipe                      111 non-null    object \n",
      " 28  Sprinkler                      427 non-null    object \n",
      " 29  Fire Alarm                     209 non-null    object \n",
      " 30  Equipment                      862 non-null    object \n",
      " 31  Fire Suppression               19 non-null     object \n",
      " 32  Curb Cut                       88 non-null     object \n",
      " 33  Other                          17420 non-null  object \n",
      " 34  Other Description              17420 non-null  object \n",
      " 35  Applicant's First Name         20087 non-null  object \n",
      " 36  Applicant's Last Name          20087 non-null  object \n",
      " 37  Applicant Professional Title   20087 non-null  object \n",
      " 38  Applicant License #            19685 non-null  float64\n",
      " 39  Professional Cert              20062 non-null  object \n",
      " 40  Pre- Filing Date               20087 non-null  object \n",
      " 41  Paid                           20087 non-null  object \n",
      " 42  Fully Paid                     20087 non-null  object \n",
      " 43  Assigned                       18368 non-null  object \n",
      " 44  Approved                       20087 non-null  object \n",
      " 45  Fully Permitted                20087 non-null  object \n",
      " 46  Initial Cost                   20087 non-null  object \n",
      " 47  Total Est. Fee                 20087 non-null  object \n",
      " 48  Fee Status                     20087 non-null  object \n",
      " 49  Existing Zoning Sqft           20087 non-null  int64  \n",
      " 50  Proposed Zoning Sqft           20087 non-null  int64  \n",
      " 51  Horizontal Enlrgmt             769 non-null    object \n",
      " 52  Vertical Enlrgmt               585 non-null    object \n",
      " 53  Enlargement SQ Footage         20087 non-null  int64  \n",
      " 54  Street Frontage                20087 non-null  int64  \n",
      " 55  ExistingNo. of Stories         20087 non-null  int64  \n",
      " 56  Proposed No. of Stories        20087 non-null  int64  \n",
      " 57  Existing Height                20087 non-null  int64  \n",
      " 58  Proposed Height                20087 non-null  int64  \n",
      " 59  Existing Dwelling Units        14441 non-null  object \n",
      " 60  Proposed Dwelling Units        14603 non-null  object \n",
      " 61  Existing Occupancy             16999 non-null  object \n",
      " 62  Proposed Occupancy             17211 non-null  object \n",
      " 63  Site Fill                      17656 non-null  object \n",
      " 64  Zoning Dist1                   20077 non-null  object \n",
      " 65  Zoning Dist2                   1509 non-null   object \n",
      " 66  Zoning Dist3                   71 non-null     object \n",
      " 67  Special District 1             3087 non-null   object \n",
      " 68  Special District 2             4241 non-null   object \n",
      " 69  Owner Type                     20087 non-null  object \n",
      " 70  Non-Profit                     20087 non-null  object \n",
      " 71  Owner's First Name             20087 non-null  object \n",
      " 72  Owner's Last Name              20085 non-null  object \n",
      " 73  Owner's Business Name          11325 non-null  object \n",
      " 74  Owner's House Number           0 non-null      float64\n",
      " 75  Owner'sHouse Street Name       0 non-null      float64\n",
      " 76  City                           0 non-null      float64\n",
      " 77  State                          0 non-null      float64\n",
      " 78  Zip                            0 non-null      float64\n",
      " 79  Owner'sPhone #                 20087 non-null  int64  \n",
      " 80  Job Description                17609 non-null  object \n",
      " 81  DOBRunDate                     20087 non-null  object \n",
      " 82  JOB_S1_NO                      20087 non-null  int64  \n",
      " 83  TOTAL_CONSTRUCTION_FLOOR_AREA  20087 non-null  int64  \n",
      " 84  WITHDRAWAL_FLAG                20087 non-null  int64  \n",
      " 85  SIGNOFF_DATE                   6598 non-null   object \n",
      " 86  SPECIAL_ACTION_STATUS          19934 non-null  object \n",
      " 87  SPECIAL_ACTION_DATE            36 non-null     object \n",
      " 88  BUILDING_CLASS                 19998 non-null  object \n",
      " 89  JOB_NO_GOOD_COUNT              20087 non-null  int64  \n",
      " 90  GIS_LATITUDE                   19974 non-null  float64\n",
      " 91  GIS_LONGITUDE                  19974 non-null  float64\n",
      " 92  GIS_COUNCIL_DISTRICT           19974 non-null  float64\n",
      " 93  GIS_CENSUS_TRACT               19974 non-null  float64\n",
      " 94  GIS_NTA_NAME                   19974 non-null  object \n",
      " 95  GIS_BIN                        19351 non-null  float64\n",
      "dtypes: float64(12), int64(18), object(66)\n",
      "memory usage: 14.7+ MB\n"
     ]
    }
   ],
   "source": [
    "import pandas as pd\n",
    "\n",
    "url = \\\n",
    "'https://raw.githubusercontent.com/statds/ids-s22/main/notes/data/nyc_DobJobApp_2021.csv'\n",
    "    \n",
    "dob_job = pd.read_csv(url)\n",
    "\n",
    "dob_job.info()"
   ]
  },
  {
   "cell_type": "markdown",
   "id": "b62f3bbb",
   "metadata": {},
   "source": [
    "In the below example, we will be using a subset of the DOB Job Application dataset,\n",
    "for plumbing jobs that occurred in family homes."
   ]
  },
  {
   "cell_type": "code",
   "execution_count": 2,
   "id": "5e697fc2",
   "metadata": {},
   "outputs": [
    {
     "data": {
      "text/html": [
       "<div>\n",
       "<style scoped>\n",
       "    .dataframe tbody tr th:only-of-type {\n",
       "        vertical-align: middle;\n",
       "    }\n",
       "\n",
       "    .dataframe tbody tr th {\n",
       "        vertical-align: top;\n",
       "    }\n",
       "\n",
       "    .dataframe thead th {\n",
       "        text-align: right;\n",
       "    }\n",
       "</style>\n",
       "<table border=\"1\" class=\"dataframe\">\n",
       "  <thead>\n",
       "    <tr style=\"text-align: right;\">\n",
       "      <th></th>\n",
       "      <th>Total Est. Fee</th>\n",
       "      <th>Borough</th>\n",
       "      <th>Job Type</th>\n",
       "      <th>Job Status</th>\n",
       "      <th>Building Type</th>\n",
       "      <th>Latest Action Date</th>\n",
       "      <th>GIS_LATITUDE</th>\n",
       "      <th>GIS_LONGITUDE</th>\n",
       "    </tr>\n",
       "  </thead>\n",
       "  <tbody>\n",
       "    <tr>\n",
       "      <th>43</th>\n",
       "      <td>$526.55</td>\n",
       "      <td>BROOKLYN</td>\n",
       "      <td>A2</td>\n",
       "      <td>X</td>\n",
       "      <td>1-2-3 FAMILY</td>\n",
       "      <td>08/05/2021</td>\n",
       "      <td>40.675306</td>\n",
       "      <td>-73.930515</td>\n",
       "    </tr>\n",
       "    <tr>\n",
       "      <th>45</th>\n",
       "      <td>$371.80</td>\n",
       "      <td>QUEENS</td>\n",
       "      <td>A2</td>\n",
       "      <td>R</td>\n",
       "      <td>1-2-3 FAMILY</td>\n",
       "      <td>04/29/2021</td>\n",
       "      <td>40.776331</td>\n",
       "      <td>-73.912295</td>\n",
       "    </tr>\n",
       "    <tr>\n",
       "      <th>47</th>\n",
       "      <td>$400.36</td>\n",
       "      <td>QUEENS</td>\n",
       "      <td>NB</td>\n",
       "      <td>R</td>\n",
       "      <td>1-2-3 FAMILY</td>\n",
       "      <td>05/27/2021</td>\n",
       "      <td>40.759226</td>\n",
       "      <td>-73.858075</td>\n",
       "    </tr>\n",
       "    <tr>\n",
       "      <th>50</th>\n",
       "      <td>$2740.20</td>\n",
       "      <td>MANHATTAN</td>\n",
       "      <td>A1</td>\n",
       "      <td>R</td>\n",
       "      <td>1-2-3 FAMILY</td>\n",
       "      <td>04/29/2021</td>\n",
       "      <td>40.737608</td>\n",
       "      <td>-74.002699</td>\n",
       "    </tr>\n",
       "    <tr>\n",
       "      <th>54</th>\n",
       "      <td>$262.60</td>\n",
       "      <td>BROOKLYN</td>\n",
       "      <td>A2</td>\n",
       "      <td>R</td>\n",
       "      <td>1-2-3 FAMILY</td>\n",
       "      <td>04/29/2021</td>\n",
       "      <td>40.588934</td>\n",
       "      <td>-73.988155</td>\n",
       "    </tr>\n",
       "  </tbody>\n",
       "</table>\n",
       "</div>"
      ],
      "text/plain": [
       "   Total Est. Fee    Borough Job Type Job Status Building Type  \\\n",
       "43        $526.55   BROOKLYN       A2          X  1-2-3 FAMILY   \n",
       "45        $371.80     QUEENS       A2          R  1-2-3 FAMILY   \n",
       "47        $400.36     QUEENS       NB          R  1-2-3 FAMILY   \n",
       "50       $2740.20  MANHATTAN       A1          R  1-2-3 FAMILY   \n",
       "54        $262.60   BROOKLYN       A2          R  1-2-3 FAMILY   \n",
       "\n",
       "   Latest Action Date  GIS_LATITUDE  GIS_LONGITUDE  \n",
       "43         08/05/2021     40.675306     -73.930515  \n",
       "45         04/29/2021     40.776331     -73.912295  \n",
       "47         05/27/2021     40.759226     -73.858075  \n",
       "50         04/29/2021     40.737608     -74.002699  \n",
       "54         04/29/2021     40.588934     -73.988155  "
      ]
     },
     "execution_count": 2,
     "metadata": {},
     "output_type": "execute_result"
    }
   ],
   "source": [
    "plumbing_job = dob_job[(dob_job['Plumbing'] == 'X') & \n",
    "                       (dob_job['Building Type'] == '1-2-3 FAMILY')]\n",
    "\n",
    "plumbing_job = plumbing_job[['Total Est. Fee', 'Borough', 'Job Type', 'Job Status', \n",
    "                    'Building Type','Latest Action Date', 'GIS_LATITUDE', \n",
    "                    'GIS_LONGITUDE']]\n",
    "\n",
    "plumbing_job = plumbing_job.dropna()\n",
    "\n",
    "plumbing_job.head()"
   ]
  },
  {
   "cell_type": "markdown",
   "id": "e9040fa2",
   "metadata": {},
   "source": [
    "We want to try to predict the borough based on the estimated cost of the job.\n",
    "First we check for an association between variables."
   ]
  },
  {
   "cell_type": "code",
   "execution_count": 3,
   "id": "0a2b8a43",
   "metadata": {},
   "outputs": [
    {
     "data": {
      "text/plain": [
       "0.0002851383836738717"
      ]
     },
     "execution_count": 3,
     "metadata": {},
     "output_type": "execute_result"
    }
   ],
   "source": [
    "import scipy.stats as ss\n",
    "\n",
    "plumbing_job['Fee Est.'] = [float(val.strip('$')) for val in plumbing_job['Total Est. Fee']]\n",
    "est_fee = pd.crosstab(plumbing_job['Fee Est.'], plumbing_job['Borough'])\n",
    "est_fee\n",
    "\n",
    "chi2, p, dof, ex = ss.chi2_contingency(est_fee)\n",
    "p"
   ]
  },
  {
   "cell_type": "code",
   "execution_count": 4,
   "id": "8cad883a",
   "metadata": {},
   "outputs": [
    {
     "name": "stderr",
     "output_type": "stream",
     "text": [
      "/home/runner/work/ids-s22/ids-s22/env/lib/python3.9/site-packages/seaborn/_decorators.py:36: FutureWarning: Pass the following variables as keyword args: x, y. From version 0.12, the only valid positional argument will be `data`, and passing other arguments without an explicit keyword will result in an error or misinterpretation.\n",
      "  warnings.warn(\n"
     ]
    },
    {
     "data": {
      "text/plain": [
       "<AxesSubplot:xlabel='Fee Est.', ylabel='Borough'>"
      ]
     },
     "execution_count": 4,
     "metadata": {},
     "output_type": "execute_result"
    },
    {
     "data": {
      "image/png": "[encoded data removed]",
      "text/plain": [
       "<Figure size 432x288 with 1 Axes>"
      ]
     },
     "metadata": {
      "filenames": {
       "image/png": "/home/runner/work/ids-s22/ids-s22/notes/_build/jupyter_execute/docs/nearest_neighbor_6_2.png"
      },
      "needs_background": "light"
     },
     "output_type": "display_data"
    }
   ],
   "source": [
    "import seaborn as sns\n",
    "\n",
    "sns.boxplot(plumbing_job['Fee Est.'], plumbing_job['Borough'])"
   ]
  },
  {
   "cell_type": "code",
   "execution_count": 5,
   "id": "56b65519",
   "metadata": {},
   "outputs": [
    {
     "data": {
      "text/plain": [
       "{'BROOKLYN': Borough\n",
       " False    380\n",
       " True     180\n",
       " dtype: int64,\n",
       " 'QUEENS': Borough\n",
       " False    335\n",
       " True     225\n",
       " dtype: int64,\n",
       " 'MANHATTAN': Borough\n",
       " False    546\n",
       " True      14\n",
       " dtype: int64,\n",
       " 'STATEN ISLAND': Borough\n",
       " False    446\n",
       " True     114\n",
       " dtype: int64,\n",
       " 'BRONX': Borough\n",
       " False    533\n",
       " True      27\n",
       " dtype: int64}"
      ]
     },
     "execution_count": 5,
     "metadata": {},
     "output_type": "execute_result"
    }
   ],
   "source": [
    "name_dict = {'BROOKLYN':0, 'QUEENS':0, 'MANHATTAN':0, 'STATEN ISLAND':0, 'BRONX':0}\n",
    "\n",
    "for key, value in name_dict.items():\n",
    "    new_value = plumbing_job.value_counts(plumbing_job['Borough'] == key)\n",
    "    name_dict[key] = new_value\n",
    "    \n",
    "name_dict"
   ]
  },
  {
   "cell_type": "markdown",
   "id": "08389baa",
   "metadata": {},
   "source": [
    "Since there is a signifcant difference in the number of observations for each borough,\n",
    "and much of the data appears to overlap, we will create two classifiers, weighted and \n",
    "unweighted. This will hopefully help reduce boroughs with fewer observations from being\n",
    "hidden by larger boroughs."
   ]
  },
  {
   "cell_type": "code",
   "execution_count": 6,
   "id": "ce3b4b75",
   "metadata": {},
   "outputs": [
    {
     "name": "stdout",
     "output_type": "stream",
     "text": [
      "['BROOKLYN']\n",
      "['QUEENS']\n"
     ]
    },
    {
     "name": "stderr",
     "output_type": "stream",
     "text": [
      "/home/runner/work/ids-s22/ids-s22/env/lib/python3.9/site-packages/sklearn/base.py:450: UserWarning: X does not have valid feature names, but KNeighborsClassifier was fitted with feature names\n",
      "  warnings.warn(\n",
      "/home/runner/work/ids-s22/ids-s22/env/lib/python3.9/site-packages/sklearn/base.py:450: UserWarning: X does not have valid feature names, but KNeighborsClassifier was fitted with feature names\n",
      "  warnings.warn(\n"
     ]
    }
   ],
   "source": [
    "import matplotlib.pyplot as plt\n",
    "from sklearn import neighbors\n",
    "from sklearn.model_selection import train_test_split\n",
    "\n",
    "x = plumbing_job[['Fee Est.']]\n",
    "y = plumbing_job['Borough']\n",
    "\n",
    "xtrain, xtest, ytrain, ytest = train_test_split(x, y, random_state = 100)\n",
    "\n",
    "# train_test_split = separates data into test and training subsets \n",
    "\n",
    "knn = neighbors.KNeighborsClassifier()\n",
    "knn.fit(x, y)\n",
    "print(knn.predict([[750]]))\n",
    "\n",
    "knn_weight = neighbors.KNeighborsClassifier(weights='distance')\n",
    "knn_weight.fit(x, y)\n",
    "print(knn_weight.predict([[750]]))"
   ]
  },
  {
   "cell_type": "code",
   "execution_count": 7,
   "id": "7a839714",
   "metadata": {},
   "outputs": [
    {
     "name": "stdout",
     "output_type": "stream",
     "text": [
      "0.6285714285714286\n",
      "0.9\n"
     ]
    }
   ],
   "source": [
    "from sklearn.metrics import accuracy_score\n",
    "\n",
    "predictions1 = knn.predict(xtest)\n",
    "predictions2 = knn_weight.predict(xtest)\n",
    "print(accuracy_score(ytest, predictions1))\n",
    "print(accuracy_score(ytest, predictions2))"
   ]
  },
  {
   "cell_type": "markdown",
   "id": "502b354f",
   "metadata": {},
   "source": [
    "This gives the prediction accuracy from the test data. Factoring in weights for\n",
    "the data points seems to have greatly improved the accuracy of the classification.\n",
    "\n",
    "\n",
    "GridSearchCV is used to find the best k value from a dictionary of potential values.\n",
    "It is the alternative to calculating the validation error (RMSE) for all k.\n",
    "The value of k must be chosen carefully to avoid overfitting or weakened performance."
   ]
  },
  {
   "cell_type": "code",
   "execution_count": 8,
   "id": "1ed5cde5",
   "metadata": {},
   "outputs": [
    {
     "data": {
      "text/plain": [
       "{'n_neighbors': 7}"
      ]
     },
     "execution_count": 8,
     "metadata": {},
     "output_type": "execute_result"
    }
   ],
   "source": [
    "from sklearn.model_selection import GridSearchCV\n",
    "pars = {'n_neighbors':[1,2,3,4,5,6,7,8,9,10]}\n",
    "\n",
    "model = GridSearchCV(knn, pars)\n",
    "model.fit(xtrain, ytrain)\n",
    "model.best_params_"
   ]
  },
  {
   "cell_type": "markdown",
   "id": "478055a3",
   "metadata": {},
   "source": [
    "[More about nearest neighbor](https://scikit-learn.org/stable/modules/neighbors.html)  \n",
    "[More about GridSearchCV](https://scikit-learn.org/stable/modules/generated/sklearn.model_selection.GridSearchCV.html)"
   ]
  }
 ],
 "metadata": {
  "jupytext": {
   "text_representation": {
    "extension": ".md",
    "format_name": "myst",
    "format_version": 0.13,
    "jupytext_version": "1.11.5"
   }
  },
  "kernelspec": {
   "display_name": "Python 3",
   "language": "python",
   "name": "python3"
  },
  "language_info": {
   "codemirror_mode": {
    "name": "ipython",
    "version": 3
   },
   "file_extension": ".py",
   "mimetype": "text/x-python",
   "name": "python",
   "nbconvert_exporter": "python",
   "pygments_lexer": "ipython3",
   "version": "3.9.12"
  },
  "source_map": [
   12,
   65,
   74,
   79,
   90,
   95,
   106,
   112,
   120,
   127,
   148,
   155,
   165,
   172
  ]
 },
 "nbformat": 4,
 "nbformat_minor": 5
}