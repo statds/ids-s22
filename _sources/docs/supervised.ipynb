{
 "cells": [
  {
   "cell_type": "markdown",
   "id": "4cafc9f8",
   "metadata": {},
   "source": [
    "(supervised)=\n",
    "\n",
    "# Supervised Learning\n",
    "\n",
    "Supervised learning uses labeled datasets to train algorithms that to classify\n",
    "data or predict outcomes accurately. As input data is fed into the model, it\n",
    "adjusts its weights until the model has been fitted appropriately, which occurs\n",
    "as part of the cross validation process.\n",
    "\n",
    "\n",
    "In contrast, unsupervised learning uses unlabeled data to discover patterns that\n",
    "help solve for clustering or association problems. This is particularly useful\n",
    "when subject matter experts are unsure of common properties within a data set.\n",
    "\n",
    "\n",
    "## The `scikit-learn` Package\n",
    "\n",
    "One of the best known package for machine learning is `scikit-learn`.\n",
    "It provides efficient versions of a large number of common algorithms with a\n",
    "clean, iuniform, and streamlined API. \n",
    "\n",
    "To install with `pip`:\n",
    "`pip install scikit-learn`\n",
    "\n",
    "\n",
    "Note that `sklearn` and `scikit-learn` both refer to the same package.\n",
    "\n",
    "For better-looking visualizations, we need the `graphviz` package. It can be\n",
    "installed with `conda` easily:\n",
    "`conda install python-graphviz`. \n",
    "To install with `pip`, the system library `graphviz` needs to be\n",
    "installed first. On a Mac, for example, one could do so with \n",
    "`brew install graphviz`. \n",
    "Then the `graphviz` Python package can be installed with\n",
    "`pip install graphviz`."
   ]
  }
 ],
 "metadata": {
  "jupytext": {
   "text_representation": {
    "extension": ".md",
    "format_name": "myst",
    "format_version": 0.13,
    "jupytext_version": "1.11.5"
   }
  },
  "kernelspec": {
   "display_name": "Python 3 (ipykernel)",
   "language": "python",
   "name": "python3"
  },
  "language_info": {
   "codemirror_mode": {
    "name": "ipython",
    "version": 3
   },
   "file_extension": ".py",
   "mimetype": "text/x-python",
   "name": "python",
   "nbconvert_exporter": "python",
   "pygments_lexer": "ipython3",
   "version": "3.9.12"
  },
  "source_map": [
   12
  ]
 },
 "nbformat": 4,
 "nbformat_minor": 5
}