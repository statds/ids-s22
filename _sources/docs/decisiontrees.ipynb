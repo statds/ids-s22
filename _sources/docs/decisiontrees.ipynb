{
 "cells": [
  {
   "cell_type": "markdown",
   "id": "ce09074b",
   "metadata": {},
   "source": [
    "# Decision Trees\n",
    "\n",
    "Decision trees are a predictive modeling approach that uses probability trees to either predict a continous value or predict a classification that the data fits into. \n",
    "\n",
    "**Pros:**\n",
    "\n",
    "* Easy to understand and visualize\n",
    "* Easy to figure out why the model is making a certain prediction\n",
    "* Doesn't need as much data preparation as other prediction methods\n",
    "\n",
    "**Cons:**\n",
    "* Sometimes decision trees can get too complex and overfit the data\n",
    "* Small variations in the data could cause different trees to be created which can drastically change the model's output\n",
    "\n",
    "There are many packages in Python for tree-based prediction models but we will focus on `scikit-learn`\n",
    "\n",
    "## Installing Packages\n",
    "\n",
    "`pip install scikit-learn`\n",
    "\n",
    "Then you are able to import the package with the `tree` function\n",
    "\n",
    "Note: sklearn and scikit-learn both refer to the same package\n",
    "\n",
    "Then we need to install graphviz in order to make better looking visualizations\n",
    "`conda install python-graphviz`\n",
    "\n",
    "## Simple Classification Example:"
   ]
  },
  {
   "cell_type": "code",
   "execution_count": null,
   "id": "5f82964b",
   "metadata": {},
   "outputs": [],
   "source": [
    "from sklearn.datasets import load_iris\n",
    "from sklearn import tree\n",
    "iris = load_iris()\n",
    "X, y = iris.data, iris.target\n",
    "clf = tree.DecisionTreeClassifier()\n",
    "clf = clf.fit(X, y)\n",
    "tree.plot_tree(clf)"
   ]
  },
  {
   "cell_type": "markdown",
   "id": "7688e9dd",
   "metadata": {},
   "source": [
    "## Data Cleaning:\n",
    "\n",
    "Import data and add a binary column for if a person was injured or not\n",
    "\n",
    "Can't use strings in decision trees so to fix this we can change each borough to a number\n",
    "EX: Bronx = 1, Brooklyn = 2"
   ]
  },
  {
   "cell_type": "code",
   "execution_count": null,
   "id": "f00eab3c",
   "metadata": {},
   "outputs": [],
   "source": [
    "import pandas as pd\n",
    "import numpy as np\n",
    "\n",
    "nyc_collisions = pd.read_csv(\"../data/nyc_mv_collisions_202201.csv\")\n",
    "\n",
    "nyc_collisions[\"time\"] = [x.split(\":\")[0] for x in nyc_collisions[\"CRASH TIME\"]]\n",
    "nyc_collisions[\"time\"] = [int(x) for x in nyc_collisions[\"time\"]]\n",
    "\n",
    "nyc_collisions[\"injury_binary\"] = nyc_collisions[\"NUMBER OF PERSONS INJURED\"].map(lambda x: 1 if x>0 else 0)\n",
    "nyc_collisions[\"num_borough\"] = nyc_collisions[\"BOROUGH\"].map(lambda x: 1 if x==\"BRONX\" else 0)\n",
    "nyc_collisions[\"num_borough\"] = nyc_collisions[\"BOROUGH\"].map(lambda x: 2 if x==\"BROOKLYN\" else 0)\n",
    "nyc_collisions[\"num_borough\"] = nyc_collisions[\"BOROUGH\"].map(lambda x: 3 if x==\"QUEENS\" else 0)\n",
    "nyc_collisions[\"num_borough\"] = nyc_collisions[\"BOROUGH\"].map(lambda x: 4 if x==\"MANHATTAN\" else 0)\n",
    "nyc_collisions[\"num_borough\"] = nyc_collisions[\"BOROUGH\"].map(lambda x: 5 if x==\"STATEN ISLAND\" else 0)\n",
    "\n",
    "nyc_collisions.rename(columns={\"NUMBER OF PERSONS KILLED\": \"num_ppl_killed\"}, inplace=True)\n",
    "nyc_collisions.rename(columns={\"NUMBER OF PERSONS INJURED\": \"num_ppl_injured\"}, inplace=True)\n",
    "\n",
    "\n",
    "\n",
    "nyc_collisions['injury_binary'].value_counts()"
   ]
  },
  {
   "cell_type": "markdown",
   "id": "303808b3",
   "metadata": {},
   "source": [
    "## Classification Decision Tree Model\n",
    "Select columns to use in our decision tree model. \n",
    "\n",
    "Don't want to use columns such as number of pedestrians injured because that heavily affects our target variable\n",
    "\n",
    "We also split our dataset into a training set and a test set to avoid overfitting the data\n",
    "\n",
    "We are trying to predict if someone was injured or not in a crash using all of the columns in `feature_cols`"
   ]
  },
  {
   "cell_type": "code",
   "execution_count": null,
   "id": "23039f23",
   "metadata": {},
   "outputs": [],
   "source": [
    "from sklearn.model_selection import train_test_split # Import train_test_split function\n",
    "from sklearn import tree\n",
    "from sklearn import metrics\n",
    "from sklearn.metrics import classification_report, confusion_matrix\n",
    "\n",
    "feature_cols = ['time', 'num_borough', 'NUMBER OF MOTORIST KILLED','NUMBER OF CYCLIST KILLED',\n",
    "               'NUMBER OF PEDESTRIANS KILLED']\n",
    "x = nyc_collisions[feature_cols] # Features\n",
    "y = nyc_collisions.injury_binary # Target variable\n",
    "\n",
    "x_train, x_test, y_train, y_test = train_test_split(x, y, test_size=0.2, random_state=12) # 80% training and 20% test"
   ]
  },
  {
   "cell_type": "markdown",
   "id": "f089b460",
   "metadata": {},
   "source": [
    "We then set up our decision tree and use it to predict on the test set. This example is a classification\n",
    "example so it will predict a 0 or 1 based on if someone was injured or not in the crash (1=injured)\n",
    "\n",
    "We then can print out the accuracy of our model and a confusion matrix to see its predictions"
   ]
  },
  {
   "cell_type": "code",
   "execution_count": null,
   "id": "a495b5a3",
   "metadata": {},
   "outputs": [],
   "source": [
    "clf = tree.DecisionTreeClassifier()\n",
    "\n",
    "# Train Decision Tree Classifer\n",
    "clf = clf.fit(x_train,y_train)\n",
    "\n",
    "#Predict the response for test dataset\n",
    "y_pred = clf.predict(x_test)\n",
    "\n",
    "print(\"Accuracy:\",metrics.accuracy_score(y_test, y_pred))\n",
    "\n",
    "print(confusion_matrix(y_test, y_pred))"
   ]
  },
  {
   "cell_type": "markdown",
   "id": "5642d0b7",
   "metadata": {},
   "source": [
    "We can plot this model using the sklearn plotting function"
   ]
  },
  {
   "cell_type": "code",
   "execution_count": null,
   "id": "68626237",
   "metadata": {},
   "outputs": [],
   "source": [
    "tree.plot_tree(clf)"
   ]
  },
  {
   "cell_type": "markdown",
   "id": "d8090960",
   "metadata": {},
   "source": [
    "We can plot this same exact model using the graphviz package and we see it looks much better"
   ]
  },
  {
   "cell_type": "code",
   "execution_count": null,
   "id": "3f414baf",
   "metadata": {},
   "outputs": [],
   "source": [
    "import graphviz\n",
    "dot_data = tree.export_graphviz(clf, out_file=None, \n",
    "                                feature_names=feature_cols,  \n",
    "                                class_names=None,\n",
    "                                filled=True, rounded=True,  \n",
    "                      special_characters=True)\n",
    "\n",
    "# Draw graph\n",
    "graph = graphviz.Source(dot_data, format=\"png\") \n",
    "graph"
   ]
  },
  {
   "cell_type": "markdown",
   "id": "a4bc6e34",
   "metadata": {},
   "source": [
    "We can run this exact same decision tree but try to optimize its performance by changing parameters\n",
    "such as max_depth to set how many layers our tree is able to go until"
   ]
  },
  {
   "cell_type": "code",
   "execution_count": null,
   "id": "bf2476d3",
   "metadata": {},
   "outputs": [],
   "source": [
    "from sklearn.model_selection import train_test_split # Import train_test_split function\n",
    "from sklearn import tree\n",
    "from sklearn import metrics\n",
    "from sklearn.metrics import classification_report, confusion_matrix\n",
    "\n",
    "feature_cols = ['time', 'num_borough', 'NUMBER OF MOTORIST KILLED','NUMBER OF CYCLIST KILLED',\n",
    "               'NUMBER OF PEDESTRIANS KILLED']\n",
    "x = nyc_collisions[feature_cols] # Features\n",
    "y = nyc_collisions.injury_binary # Target variable\n",
    "\n",
    "x_train, x_test, y_train, y_test = train_test_split(x, y, test_size=0.2, random_state=12) # 80% training and 20% test\n",
    "\n",
    "clf = tree.DecisionTreeClassifier(max_depth=3)\n",
    "\n",
    "# Train Decision Tree Classifer\n",
    "clf = clf.fit(x_train,y_train)\n",
    "\n",
    "#Predict the response for test dataset\n",
    "y_pred = clf.predict(x_test)\n",
    "\n",
    "print(\"Accuracy:\",metrics.accuracy_score(y_test, y_pred))\n",
    "\n",
    "print(confusion_matrix(y_test, y_pred))"
   ]
  },
  {
   "cell_type": "markdown",
   "id": "0703619d",
   "metadata": {},
   "source": [
    "We can see this change visually by re-running our code to graph the tree"
   ]
  },
  {
   "cell_type": "code",
   "execution_count": null,
   "id": "0b214b6f",
   "metadata": {},
   "outputs": [],
   "source": [
    "dot_data = tree.export_graphviz(clf, out_file=None, \n",
    "                                feature_names=feature_cols,  \n",
    "                                class_names=None,\n",
    "                                filled=True, rounded=True,  \n",
    "                      special_characters=True)\n",
    "\n",
    "# Draw graph\n",
    "graph = graphviz.Source(dot_data, format=\"png\") \n",
    "graph"
   ]
  },
  {
   "cell_type": "markdown",
   "id": "e16af772",
   "metadata": {},
   "source": [
    "## Regression Decision Tree Model\n",
    "\n",
    "In this example instead of classying a target variable into 0 or 1 we will use a decision tree for regression\n",
    "\n",
    "The set-up is exactly the same as classification where we select feature columns, a target variable\n",
    "and split the data into a training and test data set"
   ]
  },
  {
   "cell_type": "code",
   "execution_count": null,
   "id": "8141af1f",
   "metadata": {},
   "outputs": [],
   "source": [
    "from sklearn.model_selection import train_test_split # Import train_test_split function\n",
    "from sklearn import tree\n",
    "from sklearn import metrics\n",
    "\n",
    "feature_cols2 = ['time', 'num_borough', 'NUMBER OF MOTORIST KILLED','NUMBER OF CYCLIST KILLED',\n",
    "               'NUMBER OF PEDESTRIANS KILLED']\n",
    "x = nyc_collisions[feature_cols2] # Features\n",
    "y = nyc_collisions.num_ppl_injured  #Target variable\n",
    "\n",
    "x_train, x_test, y_train, y_test = train_test_split(x, y, test_size=0.2, random_state=12) # 80% training and 20% test"
   ]
  },
  {
   "cell_type": "markdown",
   "id": "63df849d",
   "metadata": {},
   "source": [
    "In a classification problem we can use accuracy and a confusion matrix to gauge a model's effectiveness but \n",
    "that is not the case in a regression problem. \n",
    "\n",
    "Here we use mean absolute error to judge our model\n",
    "\n",
    "To show what the model is doing, we create another variable for the absolute value of the difference between\n",
    "the actual and predicted values."
   ]
  },
  {
   "cell_type": "code",
   "execution_count": null,
   "id": "019f3f68",
   "metadata": {},
   "outputs": [],
   "source": [
    "rgr = tree.DecisionTreeRegressor()\n",
    "\n",
    "# Train Decision Tree Regressor\n",
    "rgr = rgr.fit(x_train,y_train)\n",
    "\n",
    "#Predict the response for test dataset\n",
    "y_pred = rgr.predict(x_test)\n",
    "\n",
    "df=pd.DataFrame({'Actual':y_test, 'Predicted':y_pred})\n",
    "df[\"diff\"] = abs(df[\"Actual\"] - df[\"Predicted\"])\n",
    "df.sort_values(by=['diff'], inplace=True)\n",
    "\n",
    "print('Mean Absolute Error:', metrics.mean_absolute_error(y_test, y_pred))\n",
    "\n",
    "df.head()"
   ]
  },
  {
   "cell_type": "markdown",
   "id": "e2f66fae",
   "metadata": {},
   "source": [
    "Here we can sort by descending order to show which of our predictions were the worst."
   ]
  },
  {
   "cell_type": "code",
   "execution_count": null,
   "id": "1ef884b5",
   "metadata": {},
   "outputs": [],
   "source": [
    "df.sort_values(by=['diff'], ascending=False,inplace=True)\n",
    "df.head()"
   ]
  },
  {
   "cell_type": "markdown",
   "id": "8626b520",
   "metadata": {},
   "source": [
    "Similarly to a classification problem we can still plot the resulting decision tree"
   ]
  },
  {
   "cell_type": "code",
   "execution_count": null,
   "id": "18d7eee8",
   "metadata": {},
   "outputs": [],
   "source": [
    "dot_data = tree.export_graphviz(rgr, out_file=None, \n",
    "                                feature_names=feature_cols2,  \n",
    "                                class_names=None,\n",
    "                                filled=True, rounded=True,  \n",
    "                      special_characters=True)\n",
    "\n",
    "# Draw graph\n",
    "graph = graphviz.Source(dot_data, format=\"png\") \n",
    "graph)"
   ]
  }
 ],
 "metadata": {
  "jupytext": {
   "text_representation": {
    "extension": ".md",
    "format_name": "myst",
    "format_version": 0.13,
    "jupytext_version": "1.11.5"
   }
  },
  "kernelspec": {
   "display_name": "Python 3 (ipykernel)",
   "language": "python",
   "name": "python3"
  },
  "source_map": [
   12,
   43,
   51,
   60,
   82,
   93,
   105,
   112,
   124,
   128,
   130,
   134,
   145,
   150,
   174,
   178,
   188,
   197,
   208,
   218,
   234,
   238,
   241,
   245
  ]
 },
 "nbformat": 4,
 "nbformat_minor": 5
}