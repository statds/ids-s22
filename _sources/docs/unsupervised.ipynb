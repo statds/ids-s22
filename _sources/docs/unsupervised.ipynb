{
 "cells": [
  {
   "cell_type": "markdown",
   "id": "f8db1d58",
   "metadata": {},
   "source": [
    "(unsupervised)=\n",
    "\n",
    "# Unsupervised Learning\n",
    "\n",
    "Unsupervised Learning handles the learning problem where the data are unlabeled.\n",
    "It allows the model to work on its own to discover patterns and information that\n",
    "are undiscovered."
   ]
  }
 ],
 "metadata": {
  "jupytext": {
   "text_representation": {
    "extension": ".md",
    "format_name": "myst",
    "format_version": 0.13,
    "jupytext_version": "1.11.5"
   }
  },
  "kernelspec": {
   "display_name": "Python 3 (ipykernel)",
   "language": "python",
   "name": "python3"
  },
  "language_info": {
   "codemirror_mode": {
    "name": "ipython",
    "version": 3
   },
   "file_extension": ".py",
   "mimetype": "text/x-python",
   "name": "python",
   "nbconvert_exporter": "python",
   "pygments_lexer": "ipython3",
   "version": "3.9.12"
  },
  "source_map": [
   12
  ]
 },
 "nbformat": 4,
 "nbformat_minor": 5
}