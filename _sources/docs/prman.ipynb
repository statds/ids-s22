{
 "cells": [
  {
   "cell_type": "markdown",
   "id": "11edd64f",
   "metadata": {},
   "source": [
    "(prman)=\n",
    "\n",
    "# Project Management\n",
    "\n",
    "## Reproducible Data Science Project\n",
    "\n",
    "### Using Virtual Environment for Python\n",
    "\n",
    "It is a good practice to set up and use virtual environments for Python (or R) projects.\n",
    "See a tutorial of virtual environments at [Python Docs](https://docs.python.org/3/tutorial/venv.html).\n",
    "\n",
    "### Using Jupyter Notebook\n",
    "+ File name extension `.ipynb`\n",
    "+ Separate code chunks and companion texts\n",
    "+ Test and edit until the whole notebook runs as expected\n",
    "+ Download the notebook into a pdf file (for GitHub project release)\n",
    "\n",
    "###  Using `python` Engine in `RMarkdown`\n",
    "+ Find a Markdown cheatsheet\n",
    "+ Install R `reticulate` package\n",
    "+ See example in `hw-rmkdn.Rmd` in the repo\n",
    "\n",
    "\n",
    "## Setting up a Git Repo\n",
    "\n",
    "+ See documentations at [GitHub Docs](https://docs.github.com/).\n",
    "+ Demonstration with homework template\n",
    "\n",
    "## Styles\n",
    "\n",
    "### Programming\n",
    "\n",
    "+ Naming\n",
    "    - file/folder\n",
    "    - variables\n",
    "    - functions\n",
    "    - modules/packages\n",
    "+ Spacing\n",
    "+ Indentation\n",
    "\n",
    "Google code recommendations:\n",
    "<https://code.google.com/archive/p/soc/wikis/PythonStyleGuide.wiki>\n",
    "\n",
    "### Git Repo\n",
    "\n",
    "+ Frequent commit (more snapshots)\n",
    "+ Informative message\n",
    "+ Keep it clean (no temporary or generated files)\n",
    "+ Make it reproducible (e.g., relative path)"
   ]
  }
 ],
 "metadata": {
  "jupytext": {
   "text_representation": {
    "extension": ".md",
    "format_name": "myst"
   }
  },
  "kernelspec": {
   "display_name": "Python 3",
   "language": "python",
   "name": "python3"
  },
  "language_info": {
   "codemirror_mode": {
    "name": "ipython",
    "version": 3
   },
   "file_extension": ".py",
   "mimetype": "text/x-python",
   "name": "python",
   "nbconvert_exporter": "python",
   "pygments_lexer": "ipython3",
   "version": "3.9.12"
  },
  "source_map": [
   10
  ]
 },
 "nbformat": 4,
 "nbformat_minor": 5
}