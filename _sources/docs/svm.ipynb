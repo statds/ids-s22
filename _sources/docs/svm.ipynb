{
 "cells": [
  {
   "cell_type": "markdown",
   "id": "8e064ac6",
   "metadata": {},
   "source": [
    "## Support Vector Machines\n",
    "\n",
    ">Support vector machines (SVM) is a supervised machine learning technique. And, even though it’s mostly used in classification, it can also be applied to regression problems.\n",
    "\n",
    ">SVMs define a decision boundary along with a maximal margin that separates almost all the points into two classes. While also leaving some room for misclassifications.\n",
    "\n",
    "## Install scikit-learn\n",
    "\n",
    "to install this library, run this pip command:\n",
    "\n",
    ">pip install scikit-learn\n",
    "\n",
    "## Advantages and Disadvantages\n",
    "\n",
    "The advantages of support vector machines are:\n",
    "- Effective in high dimensional spaces.\n",
    "- Still effective in cases where number of dimensions is greater than the number of samples.\n",
    "- Uses a subset of training points in the decision function (called support vectors), so it is also memory efficient.\n",
    "- Versatile: different Kernel functions can be specified for the decision function. Common kernels are provided, but it is also possible to specify custom kernels.\n",
    "\n",
    "The disadvantages of support vector machines include:\n",
    "- If the number of features is much greater than the number of samples, avoid over-fitting in choosing Kernel functions and regularization term is crucial.\n",
    "- SVMs do not directly provide probability estimates, these are calculated using an expensive five-fold cross-validation (see Scores and probabilities, below).\n",
    "\n",
    "Source: https://scikit-learn.org/stable/modules/svm.html#svm\n",
    "\n",
    "## Exectution within python\n",
    "\n",
    "To start off, it is helpful to just dive into the code to show prediction power and then dive into the algorthims that make it possible."
   ]
  },
  {
   "cell_type": "code",
   "execution_count": 1,
   "id": "4c87bd09",
   "metadata": {},
   "outputs": [
    {
     "data": {
      "text/plain": [
       "array([1])"
      ]
     },
     "execution_count": 1,
     "metadata": {},
     "output_type": "execute_result"
    }
   ],
   "source": [
    "#import the package\n",
    "\n",
    "from sklearn import svm\n",
    "\n",
    "#set up some data points\n",
    "x = [[0,0], [1,1]]\n",
    "y = [0,1]\n",
    "clf = svm.SVC()\n",
    "\n",
    "#fit the model\n",
    "\n",
    "clf.fit(x,y)\n",
    "\n",
    "#now predict on some new values\n",
    "\n",
    "clf.predict([[2., 2.]])"
   ]
  },
  {
   "cell_type": "markdown",
   "id": "7af30c5d",
   "metadata": {},
   "source": [
    "## Support Vectors\n",
    "\n",
    "Support vectors are data points that are closer to the hyperplane and influence the position and orientation of the hyperplane. Using these support vectors, we maximize the margin of the classifier. Deleting the support vectors will change the position of the hyperplane."
   ]
  },
  {
   "cell_type": "code",
   "execution_count": 2,
   "id": "810fb6d2",
   "metadata": {},
   "outputs": [
    {
     "data": {
      "text/plain": [
       "array([1, 1], dtype=int32)"
      ]
     },
     "execution_count": 2,
     "metadata": {},
     "output_type": "execute_result"
    }
   ],
   "source": [
    "#get support vectors\n",
    "clf.support_vectors_\n",
    "\n",
    "#get indices of support vectors\n",
    "clf.support_\n",
    "\n",
    "#get number of support vectors for each class\n",
    "clf.n_support_"
   ]
  },
  {
   "cell_type": "markdown",
   "id": "a30054eb",
   "metadata": {},
   "source": [
    "## Other Support Vector Machines\n",
    "\n",
    "There are also other SVMs that can serve other purposes. Another main subset of SVMs is called SVR(Support Vector Regression). It uses the same method as SVC, however it solves regression problems instead of classification."
   ]
  },
  {
   "cell_type": "code",
   "execution_count": 3,
   "id": "3501be04",
   "metadata": {},
   "outputs": [
    {
     "data": {
      "text/plain": [
       "array([1.5])"
      ]
     },
     "execution_count": 3,
     "metadata": {},
     "output_type": "execute_result"
    }
   ],
   "source": [
    "from sklearn import svm\n",
    "X = [[0, 0], [2, 2]]\n",
    "y = [0.5, 2.5]\n",
    "regr = svm.SVR()\n",
    "regr.fit(X, y)\n",
    "\n",
    "regr.predict([[1, 1]])"
   ]
  },
  {
   "cell_type": "markdown",
   "id": "65530f66",
   "metadata": {},
   "source": [
    ">>> In this case the fit method will still take in argument vectors X and y, but now y will be expected to have floating point values instead of integer values.\n",
    "\n",
    "## For Additional Info\n",
    "\n",
    "Visit:\n",
    "https://scikit-learn.org/stable/modules/svm.html#svm\n",
    "https://towardsdatascience.com/support-vector-machines-explained-with-python-examples-cb65e8172c85"
   ]
  }
 ],
 "metadata": {
  "jupytext": {
   "text_representation": {
    "extension": ".md",
    "format_name": "myst",
    "format_version": 0.13,
    "jupytext_version": "1.11.5"
   }
  },
  "kernelspec": {
   "display_name": "Python 3 (ipykernel)",
   "language": "python",
   "name": "python3"
  },
  "language_info": {
   "codemirror_mode": {
    "name": "ipython",
    "version": 3
   },
   "file_extension": ".py",
   "mimetype": "text/x-python",
   "name": "python",
   "nbconvert_exporter": "python",
   "pygments_lexer": "ipython3",
   "version": "3.9.10"
  },
  "source_map": [
   12,
   44,
   61,
   67,
   76,
   82,
   90
  ]
 },
 "nbformat": 4,
 "nbformat_minor": 5
}