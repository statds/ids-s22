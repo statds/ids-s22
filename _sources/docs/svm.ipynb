{
 "cells": [
  {
   "cell_type": "markdown",
   "id": "6c0a9e34",
   "metadata": {},
   "source": [
    "## Support Vector Machines\n",
    "\n",
    ">Support vector machines (SVM) is a supervised machine learning technique. And, even though it’s mostly used in classification, it can also be applied to regression problems.\n",
    "\n",
    ">SVMs define a decision boundary along with a maximal margin that separates almost all the points into two classes. While also leaving some room for misclassifications.\n",
    "\n",
    "## Install scikit-learn\n",
    "\n",
    "to install this library, run this pip command:\n",
    "\n",
    ">pip install scikit-learn\n",
    "\n",
    "## Advantages and Disadvantages\n",
    "\n",
    "The advantages of support vector machines are:\n",
    "- Effective in high dimensional spaces.\n",
    "- Still effective in cases where number of dimensions is greater than the number of samples.\n",
    "- Uses a subset of training points in the decision function (called support vectors), so it is also memory efficient.\n",
    "- Versatile: different Kernel functions can be specified for the decision function. Common kernels are provided, but it is also possible to specify custom kernels.\n",
    "\n",
    "The disadvantages of support vector machines include:\n",
    "- If the number of features is much greater than the number of samples, avoid over-fitting in choosing Kernel functions and regularization term is crucial.\n",
    "- SVMs do not directly provide probability estimates, these are calculated using an expensive five-fold cross-validation (see Scores and probabilities, below).\n",
    "\n",
    "Source: https://scikit-learn.org/stable/modules/svm.html#svm\n",
    "\n",
    "## Exectution within python\n",
    "\n",
    "To start off, it is helpful to just dive into the code to show prediction power and then dive into the algorthims that make it possible."
   ]
  },
  {
   "cell_type": "code",
   "execution_count": 1,
   "id": "06957761",
   "metadata": {},
   "outputs": [
    {
     "data": {
      "text/plain": [
       "array([1])"
      ]
     },
     "execution_count": 1,
     "metadata": {},
     "output_type": "execute_result"
    }
   ],
   "source": [
    "#import the package\n",
    "\n",
    "from sklearn import svm\n",
    "\n",
    "#set up some data points\n",
    "x = [[0,0], [1,1]]\n",
    "y = [0,1]\n",
    "clf = svm.SVC()\n",
    "\n",
    "#fit the model\n",
    "\n",
    "clf.fit(x,y)\n",
    "\n",
    "#now predict on some new values\n",
    "\n",
    "clf.predict([[2., 2.]])"
   ]
  },
  {
   "cell_type": "markdown",
   "id": "0c4c6852",
   "metadata": {},
   "source": [
    "## Support Vectors\n",
    "\n",
    "Support vectors are data points that are closer to the hyperplane and influence the position and orientation of the hyperplane. Using these support vectors, we maximize the margin of the classifier. Deleting the support vectors will change the position of the hyperplane."
   ]
  }
 ],
 "metadata": {
  "jupytext": {
   "text_representation": {
    "extension": ".md",
    "format_name": "myst",
    "format_version": 0.13,
    "jupytext_version": "1.11.5"
   }
  },
  "kernelspec": {
   "display_name": "Python 3 (ipykernel)",
   "language": "python",
   "name": "python3"
  },
  "language_info": {
   "codemirror_mode": {
    "name": "ipython",
    "version": 3
   },
   "file_extension": ".py",
   "mimetype": "text/x-python",
   "name": "python",
   "nbconvert_exporter": "python",
   "pygments_lexer": "ipython3",
   "version": "3.9.10"
  },
  "source_map": [
   12,
   44,
   61
  ]
 },
 "nbformat": 4,
 "nbformat_minor": 5
}