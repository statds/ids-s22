{
 "cells": [
  {
   "cell_type": "markdown",
   "id": "57f5520f",
   "metadata": {},
   "source": [
    "## Support Vector Machines\n",
    "\n",
    ">Support vector machines (SVM) is a supervised machine learning technique. And, even though it’s mostly used in classification, it can also be applied to regression problems.\n",
    "\n",
    ">SVMs define a decision boundary along with a maximal margin that separates almost all the points into two classes. While also leaving some room for misclassifications.\n",
    "\n",
    "## Install scikit-learn\n",
    "\n",
    "to install this library, run this pip command:\n",
    "\n",
    ">pip install scikit-learn\n",
    "\n",
    "## Advantages and Disadvantages\n",
    "\n",
    "The advantages of support vector machines are:\n",
    "- Effective in high dimensional spaces.\n",
    "- Still effective in cases where number of dimensions is greater than the number of samples.\n",
    "- Uses a subset of training points in the decision function (called support vectors), so it is also memory efficient.\n",
    "- Versatile: different Kernel functions can be specified for the decision function. Common kernels are provided, but it is also possible to specify custom kernels.\n",
    "\n",
    "The disadvantages of support vector machines include:\n",
    "- If the number of features is much greater than the number of samples, avoid over-fitting in choosing Kernel functions and regularization term is crucial.\n",
    "- SVMs do not directly provide probability estimates, these are calculated using an expensive five-fold cross-validation (see Scores and probabilities, below).\n",
    "\n",
    "Source: https://scikit-learn.org/stable/modules/svm.html#svm\n",
    "\n",
    "## Exectution within python\n",
    "\n",
    "To start off, it is helpful to just dive into the code to show prediction power and then dive into the algorthims that make it possible."
   ]
  },
  {
   "cell_type": "code",
   "execution_count": null,
   "id": "54009f0e",
   "metadata": {},
   "outputs": [],
   "source": [
    ">>>#import the package\n",
    "\n",
    ">>>from sklearn import svm\n",
    "\n",
    ">>>#set up some data points\n",
    ">>>x = [[0,0], [1,1]]\n",
    ">>>y = [0,1]\n",
    ">>>clf = svm.SVC()\n",
    "\n",
    ">>>#fit the model\n",
    "\n",
    ">>>clf.fit(x,y)\n",
    "SVC()\n",
    ">>>#now predict on some new values\n",
    "\n",
    ">>>clf.predict([[2., 2.]])\n",
    "array([1])"
   ]
  }
 ],
 "metadata": {
  "jupytext": {
   "text_representation": {
    "extension": ".md",
    "format_name": "myst",
    "format_version": 0.13,
    "jupytext_version": "1.11.5"
   }
  },
  "kernelspec": {
   "display_name": "Python 3 (ipykernel)",
   "language": "python",
   "name": "python3"
  },
  "source_map": [
   12,
   44
  ]
 },
 "nbformat": 4,
 "nbformat_minor": 5
}