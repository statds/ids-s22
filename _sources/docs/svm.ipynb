{
 "cells": [
  {
   "cell_type": "markdown",
   "id": "80835a8d",
   "metadata": {},
   "source": [
    "## Support Vector Machines\n",
    "\n",
    ">Support vector machines (SVM) is a supervised machine learning technique. And, even though it’s mostly used in classification, it can also be applied to regression problems.\n",
    "\n",
    ">SVMs define a decision boundary along with a maximal margin that separates almost all the points into two classes. While also leaving some room for misclassifications.\n",
    "\n",
    "## Install scikit-learn\n",
    "\n",
    "to install this library, run this pip command:\n",
    "\n",
    ">pip install scikit-learn\n",
    "\n",
    "## Advantages and Disadvantages\n",
    "\n",
    "The advantages of support vector machines are:\n",
    "- Effective in high dimensional spaces.\n",
    "- Still effective in cases where number of dimensions is greater than the number of samples.\n",
    "- Uses a subset of training points in the decision function (called support vectors), so it is also memory efficient.\n",
    "- Versatile: different Kernel functions can be specified for the decision function. Common kernels are provided, but it is also possible to specify custom kernels.\n",
    "\n",
    "The disadvantages of support vector machines include:\n",
    "- If the number of features is much greater than the number of samples, avoid over-fitting in choosing Kernel functions and regularization term is crucial.\n",
    "- SVMs do not directly provide probability estimates, these are calculated using an expensive five-fold cross-validation (see Scores and probabilities, below).\n",
    "\n",
    "Source: https://scikit-learn.org/stable/modules/svm.html#svm\n",
    "\n",
    "## Exectution within python\n",
    "\n",
    "To start off, it is helpful to just dive into the code to show prediction power and then dive into the algorthims that make it possible."
   ]
  },
  {
   "cell_type": "code",
   "execution_count": null,
   "id": "282d5fac",
   "metadata": {},
   "outputs": [],
   "source": [
    "#import the package\n",
    "\n",
    "from sklearn import svm\n",
    "\n",
    "#set up some data points\n",
    "x = [[0,0], [1,1]]\n",
    "y = [0,1]\n",
    "clf = svm.SVC()\n",
    "\n",
    "#fit the model\n",
    "\n",
    "clf.fit(x,y)\n",
    "\n",
    "#now predict on some new values\n",
    "\n",
    "clf.predict([[2., 2.]])"
   ]
  },
  {
   "cell_type": "markdown",
   "id": "4f99499d",
   "metadata": {},
   "source": [
    "## Support Vectors\n",
    "\n",
    "Support vectors are data points that are closer to the hyperplane and influence the position and orientation of the hyperplane. Using these support vectors, we maximize the margin of the classifier. Deleting the support vectors will change the position of the hyperplane."
   ]
  },
  {
   "cell_type": "code",
   "execution_count": null,
   "id": "8553aabc",
   "metadata": {},
   "outputs": [],
   "source": [
    "#get support vectors\n",
    "clf.support_vectors_\n",
    "\n",
    "#get indices of support vectors\n",
    "clf.support_\n",
    "\n",
    "#get number of support vectors for each class\n",
    "clf.n_support_"
   ]
  },
  {
   "cell_type": "markdown",
   "id": "ce2bb7a4",
   "metadata": {},
   "source": [
    "## Other Support Vector Machines\n",
    "\n",
    "There are also other SVMs that can serve other purposes. Another main subset of SVMs is called SVR(Support Vector Regression). It uses the same method as SVC, however it solves regression problems instead of classification."
   ]
  },
  {
   "cell_type": "code",
   "execution_count": null,
   "id": "967b8988",
   "metadata": {},
   "outputs": [],
   "source": [
    "from sklearn import svm\n",
    "X = [[0, 0], [2, 2]]\n",
    "y = [0.5, 2.5]\n",
    "regr = svm.SVR()\n",
    "regr.fit(X, y)\n",
    "\n",
    "regr.predict([[1, 1]])"
   ]
  },
  {
   "cell_type": "markdown",
   "id": "6149272c",
   "metadata": {},
   "source": [
    ">>> In this case the fit method will still take in argument vectors X and y, but now y will be expected to have floating point values instead of integer values.\n",
    "\n",
    "## Misclassification\n",
    "\n",
    "SVM allows for misclassifcation. This means that it is acceptable to have some vectors fall inside the margin and on the wrong side of the decision boundary. This is done so the model can do a better job at classifying most vectors in the testing set. \n",
    "\n",
    "Slack Variable: Tells us if a test observation is misclassified and where the observation is relative to the decision boundary and the margin. If the value is 0, it means the point is correctly classified. If the slack variable is greater than zero and less than one, then the point is on the wrong side of the margin. Lastly if the variable is greater than 1, then the point is on the wrong side of the hyperplane.\n",
    "\n",
    "## In Practice"
   ]
  },
  {
   "cell_type": "code",
   "execution_count": null,
   "id": "e7da34b8",
   "metadata": {},
   "outputs": [],
   "source": [
    "import pandas as pd\n",
    "import numpy as np\n",
    "import matplotlib.pyplot as plt\n",
    "from sklearn.model_selection import train_test_split \n",
    "from sklearn.svm import SVC\n",
    "from sklearn.metrics import classification_report, confusion_matrix\n",
    "\n",
    "\n",
    "job_app_data = pd.read_csv(\"nyc_DobJobApp_2021.csv\")\n",
    "\n",
    "job_app_data = job_app_data[['Doc #', 'Borough', 'Block', 'Proposed Height', 'Job Status']]\n",
    "\n",
    "job_app_data['Borough'].replace(['MANHATTAN', 'BRONX', 'BROOKLYN', 'QUEENS', 'STATEN ISLAND'], [1,2,3,4,5], inplace=True)\n",
    "\n",
    "\n",
    "X = job_app_data.drop('Job Status', axis=1)\n",
    "y = job_app_data['Job Status']\n",
    "\n",
    "X_train, X_test, y_train, y_test = train_test_split(X, y, test_size = 0.20)\n",
    "\n",
    "svclassifier = SVC(kernel='linear')\n",
    "svclassifier.fit(X_train, y_train)\n",
    "\n",
    "y_pred = svclassifier.predict(X_test)\n",
    "\n",
    "print(confusion_matrix(y_test, y_pred))\n",
    "print(classification_report(y_test))\n"
   ]
  },
  {
   "cell_type": "markdown",
   "id": "d124b30a",
   "metadata": {},
   "source": [
    "## For Additional Info\n",
    "\n",
    "Visit:\n",
    "https://scikit-learn.org/stable/modules/svm.html#svm\n",
    "https://towardsdatascience.com/support-vector-machines-explained-with-python-examples-cb65e8172c85"
   ]
  }
 ],
 "metadata": {
  "jupytext": {
   "text_representation": {
    "extension": ".md",
    "format_name": "myst",
    "format_version": 0.13,
    "jupytext_version": "1.11.5"
   }
  },
  "kernelspec": {
   "display_name": "Python 3 (ipykernel)",
   "language": "python",
   "name": "python3"
  },
  "source_map": [
   12,
   44,
   61,
   67,
   76,
   82,
   90,
   101,
   130
  ]
 },
 "nbformat": 4,
 "nbformat_minor": 5
}