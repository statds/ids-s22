{
 "cells": [
  {
   "cell_type": "markdown",
   "id": "4c1ab0a9",
   "metadata": {},
   "source": [
    "## Support Vector Machines\n",
    "\n",
    "> Support vector machines (SVM) is a supervised machine learning technique. And, even though it’s mostly used in classification, it can also be applied to regression problems.\n",
    "\n",
    "> SVMs define a decision boundary along with a maximal margin that separates almost all the points into two classes. While also leaving some room for misclassifications.\n",
    "\n",
    "## Install scikit-learn\n",
    "\n",
    "To install this library, run this pip command:\n",
    "`pip install scikit-learn`.\n",
    "\n",
    "\n",
    "## Concepts\n",
    "\n",
    "Consider a two-class classification problem.\n",
    "Suppose that the observed data are\n",
    "\\begin{equation*}\n",
    "\\{X_i, Y_i: i = 1, \\ldots, n\\},\n",
    "\\end{equation*}\n",
    "where the labels $y_i \\in \\{1, -1\\}$, indicating different classes,\n",
    "and $X_i$'s are $p$-dimensional feature vectors.\n",
    "Intuitively, a good separation is achieved by the hyper-plane that has the\n",
    "largest distance to the nearest training data points of any class (so-called\n",
    "functional margin), since in general the larger the margin the lower the\n",
    "generalization error of the classifier. In other words,\n",
    "we want to find a separation hyperplane that maximizes the margin\n",
    "between the two classes, where the margin is defined as the mimum distance\n",
    "between the data instances and the decision boundary.\n",
    "\n",
    "\n",
    "A hyperplane in the $p$-dimension space is defined by a normal vector $w$ and\n",
    "scalar constant $b$\n",
    "\\begin{equation*}\n",
    "w^\\top x- b = 0.\n",
    "\\end{equation*}\n",
    "For identification, we assumed that $w$ is normalized (so that it has unit length).\n",
    "Suppose for the moment that the two classes can be perfectly separated by a\n",
    "hyperplane. One could use two boundaries\n",
    "\\begin{align*}\n",
    " w^\\top x - b & =  1,\\\\\n",
    " w^\\top x - b & = -1.\n",
    "\\end{align*}\n",
    "Anything above the first boundary is labeled 1, and anything below the second\n",
    "boundary is labeled $-1$.\n",
    "Geometrically we want to maximize the distance between the boundaries,\n",
    "which is $2 / \\| w\\|$; see [why](https://math.stackexchange.com/q/1305925/168764).\n",
    "\n",
    "\n",
    "We also want to prevent points from falling into the margin, so we add the constraints:\n",
    "$w^\\top x_i-b\\ge1, \\ Y_i=1$ and $w^\\top X_i-b\\le-1, \\ Y_i=-1$.\n",
    "They can be written as \n",
    "\\begin{equation*}\n",
    "Y_i (w^\\top X_i - b) \\ge 1, \\ i = 1, \\ldots, n.\n",
    "\\end{equation*}\n",
    "\n",
    "\n",
    "The optimization for linear SVM is:\n",
    "\\begin{align*}\n",
    "\\min_{w, b} \\ &\\frac{1}{2} \\|w\\|^2  \\\\\n",
    "\\text{s.t  } \\ & y_i(w^\\top x_i-b)\\ge 1.\n",
    "\\end{align*}\n",
    "The loss function is (known as hard-margin):\n",
    "\\begin{equation*}\n",
    "\\frac{1}{2}\\|w\\|^2+ C \\sum_i {[1 -Y_i(w^\\top X_i - b)]}.\n",
    "\\end{equation*}\n",
    "\n",
    "\n",
    "Recall that we have assumed that the data is linearly separable. What if it’s\n",
    "not? We can relax the constrains slightly by some $\\zeta_i > 0$\n",
    "(known as soft-margin):\n",
    "\\begin{align*}\n",
    "\\min_{w, b, \\zeta} & \\frac{1}{2}\\|w\\|^2 + C \\sum_i \\zeta_i\\\\\n",
    "\\text{s.t. }\n",
    "&Y_i (w^\\top X_i - b) \\ge 1 - \\zeta_i,\\\\\n",
    "&\\zeta_i \\ge 0, \\ i = 1, \\ldots, n.\n",
    "\\end{align*}\n",
    "\n",
    "<!-- The lagrangian dual of the above is: -->\n",
    "<!-- $$ -->\n",
    "<!-- \\max f(c_1,...,c_n)=\\sum_i{c_i}-\\frac{1}{2}\\sum_i\\sum_j {y_ic_i(x_i^Tx_j)y_jc_j}\\\\ -->\n",
    "<!-- \\text{s.t  } \\sum_i{c_iy_i}=0, 0\\le c_i\\le1/2n\\lambda -->\n",
    "<!-- $$ -->\n",
    "\n",
    "Why are the support vectors called support vectors?\n",
    "See [this\n",
    "blog](https://towardsdatascience.com/so-why-the-heck-are-they-called-support-vector-machines-52fc72c990a1).\n",
    "\n",
    "\n",
    "## Kernel SVM\n",
    "\n",
    "Sometimes the data cannot be separate by a hyperplane. A nonlinear classifier\n",
    "can be created by applying the kernel trick. In particular, we replace $X_i$ by\n",
    "a transformation of it; and replace the inner product by a Kernel defined on the\n",
    "transformed space. The classification vector in the transformed space is\n",
    "$$\\sum{c_i Y_i \\phi(X_i)}. $$\n",
    "\n",
    "\n",
    "Check the different SVM methods with different decision functions [here](https://scikit-learn.org/stable/modules/svm.html#mathematical-formulation)!\n",
    "\n",
    "### Kernel\n",
    "Kernels are symmetric functions in the form $K(x,y)$.\n",
    "Examples of kernels:\n",
    "\n",
    "+ Linear kernel: $K(x,y)=x^Ty$\n",
    "+ Gaussian kernel (RBF):\n",
    "  $K(x,y)=e^{-\\frac{||x-y||^2}{2\\sigma^2}}=e^{-\\gamma||x-y||^2}$\n",
    "+ Laplacian kernel: $K(x,y)=e^{-\\alpha||x-y||}$\n",
    "\n",
    "In `sklearn`, we can apply kernelized SVM by changing linear kernel to RBF\n",
    "kernel easily. There are two parameters in RBF kernel: $c$ and $\\gamma$. They\n",
    "are related to the smooth of decision surface and influence of single training\n",
    "sample. A [gridsearch\n",
    "cross-validation](https://scikit-learn.org/stable/modules/svm.html#kernel-functions) can be\n",
    "used to decide these parameters.\n",
    "\n",
    "\n",
    "\n",
    "## Advantages and Disadvantages\n",
    "\n",
    "The advantages of support vector machines are:\n",
    "- Effective in high dimensional spaces.\n",
    "- Still effective in cases where number of dimensions is greater than the number of samples.\n",
    "- Uses a subset of training points in the decision function (called support vectors), so it is also memory efficient.\n",
    "- Versatile: different Kernel functions can be specified for the decision function. Common kernels are provided, but it is also possible to specify custom kernels.\n",
    "\n",
    "The disadvantages of support vector machines include:\n",
    "- If the number of features is much greater than the number of samples, avoid over-fitting in choosing Kernel functions and regularization term is crucial.\n",
    "- SVMs do not directly provide probability estimates, these are calculated using an expensive five-fold cross-validation (see Scores and probabilities, below).\n",
    "\n",
    "Source: https://scikit-learn.org/stable/modules/svm.html#svm\n",
    "\n",
    "## Exectution within python\n",
    "\n",
    "To start off, it is helpful to just dive into the code to show prediction power and then dive into the algorthims that make it possible."
   ]
  },
  {
   "cell_type": "code",
   "execution_count": 1,
   "id": "d120777d",
   "metadata": {},
   "outputs": [
    {
     "data": {
      "text/plain": [
       "array([1])"
      ]
     },
     "execution_count": 1,
     "metadata": {},
     "output_type": "execute_result"
    }
   ],
   "source": [
    "#import the package\n",
    "\n",
    "from sklearn import svm\n",
    "\n",
    "#set up some data points\n",
    "x = [[0,0], [1,1]]\n",
    "y = [0,1]\n",
    "clf = svm.SVC()\n",
    "\n",
    "#fit the model\n",
    "\n",
    "clf.fit(x,y)\n",
    "\n",
    "#now predict on some new values\n",
    "\n",
    "clf.predict([[2., 2.]])"
   ]
  },
  {
   "cell_type": "markdown",
   "id": "dcc7534f",
   "metadata": {},
   "source": [
    "## Support Vectors\n",
    "\n",
    "Support vectors are data points that are closer to the hyperplane and influence the position and orientation of the hyperplane. Using these support vectors, we maximize the margin of the classifier. Deleting the support vectors will change the position of the hyperplane."
   ]
  },
  {
   "cell_type": "code",
   "execution_count": 2,
   "id": "e7dc4ac5",
   "metadata": {},
   "outputs": [
    {
     "data": {
      "text/plain": [
       "array([1, 1], dtype=int32)"
      ]
     },
     "execution_count": 2,
     "metadata": {},
     "output_type": "execute_result"
    }
   ],
   "source": [
    "## get support vectors\n",
    "clf.support_vectors_\n",
    "\n",
    "## get indices of support vectors\n",
    "clf.support_\n",
    "\n",
    "## get number of support vectors for each class\n",
    "clf.n_support_"
   ]
  },
  {
   "cell_type": "markdown",
   "id": "210c5d60",
   "metadata": {},
   "source": [
    "## Other Support Vector Machines\n",
    "\n",
    "There are also other SVMs that can serve other purposes. Another main subset of\n",
    "SVMs is called SVR (Support Vector Regression). It uses the same method as SVC,\n",
    "however it solves regression problems instead of classification."
   ]
  },
  {
   "cell_type": "code",
   "execution_count": 3,
   "id": "c890e687",
   "metadata": {},
   "outputs": [
    {
     "data": {
      "text/plain": [
       "array([1.5])"
      ]
     },
     "execution_count": 3,
     "metadata": {},
     "output_type": "execute_result"
    }
   ],
   "source": [
    "from sklearn import svm\n",
    "X = [[0, 0], [2, 2]]\n",
    "y = [0.5, 2.5]\n",
    "regr = svm.SVR()\n",
    "regr.fit(X, y)\n",
    "\n",
    "regr.predict([[1, 1]])"
   ]
  },
  {
   "cell_type": "markdown",
   "id": "1e1f9fe1",
   "metadata": {},
   "source": [
    ">>> In this case the fit method will still take in argument vectors X and y, but now y will be expected to have floating point values instead of integer values.\n",
    "\n",
    "## Misclassification\n",
    "\n",
    "SVM allows for misclassifcation. This means that it is acceptable to have some\n",
    "vectors fall inside the margin and on the wrong side of the decision\n",
    "boundary. This is done so the model can do a better job at classifying most\n",
    "vectors in the testing set. \n",
    "\n",
    "\n",
    "Slack Variable: Tells us if a test observation is misclassified and where the\n",
    "observation is relative to the decision boundary and the margin. If the value is\n",
    "0, it means the point is correctly classified. If the slack variable is greater\n",
    "than zero and less than one, then the point is on the wrong side of the\n",
    "margin. Lastly if the variable is greater than 1, then the point is on the wrong\n",
    "side of the hyperplane.\n",
    "\n",
    "## In Practice"
   ]
  },
  {
   "cell_type": "code",
   "execution_count": 4,
   "id": "f30daa7a",
   "metadata": {},
   "outputs": [
    {
     "name": "stdout",
     "output_type": "stream",
     "text": [
      "[[129   0   0]\n",
      " [  0   2   0]\n",
      " [ 69   0   0]]\n"
     ]
    }
   ],
   "source": [
    "import pandas as pd\n",
    "import numpy as np\n",
    "import matplotlib.pyplot as plt\n",
    "from sklearn.model_selection import train_test_split \n",
    "from sklearn.svm import SVC\n",
    "from sklearn.metrics import classification_report, confusion_matrix\n",
    "\n",
    "\n",
    "job_app_data = pd.read_csv(\"../data/nyc_DobJobApp_2021.csv\", dtype = \"unicode\")\n",
    "\n",
    "job_app_data = job_app_data[['Job Type', 'Borough', 'Job Status']]\n",
    "job_app_data.columns = ['job_type', 'borough', 'job_status']\n",
    "\n",
    "job_app_data['borough'].replace(['MANHATTAN', 'BRONX', 'BROOKLYN', 'QUEENS', 'STATEN ISLAND'], [1,2,3,4,5], inplace=True)\n",
    "\n",
    "job_app_data['job_type'] = job_app_data['job_type'].astype('category').cat.codes\n",
    "\n",
    "job_app_data = job_app_data.sample(n=1000)\n",
    "\n",
    "X = job_app_data.drop('job_status', axis=1)\n",
    "y = job_app_data['job_status']\n",
    "\n",
    "X_train, X_test, y_train, y_test = train_test_split(X, y, test_size = 0.20)\n",
    "\n",
    "svclassifier = SVC(kernel='linear')\n",
    "svclassifier.fit(X_train, y_train)\n",
    "\n",
    "y_pred = svclassifier.predict(X_test)\n",
    "\n",
    "print(confusion_matrix(y_test, y_pred))\n",
    "## print(classification_report(y_test))\n"
   ]
  },
  {
   "cell_type": "markdown",
   "id": "224ef58a",
   "metadata": {},
   "source": [
    "## For Additional Info\n",
    "\n",
    "Visit:\n",
    "<https://scikit-learn.org/stable/modules/svm.html#svm>;\n",
    "<https://towardsdatascience.com/support-vector-machines-explained-with-python-examples-cb65e8172c85>"
   ]
  }
 ],
 "metadata": {
  "jupytext": {
   "text_representation": {
    "extension": ".md",
    "format_name": "myst",
    "format_version": 0.13,
    "jupytext_version": "1.11.5"
   }
  },
  "kernelspec": {
   "display_name": "Python 3 (ipykernel)",
   "language": "python",
   "name": "python3"
  },
  "language_info": {
   "codemirror_mode": {
    "name": "ipython",
    "version": 3
   },
   "file_extension": ".py",
   "mimetype": "text/x-python",
   "name": "python",
   "nbconvert_exporter": "python",
   "pygments_lexer": "ipython3",
   "version": "3.9.12"
  },
  "source_map": [
   12,
   149,
   166,
   172,
   181,
   189,
   197,
   217,
   250
  ]
 },
 "nbformat": 4,
 "nbformat_minor": 5
}