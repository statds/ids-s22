{
 "cells": [
  {
   "cell_type": "markdown",
   "id": "986a96c1",
   "metadata": {},
   "source": [
    "(refresh)=\n",
    "\n",
    "# Python Refreshment\n",
    "\n",
    "You have programmed in Python. Regardless of your skill level, let us\n",
    "do some refreshing.\n",
    "\n",
    "## The Python World\n",
    "\n",
    "+ Function: a block of organized, reusable code to complete certain\n",
    "  task.\n",
    "+ Module: a file containing a collection of functions, variables, and\n",
    "  statements.\n",
    "+ Package: a structured directory containing collections of modules\n",
    "  and an `__init.py__` file by which the directory is interpreted as a\n",
    "  package.\n",
    "+ Library: a collection of related functionality of codes. It is a\n",
    "  reusable chunk of code that we can use by importing it in our\n",
    "  program, we can just use it by importing that library and calling\n",
    "  the method of that library with period(.).\n",
    "\n",
    "See, for example, [how to build a Python\n",
    "libratry](https://medium.com/analytics-vidhya/how-to-create-a-python-library-7d5aea80cc3f).\n",
    "\n",
    "\n",
    "Question: How to get the constant $e$ to an arbitary precision?\n",
    "\n",
    "The constant is only represented by a given double precision."
   ]
  },
  {
   "cell_type": "code",
   "execution_count": 1,
   "id": "4908c751",
   "metadata": {},
   "outputs": [
    {
     "name": "stdout",
     "output_type": "stream",
     "text": [
      "2.71828182845904509080\n",
      "2.71828182845904509079559829842764884233474731445312500000000000000000000000000000\n"
     ]
    }
   ],
   "source": [
    "import math\n",
    "print(\"%0.20f\" % math.e)\n",
    "print(\"%0.80f\" % math.e)"
   ]
  },
  {
   "cell_type": "markdown",
   "id": "de4939a4",
   "metadata": {},
   "source": [
    "Now use package `decimal` to export with an arbitary precision."
   ]
  },
  {
   "cell_type": "code",
   "execution_count": 2,
   "id": "b3a7a8f0",
   "metadata": {},
   "outputs": [
    {
     "data": {
      "text/plain": [
       "'71828182845904523536028747135266249775724709369995957496696762772407663035354759457138217852516642742746639193200305992181741359662904357290033429526'"
      ]
     },
     "execution_count": 2,
     "metadata": {},
     "output_type": "execute_result"
    }
   ],
   "source": [
    "import decimal  # for what?\n",
    "\n",
    "## set the required number digits to 150\n",
    "decimal.getcontext().prec = 150\n",
    "decimal.Decimal(1).exp().to_eng_string()\n",
    "decimal.Decimal(1).exp().to_eng_string()[2:]"
   ]
  },
  {
   "cell_type": "markdown",
   "id": "38c0e62c",
   "metadata": {},
   "source": [
    "Question: how to draw a random sample from a normal distribution and\n",
    "evaluate the density and distributions at these points?"
   ]
  },
  {
   "cell_type": "code",
   "execution_count": 3,
   "id": "2a435c82",
   "metadata": {},
   "outputs": [
    {
     "name": "stdout",
     "output_type": "stream",
     "text": [
      "2.0 16.0 0.0 0.0\n"
     ]
    },
    {
     "data": {
      "text/plain": [
       "array([ 1.13207047, -3.28881493, -4.55994939, -5.08223109,  2.53378126,\n",
       "        1.04619899, -0.89520628, -0.20084477,  5.6728851 , 10.77356374])"
      ]
     },
     "execution_count": 3,
     "metadata": {},
     "output_type": "execute_result"
    }
   ],
   "source": [
    "from scipy.stats import norm\n",
    "\n",
    "mu, sigma = 2, 4\n",
    "mean, var, skew, kurt = norm.stats(mu, sigma, moments='mvsk')\n",
    "print(mean, var, skew, kurt)\n",
    "x = norm.rvs(loc = mu, scale = sigma, size = 10)\n",
    "x"
   ]
  },
  {
   "cell_type": "markdown",
   "id": "8f38c9df",
   "metadata": {},
   "source": [
    "The pdf and cdf can be evaluated:"
   ]
  },
  {
   "cell_type": "code",
   "execution_count": 4,
   "id": "a6a2b593",
   "metadata": {},
   "outputs": [
    {
     "data": {
      "text/plain": [
       "array([0.09741515, 0.04161293, 0.02599081, 0.02080275, 0.09885148,\n",
       "       0.09694009, 0.07675189, 0.085726  , 0.06542845, 0.00899834])"
      ]
     },
     "execution_count": 4,
     "metadata": {},
     "output_type": "execute_result"
    }
   ],
   "source": [
    "norm.pdf(x, loc = mu, scale = sigma)"
   ]
  },
  {
   "cell_type": "markdown",
   "id": "0ad7d91b",
   "metadata": {},
   "source": [
    "## Writing a Function\n",
    "\n",
    "Consider the Fibonacci Sequence\n",
    "$1, 1, 2, 3, 5, 8, 13, 21, 34, ...$.\n",
    "The next number is found by adding up the two numbers before it.\n",
    "We are going to use 3 ways to solve the problems.\n",
    "\n",
    "\n",
    "The first is a recursive solution."
   ]
  },
  {
   "cell_type": "code",
   "execution_count": 5,
   "id": "bc4108d2",
   "metadata": {},
   "outputs": [
    {
     "name": "stdout",
     "output_type": "stream",
     "text": [
      "12.5 µs ± 1.2 ns per loop (mean ± std. dev. of 7 runs, 100000 loops each)\n"
     ]
    }
   ],
   "source": [
    "def fib_rs(n):\n",
    "    if (n==1 or n==2):\n",
    "        return 1\n",
    "    else:\n",
    "        return fib_rs(n - 1) + fib_rs(n - 2)\n",
    "\n",
    "%timeit fib_rs(10)"
   ]
  },
  {
   "cell_type": "markdown",
   "id": "86cac963",
   "metadata": {},
   "source": [
    "The second uses dynamic programming memoization."
   ]
  },
  {
   "cell_type": "code",
   "execution_count": 6,
   "id": "77d45d18",
   "metadata": {},
   "outputs": [
    {
     "name": "stdout",
     "output_type": "stream",
     "text": [
      "3.02 µs ± 0.999 ns per loop (mean ± std. dev. of 7 runs, 100000 loops each)\n"
     ]
    }
   ],
   "source": [
    "def fib_dm_helper(n, mem):\n",
    "    if mem[n] is not None:\n",
    "        return mem[n]\n",
    "    elif (n == 1 or n == 2):\n",
    "        result = 1\n",
    "    else:\n",
    "        result = fib_dm_helper(n - 1, mem) + fib_dm_helper(n - 2, mem)\n",
    "    mem[n] = result\n",
    "    return result\n",
    "\n",
    "def fib_dm(n):\n",
    "    mem = [None] * (n + 1)\n",
    "    return fib_dm_helper(n, mem)\n",
    "\n",
    "%timeit fib_dm(10)"
   ]
  },
  {
   "cell_type": "markdown",
   "id": "5bd6335c",
   "metadata": {},
   "source": [
    "The third is still dynamic programming but bottom-up."
   ]
  },
  {
   "cell_type": "code",
   "execution_count": 7,
   "id": "078af3e4",
   "metadata": {},
   "outputs": [
    {
     "name": "stdout",
     "output_type": "stream",
     "text": [
      "81.6 µs ± 131 ns per loop (mean ± std. dev. of 7 runs, 10000 loops each)\n"
     ]
    }
   ],
   "source": [
    "def fib_dbu(n):\n",
    "    mem = [None] * (n + 1)\n",
    "    mem[1]=1;\n",
    "    mem[2]=1;\n",
    "    for i in range(3,n+1):\n",
    "        mem[i] = mem[i-1] + mem[i-2]\n",
    "    return mem[n]\n",
    "\n",
    "\n",
    "%timeit fib_dbu(500)"
   ]
  },
  {
   "cell_type": "markdown",
   "id": "881207a1",
   "metadata": {},
   "source": [
    "Apparently, the three solutions have very different performance for\n",
    "larger `n`.\n",
    "\n",
    "\n",
    "## Variables versus Objects\n",
    "\n",
    "In Python, variables and the objects they point to actually live in\n",
    "two different places in the computer memory. Think of variables as\n",
    "pointers to the objects they’re associated with, rather than being\n",
    "those objects. This matters when multiple variables point to the same\n",
    "object."
   ]
  },
  {
   "cell_type": "code",
   "execution_count": 8,
   "id": "4b5c27b2",
   "metadata": {},
   "outputs": [
    {
     "data": {
      "text/plain": [
       "[1, 2, 3, 4]"
      ]
     },
     "execution_count": 8,
     "metadata": {},
     "output_type": "execute_result"
    }
   ],
   "source": [
    "x = [1, 2, 3]  # create a list; x points to the list\n",
    "y = x          # y also points to the same list in the memory\n",
    "y.append(4)    # append to y\n",
    "x              # x changed!"
   ]
  },
  {
   "cell_type": "markdown",
   "id": "be44aea4",
   "metadata": {},
   "source": [
    "Now check their addresses"
   ]
  },
  {
   "cell_type": "code",
   "execution_count": 9,
   "id": "b14787f1",
   "metadata": {},
   "outputs": [
    {
     "name": "stdout",
     "output_type": "stream",
     "text": [
      "139746090897856\n",
      "139746090897856\n"
     ]
    }
   ],
   "source": [
    "print(id(x))   # address of x\n",
    "print(id(y))   # address of y"
   ]
  },
  {
   "cell_type": "markdown",
   "id": "0973f99d",
   "metadata": {},
   "source": [
    "Nonetheless, some data types in Python are \"immutable\", meaning that\n",
    "their values cannot be changed in place. One such example is strings."
   ]
  },
  {
   "cell_type": "code",
   "execution_count": 10,
   "id": "178bcf31",
   "metadata": {},
   "outputs": [
    {
     "data": {
      "text/plain": [
       "'abc'"
      ]
     },
     "execution_count": 10,
     "metadata": {},
     "output_type": "execute_result"
    }
   ],
   "source": [
    "x = \"abc\"\n",
    "y = x\n",
    "y = \"xyz\"\n",
    "x"
   ]
  },
  {
   "cell_type": "markdown",
   "id": "a3015aa3",
   "metadata": {},
   "source": [
    "Now check their addresses"
   ]
  },
  {
   "cell_type": "code",
   "execution_count": 11,
   "id": "91d4b833",
   "metadata": {},
   "outputs": [
    {
     "name": "stdout",
     "output_type": "stream",
     "text": [
      "139746200331312\n",
      "139745485902832\n"
     ]
    }
   ],
   "source": [
    "print(id(x))   # address of x\n",
    "print(id(y))   # address of y"
   ]
  },
  {
   "cell_type": "markdown",
   "id": "40bc7427",
   "metadata": {},
   "source": [
    "Question: What's mutable and what's immutable?\n",
    "\n",
    "Anything that is a collection of other objects is mutable, except\n",
    "``tuples``.\n",
    "\n",
    "Not all manipulations of mutable objects change the object rather than\n",
    "create a new object. Sometimes when you do something to a mutable\n",
    "object, you get back a new object. Manipulations that change an\n",
    "existing object, rather than create a new one, are referred to as\n",
    "“in-place mutations” or just “mutations.” So:\n",
    "\n",
    "+ __All__ manipulations of immutable types create new objects.\n",
    "+ __Some__ manipulations of mutable types create new objects.\n",
    "\n",
    "Different variables may all be pointing at the same object is\n",
    "preserved through function calls (a behavior known as “pass by\n",
    "object-reference”). So if you pass a list to a function, and that\n",
    "function manipulates that list using an in-place mutation, that change\n",
    "will affect any variable that was pointing to that same object outside\n",
    "the function."
   ]
  },
  {
   "cell_type": "code",
   "execution_count": 12,
   "id": "f05c8d74",
   "metadata": {},
   "outputs": [
    {
     "data": {
      "text/plain": [
       "[1, 2, 3, 42]"
      ]
     },
     "execution_count": 12,
     "metadata": {},
     "output_type": "execute_result"
    }
   ],
   "source": [
    "x = [1, 2, 3]\n",
    "y = x\n",
    "\n",
    "def append_42(input_list):\n",
    "    input_list.append(42)\n",
    "    return input_list\n",
    "\n",
    "append_42(x)"
   ]
  },
  {
   "cell_type": "markdown",
   "id": "4f322498",
   "metadata": {},
   "source": [
    "Note that both `x` and `y` have been appended by $42$.\n",
    "\n",
    "## Number Representation\n",
    "\n",
    "Numers in a computer's memory are represented by binary styles (on and\n",
    "off of bits).\n",
    "\n",
    "### Integers\n",
    "If not careful, It is easy to be bitten by overflow with integers when\n",
    "using Numpy and Pandas in Python."
   ]
  },
  {
   "cell_type": "code",
   "execution_count": 13,
   "id": "53c030be",
   "metadata": {},
   "outputs": [
    {
     "data": {
      "text/plain": [
       "array(9223372036854775807)"
      ]
     },
     "execution_count": 13,
     "metadata": {},
     "output_type": "execute_result"
    }
   ],
   "source": [
    "import numpy as np\n",
    "\n",
    "x = np.array(2**63 - 1 , dtype='int')\n",
    "x\n",
    "# This should be the largest number numpy can display, with\n",
    "# the default int8 type (64 bits)"
   ]
  },
  {
   "cell_type": "markdown",
   "id": "90a2656e",
   "metadata": {},
   "source": [
    "What if we increment it by 1?"
   ]
  },
  {
   "cell_type": "code",
   "execution_count": 14,
   "id": "611e7fcb",
   "metadata": {},
   "outputs": [
    {
     "data": {
      "text/plain": [
       "array(-9223372036854775808)"
      ]
     },
     "execution_count": 14,
     "metadata": {},
     "output_type": "execute_result"
    }
   ],
   "source": [
    "y = np.array(x + 1, dtype='int')\n",
    "y\n",
    "# Because of the overflow, it becomes negative!"
   ]
  },
  {
   "cell_type": "markdown",
   "id": "b6c059a8",
   "metadata": {},
   "source": [
    "For vanilla Python, the overflow errors are checked and more digits\n",
    "are allocated when needed, at the cost of being slow."
   ]
  },
  {
   "cell_type": "code",
   "execution_count": 15,
   "id": "c66b9cdf",
   "metadata": {},
   "outputs": [
    {
     "data": {
      "text/plain": [
       "9223372036854775808000"
      ]
     },
     "execution_count": 15,
     "metadata": {},
     "output_type": "execute_result"
    }
   ],
   "source": [
    "2**63 * 1000"
   ]
  },
  {
   "cell_type": "markdown",
   "id": "a530a592",
   "metadata": {},
   "source": [
    "This number is 1000 times largger than the prior number,\n",
    "but still displayed perfectly without any overflows\n",
    "\n",
    "### Floating Number\n",
    "\n",
    "Standard double-precision floating point number uses 64 bits. Among\n",
    "them, 1 is for sign, 11 is for exponent, and 52 are fraction significand,\n",
    "See <https://en.wikipedia.org/wiki/Double-precision_floating-point_format>.\n",
    "The bottom line is that, of course, not every real number is exactly\n",
    "representable."
   ]
  },
  {
   "cell_type": "code",
   "execution_count": 16,
   "id": "b03b8e9e",
   "metadata": {},
   "outputs": [
    {
     "data": {
      "text/plain": [
       "False"
      ]
     },
     "execution_count": 16,
     "metadata": {},
     "output_type": "execute_result"
    }
   ],
   "source": [
    "0.1 + 0.1 + 0.1 == 0.3"
   ]
  },
  {
   "cell_type": "code",
   "execution_count": 17,
   "id": "dcdd8e62",
   "metadata": {},
   "outputs": [
    {
     "data": {
      "text/plain": [
       "False"
      ]
     },
     "execution_count": 17,
     "metadata": {},
     "output_type": "execute_result"
    }
   ],
   "source": [
    "0.3 - 0.2 == 0.1"
   ]
  },
  {
   "cell_type": "markdown",
   "id": "ca63a2bb",
   "metadata": {},
   "source": [
    "What is really going on?"
   ]
  },
  {
   "cell_type": "code",
   "execution_count": 18,
   "id": "d50f3f13",
   "metadata": {},
   "outputs": [
    {
     "data": {
      "text/plain": [
       "Decimal('0.1000000000000000055511151231257827021181583404541015625')"
      ]
     },
     "execution_count": 18,
     "metadata": {},
     "output_type": "execute_result"
    }
   ],
   "source": [
    "import decimal\n",
    "decimal.Decimal(0.1)"
   ]
  },
  {
   "cell_type": "markdown",
   "id": "8437c287",
   "metadata": {},
   "source": [
    "Because the mantissa bits are limited, it can not represent a floating point\n",
    "that's both very big and very precise. Most computers can represent all integers\n",
    "up to $2^{53}$, after that it starts skipping numbers."
   ]
  },
  {
   "cell_type": "code",
   "execution_count": 19,
   "id": "3d6d679a",
   "metadata": {},
   "outputs": [
    {
     "data": {
      "text/plain": [
       "True"
      ]
     },
     "execution_count": 19,
     "metadata": {},
     "output_type": "execute_result"
    }
   ],
   "source": [
    "2.1**53 +1 == 2.1**53\n",
    "\n",
    "# Find a number larger than 2 to the 53rd"
   ]
  },
  {
   "cell_type": "code",
   "execution_count": 20,
   "id": "1f015eac",
   "metadata": {},
   "outputs": [
    {
     "data": {
      "text/plain": [
       "True"
      ]
     },
     "execution_count": 20,
     "metadata": {},
     "output_type": "execute_result"
    }
   ],
   "source": [
    "x = 2.1**53\n",
    "for i in range(1000000):\n",
    "    x = x + 1\n",
    "x == 2.1**53"
   ]
  },
  {
   "cell_type": "markdown",
   "id": "2f642d1a",
   "metadata": {},
   "source": [
    "We add 1 to `x` by 1000000 times, but it still equal to its initial\n",
    "value,  2.1**53. This is because this number is too big that computer\n",
    "can't handle it with precision like add 1.\n",
    "\n",
    "Machine epsilon is the smallest positive floating-point number `x` such that\n",
    "`1 + x != 1`."
   ]
  },
  {
   "cell_type": "code",
   "execution_count": 21,
   "id": "274056ae",
   "metadata": {},
   "outputs": [
    {
     "name": "stdout",
     "output_type": "stream",
     "text": [
      "2.220446049250313e-16\n",
      "1.1920929e-07\n"
     ]
    }
   ],
   "source": [
    "print(np.finfo(float).eps)\n",
    "print(np.finfo(np.float32).eps)\n"
   ]
  },
  {
   "cell_type": "markdown",
   "id": "7696a3c1",
   "metadata": {},
   "source": [
    "## Data Importation\n",
    "\n",
    "NYC Open Data is great resource of open data. One specific dataset of\n",
    "interest is the [Motor Vehicle\n",
    "Collisons-Crashes](https://data.cityofnewyork.us/Public-Safety/Motor-Vehicle-Collisions-Crashes/h9gi-nx95).\n",
    "\n",
    "\n",
    "> The Motor Vehicle Collisions crash table contains details on the\n",
    "> crash event. Each row represents a crash event. The Motor Vehicle\n",
    "> Collisions data tables contain information from all police reported\n",
    "> motor vehicle collisions in NYC. The police report (MV104-AN) is\n",
    "> required to be filled out for collisions where someone is injured or\n",
    "> killed, or where there is at least $1000 worth of damage\n",
    "\n",
    "The data is big. I only downloaded the data from January 1 to 25,\n",
    "2022."
   ]
  },
  {
   "cell_type": "code",
   "execution_count": 22,
   "id": "416fe30b",
   "metadata": {},
   "outputs": [
    {
     "data": {
      "text/html": [
       "<div>\n",
       "<style scoped>\n",
       "    .dataframe tbody tr th:only-of-type {\n",
       "        vertical-align: middle;\n",
       "    }\n",
       "\n",
       "    .dataframe tbody tr th {\n",
       "        vertical-align: top;\n",
       "    }\n",
       "\n",
       "    .dataframe thead th {\n",
       "        text-align: right;\n",
       "    }\n",
       "</style>\n",
       "<table border=\"1\" class=\"dataframe\">\n",
       "  <thead>\n",
       "    <tr style=\"text-align: right;\">\n",
       "      <th></th>\n",
       "      <th>CRASH DATE</th>\n",
       "      <th>CRASH TIME</th>\n",
       "      <th>BOROUGH</th>\n",
       "      <th>ZIP CODE</th>\n",
       "      <th>LATITUDE</th>\n",
       "      <th>LONGITUDE</th>\n",
       "      <th>LOCATION</th>\n",
       "      <th>ON STREET NAME</th>\n",
       "      <th>CROSS STREET NAME</th>\n",
       "      <th>OFF STREET NAME</th>\n",
       "      <th>...</th>\n",
       "      <th>CONTRIBUTING FACTOR VEHICLE 2</th>\n",
       "      <th>CONTRIBUTING FACTOR VEHICLE 3</th>\n",
       "      <th>CONTRIBUTING FACTOR VEHICLE 4</th>\n",
       "      <th>CONTRIBUTING FACTOR VEHICLE 5</th>\n",
       "      <th>COLLISION_ID</th>\n",
       "      <th>VEHICLE TYPE CODE 1</th>\n",
       "      <th>VEHICLE TYPE CODE 2</th>\n",
       "      <th>VEHICLE TYPE CODE 3</th>\n",
       "      <th>VEHICLE TYPE CODE 4</th>\n",
       "      <th>VEHICLE TYPE CODE 5</th>\n",
       "    </tr>\n",
       "  </thead>\n",
       "  <tbody>\n",
       "    <tr>\n",
       "      <th>0</th>\n",
       "      <td>01/01/2022</td>\n",
       "      <td>7:05</td>\n",
       "      <td>NaN</td>\n",
       "      <td>NaN</td>\n",
       "      <td>NaN</td>\n",
       "      <td>NaN</td>\n",
       "      <td>NaN</td>\n",
       "      <td>EAST 128 STREET</td>\n",
       "      <td>3 AVENUE BRIDGE</td>\n",
       "      <td>NaN</td>\n",
       "      <td>...</td>\n",
       "      <td>NaN</td>\n",
       "      <td>NaN</td>\n",
       "      <td>NaN</td>\n",
       "      <td>NaN</td>\n",
       "      <td>4491172</td>\n",
       "      <td>Sedan</td>\n",
       "      <td>NaN</td>\n",
       "      <td>NaN</td>\n",
       "      <td>NaN</td>\n",
       "      <td>NaN</td>\n",
       "    </tr>\n",
       "    <tr>\n",
       "      <th>1</th>\n",
       "      <td>01/01/2022</td>\n",
       "      <td>14:43</td>\n",
       "      <td>NaN</td>\n",
       "      <td>NaN</td>\n",
       "      <td>40.769993</td>\n",
       "      <td>-73.915825</td>\n",
       "      <td>(40.769993, -73.915825)</td>\n",
       "      <td>GRAND CENTRAL PKWY</td>\n",
       "      <td>NaN</td>\n",
       "      <td>NaN</td>\n",
       "      <td>...</td>\n",
       "      <td>NaN</td>\n",
       "      <td>NaN</td>\n",
       "      <td>NaN</td>\n",
       "      <td>NaN</td>\n",
       "      <td>4491406</td>\n",
       "      <td>Sedan</td>\n",
       "      <td>Sedan</td>\n",
       "      <td>NaN</td>\n",
       "      <td>NaN</td>\n",
       "      <td>NaN</td>\n",
       "    </tr>\n",
       "    <tr>\n",
       "      <th>2</th>\n",
       "      <td>01/01/2022</td>\n",
       "      <td>21:20</td>\n",
       "      <td>QUEENS</td>\n",
       "      <td>11414.0</td>\n",
       "      <td>40.657230</td>\n",
       "      <td>-73.841380</td>\n",
       "      <td>(40.65723, -73.84138)</td>\n",
       "      <td>91 STREET</td>\n",
       "      <td>160 AVENUE</td>\n",
       "      <td>NaN</td>\n",
       "      <td>...</td>\n",
       "      <td>NaN</td>\n",
       "      <td>NaN</td>\n",
       "      <td>NaN</td>\n",
       "      <td>NaN</td>\n",
       "      <td>4491466</td>\n",
       "      <td>Sedan</td>\n",
       "      <td>NaN</td>\n",
       "      <td>NaN</td>\n",
       "      <td>NaN</td>\n",
       "      <td>NaN</td>\n",
       "    </tr>\n",
       "    <tr>\n",
       "      <th>3</th>\n",
       "      <td>01/01/2022</td>\n",
       "      <td>4:30</td>\n",
       "      <td>NaN</td>\n",
       "      <td>NaN</td>\n",
       "      <td>NaN</td>\n",
       "      <td>NaN</td>\n",
       "      <td>NaN</td>\n",
       "      <td>Southern parkway</td>\n",
       "      <td>Jfk expressway</td>\n",
       "      <td>NaN</td>\n",
       "      <td>...</td>\n",
       "      <td>Unspecified</td>\n",
       "      <td>NaN</td>\n",
       "      <td>NaN</td>\n",
       "      <td>NaN</td>\n",
       "      <td>4491626</td>\n",
       "      <td>Sedan</td>\n",
       "      <td>Sedan</td>\n",
       "      <td>NaN</td>\n",
       "      <td>NaN</td>\n",
       "      <td>NaN</td>\n",
       "    </tr>\n",
       "    <tr>\n",
       "      <th>4</th>\n",
       "      <td>01/01/2022</td>\n",
       "      <td>7:57</td>\n",
       "      <td>NaN</td>\n",
       "      <td>NaN</td>\n",
       "      <td>NaN</td>\n",
       "      <td>NaN</td>\n",
       "      <td>NaN</td>\n",
       "      <td>WESTCHESTER AVENUE</td>\n",
       "      <td>SHERIDAN EXPRESSWAY</td>\n",
       "      <td>NaN</td>\n",
       "      <td>...</td>\n",
       "      <td>NaN</td>\n",
       "      <td>NaN</td>\n",
       "      <td>NaN</td>\n",
       "      <td>NaN</td>\n",
       "      <td>4491734</td>\n",
       "      <td>Sedan</td>\n",
       "      <td>NaN</td>\n",
       "      <td>NaN</td>\n",
       "      <td>NaN</td>\n",
       "      <td>NaN</td>\n",
       "    </tr>\n",
       "    <tr>\n",
       "      <th>5</th>\n",
       "      <td>01/01/2022</td>\n",
       "      <td>13:07</td>\n",
       "      <td>QUEENS</td>\n",
       "      <td>11373.0</td>\n",
       "      <td>40.742737</td>\n",
       "      <td>-73.876430</td>\n",
       "      <td>(40.742737, -73.87643)</td>\n",
       "      <td>NaN</td>\n",
       "      <td>NaN</td>\n",
       "      <td>89-22     43 AVENUE</td>\n",
       "      <td>...</td>\n",
       "      <td>Unspecified</td>\n",
       "      <td>Unspecified</td>\n",
       "      <td>NaN</td>\n",
       "      <td>NaN</td>\n",
       "      <td>4491843</td>\n",
       "      <td>Sedan</td>\n",
       "      <td>Sedan</td>\n",
       "      <td>Station Wagon/Sport Utility Vehicle</td>\n",
       "      <td>NaN</td>\n",
       "      <td>NaN</td>\n",
       "    </tr>\n",
       "    <tr>\n",
       "      <th>6</th>\n",
       "      <td>01/01/2022</td>\n",
       "      <td>14:33</td>\n",
       "      <td>NaN</td>\n",
       "      <td>NaN</td>\n",
       "      <td>40.759945</td>\n",
       "      <td>-73.838700</td>\n",
       "      <td>(40.759945, -73.8387)</td>\n",
       "      <td>VAN WYCK EXPWY</td>\n",
       "      <td>NaN</td>\n",
       "      <td>NaN</td>\n",
       "      <td>...</td>\n",
       "      <td>Unspecified</td>\n",
       "      <td>NaN</td>\n",
       "      <td>NaN</td>\n",
       "      <td>NaN</td>\n",
       "      <td>4491841</td>\n",
       "      <td>Sedan</td>\n",
       "      <td>Station Wagon/Sport Utility Vehicle</td>\n",
       "      <td>NaN</td>\n",
       "      <td>NaN</td>\n",
       "      <td>NaN</td>\n",
       "    </tr>\n",
       "    <tr>\n",
       "      <th>7</th>\n",
       "      <td>01/01/2022</td>\n",
       "      <td>6:00</td>\n",
       "      <td>BROOKLYN</td>\n",
       "      <td>11222.0</td>\n",
       "      <td>40.723910</td>\n",
       "      <td>-73.948845</td>\n",
       "      <td>(40.72391, -73.948845)</td>\n",
       "      <td>NaN</td>\n",
       "      <td>NaN</td>\n",
       "      <td>132       ECKFORD STREET</td>\n",
       "      <td>...</td>\n",
       "      <td>Unspecified</td>\n",
       "      <td>NaN</td>\n",
       "      <td>NaN</td>\n",
       "      <td>NaN</td>\n",
       "      <td>4491833</td>\n",
       "      <td>Sedan</td>\n",
       "      <td>NaN</td>\n",
       "      <td>NaN</td>\n",
       "      <td>NaN</td>\n",
       "      <td>NaN</td>\n",
       "    </tr>\n",
       "    <tr>\n",
       "      <th>8</th>\n",
       "      <td>01/01/2022</td>\n",
       "      <td>5:17</td>\n",
       "      <td>NaN</td>\n",
       "      <td>NaN</td>\n",
       "      <td>40.746930</td>\n",
       "      <td>-73.848660</td>\n",
       "      <td>(40.74693, -73.84866)</td>\n",
       "      <td>GRAND CENTRAL PKWY</td>\n",
       "      <td>NaN</td>\n",
       "      <td>NaN</td>\n",
       "      <td>...</td>\n",
       "      <td>Unsafe Lane Changing</td>\n",
       "      <td>NaN</td>\n",
       "      <td>NaN</td>\n",
       "      <td>NaN</td>\n",
       "      <td>4491857</td>\n",
       "      <td>Sedan</td>\n",
       "      <td>Sedan</td>\n",
       "      <td>NaN</td>\n",
       "      <td>NaN</td>\n",
       "      <td>NaN</td>\n",
       "    </tr>\n",
       "    <tr>\n",
       "      <th>9</th>\n",
       "      <td>01/01/2022</td>\n",
       "      <td>1:30</td>\n",
       "      <td>NaN</td>\n",
       "      <td>NaN</td>\n",
       "      <td>40.819157</td>\n",
       "      <td>-73.960380</td>\n",
       "      <td>(40.819157, -73.96038)</td>\n",
       "      <td>HENRY HUDSON PARKWAY</td>\n",
       "      <td>NaN</td>\n",
       "      <td>NaN</td>\n",
       "      <td>...</td>\n",
       "      <td>NaN</td>\n",
       "      <td>NaN</td>\n",
       "      <td>NaN</td>\n",
       "      <td>NaN</td>\n",
       "      <td>4491344</td>\n",
       "      <td>Sedan</td>\n",
       "      <td>Station Wagon/Sport Utility Vehicle</td>\n",
       "      <td>NaN</td>\n",
       "      <td>NaN</td>\n",
       "      <td>NaN</td>\n",
       "    </tr>\n",
       "  </tbody>\n",
       "</table>\n",
       "<p>10 rows × 29 columns</p>\n",
       "</div>"
      ],
      "text/plain": [
       "   CRASH DATE CRASH TIME   BOROUGH  ZIP CODE   LATITUDE  LONGITUDE  \\\n",
       "0  01/01/2022       7:05       NaN       NaN        NaN        NaN   \n",
       "1  01/01/2022      14:43       NaN       NaN  40.769993 -73.915825   \n",
       "2  01/01/2022      21:20    QUEENS   11414.0  40.657230 -73.841380   \n",
       "3  01/01/2022       4:30       NaN       NaN        NaN        NaN   \n",
       "4  01/01/2022       7:57       NaN       NaN        NaN        NaN   \n",
       "5  01/01/2022      13:07    QUEENS   11373.0  40.742737 -73.876430   \n",
       "6  01/01/2022      14:33       NaN       NaN  40.759945 -73.838700   \n",
       "7  01/01/2022       6:00  BROOKLYN   11222.0  40.723910 -73.948845   \n",
       "8  01/01/2022       5:17       NaN       NaN  40.746930 -73.848660   \n",
       "9  01/01/2022       1:30       NaN       NaN  40.819157 -73.960380   \n",
       "\n",
       "                  LOCATION        ON STREET NAME    CROSS STREET NAME  \\\n",
       "0                      NaN       EAST 128 STREET      3 AVENUE BRIDGE   \n",
       "1  (40.769993, -73.915825)    GRAND CENTRAL PKWY                  NaN   \n",
       "2    (40.65723, -73.84138)             91 STREET           160 AVENUE   \n",
       "3                      NaN      Southern parkway       Jfk expressway   \n",
       "4                      NaN    WESTCHESTER AVENUE  SHERIDAN EXPRESSWAY   \n",
       "5   (40.742737, -73.87643)                   NaN                  NaN   \n",
       "6    (40.759945, -73.8387)        VAN WYCK EXPWY                  NaN   \n",
       "7   (40.72391, -73.948845)                   NaN                  NaN   \n",
       "8    (40.74693, -73.84866)    GRAND CENTRAL PKWY                  NaN   \n",
       "9   (40.819157, -73.96038)  HENRY HUDSON PARKWAY                  NaN   \n",
       "\n",
       "            OFF STREET NAME  ...  CONTRIBUTING FACTOR VEHICLE 2  \\\n",
       "0                       NaN  ...                            NaN   \n",
       "1                       NaN  ...                            NaN   \n",
       "2                       NaN  ...                            NaN   \n",
       "3                       NaN  ...                    Unspecified   \n",
       "4                       NaN  ...                            NaN   \n",
       "5       89-22     43 AVENUE  ...                    Unspecified   \n",
       "6                       NaN  ...                    Unspecified   \n",
       "7  132       ECKFORD STREET  ...                    Unspecified   \n",
       "8                       NaN  ...           Unsafe Lane Changing   \n",
       "9                       NaN  ...                            NaN   \n",
       "\n",
       "   CONTRIBUTING FACTOR VEHICLE 3  CONTRIBUTING FACTOR VEHICLE 4  \\\n",
       "0                            NaN                            NaN   \n",
       "1                            NaN                            NaN   \n",
       "2                            NaN                            NaN   \n",
       "3                            NaN                            NaN   \n",
       "4                            NaN                            NaN   \n",
       "5                    Unspecified                            NaN   \n",
       "6                            NaN                            NaN   \n",
       "7                            NaN                            NaN   \n",
       "8                            NaN                            NaN   \n",
       "9                            NaN                            NaN   \n",
       "\n",
       "   CONTRIBUTING FACTOR VEHICLE 5  COLLISION_ID  VEHICLE TYPE CODE 1  \\\n",
       "0                            NaN       4491172                Sedan   \n",
       "1                            NaN       4491406                Sedan   \n",
       "2                            NaN       4491466                Sedan   \n",
       "3                            NaN       4491626                Sedan   \n",
       "4                            NaN       4491734                Sedan   \n",
       "5                            NaN       4491843                Sedan   \n",
       "6                            NaN       4491841                Sedan   \n",
       "7                            NaN       4491833                Sedan   \n",
       "8                            NaN       4491857                Sedan   \n",
       "9                            NaN       4491344                Sedan   \n",
       "\n",
       "                   VEHICLE TYPE CODE 2                  VEHICLE TYPE CODE 3  \\\n",
       "0                                  NaN                                  NaN   \n",
       "1                                Sedan                                  NaN   \n",
       "2                                  NaN                                  NaN   \n",
       "3                                Sedan                                  NaN   \n",
       "4                                  NaN                                  NaN   \n",
       "5                                Sedan  Station Wagon/Sport Utility Vehicle   \n",
       "6  Station Wagon/Sport Utility Vehicle                                  NaN   \n",
       "7                                  NaN                                  NaN   \n",
       "8                                Sedan                                  NaN   \n",
       "9  Station Wagon/Sport Utility Vehicle                                  NaN   \n",
       "\n",
       "  VEHICLE TYPE CODE 4 VEHICLE TYPE CODE 5  \n",
       "0                 NaN                 NaN  \n",
       "1                 NaN                 NaN  \n",
       "2                 NaN                 NaN  \n",
       "3                 NaN                 NaN  \n",
       "4                 NaN                 NaN  \n",
       "5                 NaN                 NaN  \n",
       "6                 NaN                 NaN  \n",
       "7                 NaN                 NaN  \n",
       "8                 NaN                 NaN  \n",
       "9                 NaN                 NaN  \n",
       "\n",
       "[10 rows x 29 columns]"
      ]
     },
     "execution_count": 22,
     "metadata": {},
     "output_type": "execute_result"
    }
   ],
   "source": [
    "import pandas as pd\n",
    "\n",
    "nyc_crash = pd.read_csv(\"../data/nyc_mv_collisions_202201.csv\")\n",
    "nyc_crash.head(10)"
   ]
  },
  {
   "cell_type": "markdown",
   "id": "6d5af417",
   "metadata": {},
   "source": [
    "There are 29 variables."
   ]
  },
  {
   "cell_type": "code",
   "execution_count": 23,
   "id": "99d78a0d",
   "metadata": {},
   "outputs": [
    {
     "data": {
      "text/plain": [
       "Index(['CRASH DATE', 'CRASH TIME', 'BOROUGH', 'ZIP CODE', 'LATITUDE',\n",
       "       'LONGITUDE', 'LOCATION', 'ON STREET NAME', 'CROSS STREET NAME',\n",
       "       'OFF STREET NAME', 'NUMBER OF PERSONS INJURED',\n",
       "       'NUMBER OF PERSONS KILLED', 'NUMBER OF PEDESTRIANS INJURED',\n",
       "       'NUMBER OF PEDESTRIANS KILLED', 'NUMBER OF CYCLIST INJURED',\n",
       "       'NUMBER OF CYCLIST KILLED', 'NUMBER OF MOTORIST INJURED',\n",
       "       'NUMBER OF MOTORIST KILLED', 'CONTRIBUTING FACTOR VEHICLE 1',\n",
       "       'CONTRIBUTING FACTOR VEHICLE 2', 'CONTRIBUTING FACTOR VEHICLE 3',\n",
       "       'CONTRIBUTING FACTOR VEHICLE 4', 'CONTRIBUTING FACTOR VEHICLE 5',\n",
       "       'COLLISION_ID', 'VEHICLE TYPE CODE 1', 'VEHICLE TYPE CODE 2',\n",
       "       'VEHICLE TYPE CODE 3', 'VEHICLE TYPE CODE 4', 'VEHICLE TYPE CODE 5'],\n",
       "      dtype='object')"
      ]
     },
     "execution_count": 23,
     "metadata": {},
     "output_type": "execute_result"
    }
   ],
   "source": [
    "nyc_crash.columns"
   ]
  }
 ],
 "metadata": {
  "jupytext": {
   "text_representation": {
    "extension": ".md",
    "format_name": "myst"
   }
  },
  "kernelspec": {
   "display_name": "Python 3",
   "language": "python",
   "name": "python3"
  },
  "language_info": {
   "codemirror_mode": {
    "name": "ipython",
    "version": 3
   },
   "file_extension": ".py",
   "mimetype": "text/x-python",
   "name": "python",
   "nbconvert_exporter": "python",
   "pygments_lexer": "ipython3",
   "version": "3.9.10"
  },
  "source_map": [
   10,
   40,
   44,
   46,
   53,
   57,
   65,
   67,
   69,
   80,
   88,
   91,
   107,
   110,
   121,
   134,
   139,
   141,
   144,
   149,
   154,
   157,
   160,
   182,
   191,
   204,
   211,
   214,
   218,
   221,
   223,
   236,
   240,
   242,
   244,
   247,
   254,
   260,
   265,
   272,
   276,
   295,
   300,
   303
  ]
 },
 "nbformat": 4,
 "nbformat_minor": 5
}