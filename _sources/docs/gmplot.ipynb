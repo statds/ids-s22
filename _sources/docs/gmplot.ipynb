{
 "cells": [
  {
   "cell_type": "markdown",
   "id": "5f326992",
   "metadata": {},
   "source": [
    "# GM Plot\n",
    "\n",
    "To install `gmplot`, we can use pip by running pip or conda\n",
    "\n",
    "`pip install gmplot`\n",
    "\n",
    "`conda install -c mlgill gmplot`\n",
    "\n",
    "After installing the package, we can now use it in Jupyter\n",
    "Notebook. `gmplot`'s most unique use is it's ability to save\n",
    "geographical coordinates on Google Maps to a local file. Additionally,\n",
    "it has a similar interface to matplotlib in regards to its generation\n",
    "of the HTML to deliver all the additional data on top of Google Maps.\n",
    "\n",
    "\n",
    "First, we have to `import gmplot`"
   ]
  },
  {
   "cell_type": "code",
   "execution_count": null,
   "id": "289d48bd",
   "metadata": {},
   "outputs": [],
   "source": [
    "import gmplot"
   ]
  },
  {
   "cell_type": "markdown",
   "id": "69d8bdfc",
   "metadata": {},
   "source": [
    "## Basic Plot\n",
    "\n",
    "After doing so, we can generate a simple map using\n",
    "`gmplot.GoogleMapPlotter`. This will create an `.html` file. I saved\n",
    "mine to Jupyter Notebook but you can set your path to save it to\n",
    "anywhere you choose."
   ]
  },
  {
   "cell_type": "code",
   "execution_count": null,
   "id": "bda3cefb",
   "metadata": {},
   "outputs": [],
   "source": [
    "# first two arguments are longitude and latitude and the third one is\n",
    "# zoom resolution\n",
    "\n",
    "\n",
    "gmap = gmplot.GoogleMapPlotter(17.438139, 78.39583, 18)\n",
    "\n",
    "# Location where you want to save your file.\n",
    "gmap.draw(\"map.html\")"
   ]
  },
  {
   "cell_type": "markdown",
   "id": "ec278ec8",
   "metadata": {},
   "source": [
    "## Polygon\n",
    "\n",
    "Next we can draw a polygon on Google Maps to highlight a specific area\n",
    "of interest. By using `.polygon`, we can create a highlighted border\n",
    "around a specific area. The inputs are the longitude and latitude\n",
    "points of the shape."
   ]
  },
  {
   "cell_type": "code",
   "execution_count": null,
   "id": "757fc943",
   "metadata": {},
   "outputs": [],
   "source": [
    "latitude_list  = [ 17.4567417, 17.5587901, 17.6245545]\n",
    "longitude_list = [ 78.2913637, 78.007699, 77.9266135 ]\n",
    "gmap = gmplot.GoogleMapPlotter(17.438139, 78.3936413, 11)\n",
    "gmap.polygon(latitude_list, longitude_list, color = 'cornflowerblue')\n",
    "gmap.draw( \"poly.html\" )"
   ]
  },
  {
   "cell_type": "markdown",
   "id": "f02bba67",
   "metadata": {},
   "source": [
    "## Complete Map\n",
    "\n",
    "A more complete map is shown below by using many longitude and latitude points to highlight specific areas of the map. First, we create a zip of the outline of Golden Gate Park and use `.polygon` as we did previously. Next, we add some attraction points use `.scatter`. Lastly, we can add a marker to give attention to a specific spot using `.marker`."
   ]
  },
  {
   "cell_type": "code",
   "execution_count": null,
   "id": "8eed66f4",
   "metadata": {},
   "outputs": [],
   "source": [
    "#Create the map plotter:\n",
    "gmap = gmplot.GoogleMapPlotter(37.766956, -122.448481, 14)\n",
    "\n",
    "#Outline the Golden Gate Park:\n",
    "golden_gate_park = zip(*[\n",
    "    (37.771269, -122.511015),\n",
    "    (37.773495, -122.464830),\n",
    "    (37.774797, -122.454538),\n",
    "    (37.771988, -122.454018),\n",
    "    (37.773646, -122.440979),\n",
    "    (37.772742, -122.440797),\n",
    "    (37.771096, -122.453889),\n",
    "    (37.768669, -122.453518),\n",
    "    (37.766227, -122.460213),\n",
    "    (37.764028, -122.510347)\n",
    "])\n",
    "gmap.polygon(*golden_gate_park, color='cornflowerblue', edge_width=10)\n",
    "\n",
    "#Highlight some attractions:\n",
    "attractions_lats, attractions_lngs = zip(*[\n",
    "    (37.769901, -122.498331),\n",
    "    (37.768645, -122.475328),\n",
    "    (37.771478, -122.468677),\n",
    "    (37.769867, -122.466102),\n",
    "    (37.767187, -122.467496),\n",
    "    (37.770104, -122.470436)\n",
    "])\n",
    "gmap.scatter(attractions_lats, attractions_lngs, color='#3B0B39', size=40, marker=False)\n",
    "\n",
    "#Mark a hidden gem:\n",
    "gmap.marker(37.770776, -122.461689, color='cornflowerblue')\n",
    "\n",
    "#Draw the map:\n",
    "gmap.draw('GGP.html')"
   ]
  },
  {
   "cell_type": "markdown",
   "id": "3403bab4",
   "metadata": {},
   "source": [
    "## Heat Map\n",
    "\n",
    "Another cool aspect of `gmplot` is the ability to create a heatmap. In this, I randomly generated 700 points around the world. Then I used `.heatmap`, which generates the points. You have the option to add markers to them, but it looks bad since so many points were generated in this specific example."
   ]
  },
  {
   "cell_type": "code",
   "execution_count": null,
   "id": "033db79c",
   "metadata": {},
   "outputs": [],
   "source": [
    "#Import libraries\n",
    "import gmplot\n",
    "import numpy as np\n",
    "\n",
    "#generate the random points for heat map\n",
    "latitude = (np.random.random_sample(size = 500) - 0.5) * 180\n",
    "longitude = (np.random.random_sample(size = 500) - 0.5) * 360\n",
    "\n",
    "#center of the map and zoom\n",
    "gmap = gmplot.GoogleMapPlotter(0, 0, 2)\n",
    "\n",
    "#plot heatmap\n",
    "gmap.heatmap(latitude, longitude)\n",
    "\n",
    "#save it to html\n",
    "gmap.draw(\"heatmap.html\")"
   ]
  },
  {
   "cell_type": "markdown",
   "id": "d32512fb",
   "metadata": {},
   "source": [
    "## NYC Data"
   ]
  },
  {
   "cell_type": "code",
   "execution_count": null,
   "id": "e8456a58",
   "metadata": {},
   "outputs": [],
   "source": [
    "import pandas as pd\n",
    "\n",
    "nyc_crash = pd.read_csv(\"../data/nyc_mv_collisions_202201.csv\")\n",
    "nyc_crash.info()"
   ]
  },
  {
   "cell_type": "code",
   "execution_count": null,
   "id": "743dd9bf",
   "metadata": {},
   "outputs": [],
   "source": [
    "nyc_crash_desc = nyc_crash.describe()\n",
    "nyc_crash_desc"
   ]
  },
  {
   "cell_type": "code",
   "execution_count": null,
   "id": "53065283",
   "metadata": {},
   "outputs": [],
   "source": [
    "bronx_long = nyc_crash.loc[nyc_crash['BOROUGH'] == 'BRONX',\n",
    "                           [\"CRASH DATE\", \"CRASH TIME\", \"LONGITUDE\"]]\n",
    "bronx_lat  = nyc_crash.loc[nyc_crash['BOROUGH'] == 'BRONX',\n",
    "                           [\"CRASH DATE\", \"CRASH TIME\", \"LATITUDE\"]]"
   ]
  },
  {
   "cell_type": "code",
   "execution_count": null,
   "id": "570ff4bb",
   "metadata": {},
   "outputs": [],
   "source": [
    "mybronx = pd.merge(bronx_lat, bronx_long)\n",
    "lat = mybronx.dropna()\n",
    "bronx_lat = lat[\"LATITUDE\"]\n",
    "bronx_lngs = lat[\"LONGITUDE\"]"
   ]
  },
  {
   "cell_type": "markdown",
   "id": "0b73bbfb",
   "metadata": {},
   "source": [
    "I chose to use the data for the Bronx borough as it was already cleaned. I zoomed in on the Bronx, and added in all of the crashes in that burough."
   ]
  },
  {
   "cell_type": "code",
   "execution_count": null,
   "id": "a1735411",
   "metadata": {},
   "outputs": [],
   "source": [
    "gmap = gmplot.GoogleMapPlotter(40.844782, -73.864827, 12)\n",
    "gmap.scatter(bronx_lat, bronx_lngs, 'blue', size = 100, marker = False)\n",
    "gmap.draw('bronxmap.html')"
   ]
  }
 ],
 "metadata": {
  "jupytext": {
   "text_representation": {
    "extension": ".md",
    "format_name": "myst",
    "format_version": 0.13,
    "jupytext_version": "1.11.5"
   }
  },
  "kernelspec": {
   "display_name": "Python 3 (ipykernel)",
   "language": "python",
   "name": "python3"
  },
  "source_map": [
   12,
   31,
   33,
   43,
   52,
   62,
   68,
   74,
   109,
   115,
   132,
   135,
   141,
   145,
   151,
   156,
   160
  ]
 },
 "nbformat": 4,
 "nbformat_minor": 5
}