{
 "cells": [
  {
   "cell_type": "markdown",
   "id": "5076943b",
   "metadata": {},
   "source": [
    "(Tensorflow)=\n",
    "\n",
    "# Tensorflow\n",
    "\n",
    "Tensorflow is a software library commonly used for developing machine learning applications \n",
    "including detecting objects, recognizing images, and creating sequential models.\n",
    "\n",
    "\n",
    "Offers:\n",
    "\t- building and training models with Keras\n",
    "\t- impressive graphing capabilities\n",
    "\t- supports powerful add on libraries\n",
    "\t- good for large projects and complex work flows\n",
    "\t- share trained models without including the full code\n",
    "\n",
    "Downsides:\n",
    "\t- slower than similar programs like PyTorch\t\n",
    "\t- only fully supports Python\n",
    "\n",
    "## Background\n",
    "\n",
    "Tensor = multidimensional array, where\n",
    "\t- n-d tensor = n indicies to access single value of interest\n",
    "\t\t- 'n = 0': scalar, 'n = 1': vector, etc.\n",
    "\n",
    "Flow - successive execution of an operation through n-d tensor\n",
    "\t- dataflow graphs - structures describing how data moves through graph/series\n",
    "\n",
    "\n",
    "## Installation and Python Implementation\n",
    "\n",
    "'pip install tensorflow'"
   ]
  },
  {
   "cell_type": "code",
   "execution_count": null,
   "id": "d7f8013b",
   "metadata": {},
   "outputs": [],
   "source": [
    "import pandas as pd\n",
    "from sklearn.model_selection import train_test_split\n",
    "\n",
    "url = \\\n",
    "\"https://raw.githubusercontent.com/statds/ids-s22/main/notes/data/nyc_mv_collisions_202201.csv\"\n",
    "    \n",
    "nyc_crash = pd.read_csv(url)\n",
    "\n",
    "nyc_crash.columns"
   ]
  },
  {
   "cell_type": "code",
   "execution_count": null,
   "id": "9d034b16",
   "metadata": {},
   "outputs": [],
   "source": [
    "nyc_crash[nyc_crash['CONTRIBUTING FACTOR VEHICLE 1'] == 'Driver Inattention/Distraction']"
   ]
  },
  {
   "cell_type": "code",
   "execution_count": null,
   "id": "ead6102a",
   "metadata": {},
   "outputs": [],
   "source": [
    "nyc_crash['DISTRACTED DRIVING'] = [1 if x == 'Driver Inattention/Distraction' else 0 \n",
    "                                   for x in nyc_crash['CONTRIBUTING FACTOR VEHICLE 1']]\n",
    "\n",
    "x = pd.get_dummies(nyc_crash.drop(['ZIP CODE', 'LATITUDE', 'LONGITUDE', 'COLLISION_ID', 'LOCATION',\n",
    "                                   'CRASH DATE', 'CRASH TIME', 'ON STREET NAME', 'CROSS STREET NAME', \n",
    "                                   'OFF STREET NAME', 'VEHICLE TYPE CODE 1', 'VEHICLE TYPE CODE 2', \n",
    "                                  'VEHICLE TYPE CODE 3', 'VEHICLE TYPE CODE 4', 'VEHICLE TYPE CODE 5', \n",
    "                                  'CONTRIBUTING FACTOR VEHICLE 2', 'CONTRIBUTING FACTOR VEHICLE 3', \n",
    "                                  'CONTRIBUTING FACTOR VEHICLE 4', 'CONTRIBUTING FACTOR VEHICLE 5'], axis = 1))\n",
    "\n",
    "y = nyc_crash['DISTRACTED DRIVING']"
   ]
  },
  {
   "cell_type": "code",
   "execution_count": null,
   "id": "c98a563d",
   "metadata": {},
   "outputs": [],
   "source": [
    "x_train, x_test, y_train, y_test = train_test_split(x, y, test_size = .2)"
   ]
  },
  {
   "cell_type": "code",
   "execution_count": null,
   "id": "1b897156",
   "metadata": {},
   "outputs": [],
   "source": [
    "from tensorflow.keras.models import Sequential, load_model\n",
    "from tensorflow.keras.layers import Dense\n",
    "from sklearn.metrics import accuracy_score\n",
    "\n",
    "# Sequential Models\n",
    "#    - one input tensor to one output tensor\n",
    "\n",
    "ddriving = Sequential()"
   ]
  }
 ],
 "metadata": {
  "jupytext": {
   "text_representation": {
    "extension": ".md",
    "format_name": "myst",
    "format_version": 0.13,
    "jupytext_version": "1.11.5"
   }
  },
  "kernelspec": {
   "display_name": "Python 3",
   "language": "python",
   "name": "python3"
  },
  "source_map": [
   12,
   49,
   61,
   65,
   79,
   83
  ]
 },
 "nbformat": 4,
 "nbformat_minor": 5
}