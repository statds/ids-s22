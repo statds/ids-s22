{
 "cells": [
  {
   "cell_type": "markdown",
   "id": "2dc1524d",
   "metadata": {},
   "source": [
    "(GMM)=\n",
    "\n",
    "# Gaussian Mixture Models\n",
    "\n",
    "The Gaussian Mixture Models (GMM) can be viewed as an extension of K-means. Instead of \n",
    "using a hard clustering method to assign each data point to one and only one cluster, \n",
    "the Gaussian Mixture Models estimates the probability of a data point coming from each cluster.\n",
    "\n",
    "## Mathematics\n",
    "\n",
    "Suppose that we have $N$ observations with $D$ dimensions. \n",
    "The model is a mixture of $K$ different Gaussian distributions, each with its own\n",
    "mean $\\boldsymbol{\\mu}_k$ and variance $\\boldsymbol{\\Sigma}_k$ such that within each cluster,\n",
    "the probability of observing $\\boldsymbol{x}_i$ is\n",
    "\n",
    "\\begin{equation*}\n",
    "N( \\boldsymbol{x}_i|\\boldsymbol{\\mu}_k, \\boldsymbol{\\Sigma}_k)=\n",
    "\\frac{1}{(2\\pi)^{D/2}|\\boldsymbol{\\Sigma}_k|^{1/2}}\n",
    "\\left( \n",
    "-\\frac{1}{2}(\\boldsymbol{x}_i-\\boldsymbol{\\mu}_k)^T(\\boldsymbol{\\Sigma}_k)^{-1}\n",
    "(\\boldsymbol{x}_i-\\boldsymbol{\\mu}_k)\n",
    "\\right).\n",
    "\\end{equation*}\n",
    "\n",
    "We define a latent variable $\\boldsymbol{z}=(z_{1},z_{2},\\dots z_{K})$, \n",
    "where $z_{k}$ is 1 if a data point of interest comes from Gaussian $k$, and 0 otherwise. \n",
    "Now the overall probability of observing a point that comes from Gaussian $k$ is\n",
    "\n",
    "\\begin{equation*}\n",
    "P(z_{k}=1) = \\pi_k.\n",
    "\\end{equation*}\n",
    "\n",
    "Thus, each Gaussian in the model will have the following parameters: $\\pi_k$, \n",
    "$\\boldsymbol{\\mu}_k$, $\\boldsymbol{\\Sigma}_k$.\n",
    "\n",
    "\n",
    "\n",
    "## Expectation - Maximization Algorithm (EM)\n",
    "\n",
    "1. Initialize $\\theta=(\\pi_k, \n",
    "\\boldsymbol{\\mu}_k, \\boldsymbol{\\Sigma}_k)$ randomly\n",
    "1. Alternate:\n",
    "    - E-step: based on $\\theta$, calculate the expectation of log-likelihood and estimate $\\gamma(z_{ik})$, \n",
    "      the poterior probability that observation $\\boldsymbol{x}_i$ comes from Gaussian $k$\n",
    "    - M-step: update $\\theta$ by maximizing the expectation of log-likelihood \n",
    "      based on $\\gamma(z_{ik})$\n",
    "1. When the algorithm converges or when `iter = max_iter`, terminate.\n",
    "\n",
    "For more details about mathematics and the EM algorithm: \n",
    "<https://towardsdatascience.com/gaussian-mixture-models-explained-6986aaf5a95>, \n",
    "<https://towardsdatascience.com/gaussian-mixture-models-vs-k-means-which-one-to-choose-62f2736025f0>.\n",
    "\n",
    "## Implementation\n",
    "\n",
    "GMM can also be implemented by importing the `scikit-learn` package.\n",
    "\n",
    "## Iris data"
   ]
  },
  {
   "cell_type": "code",
   "execution_count": 1,
   "id": "47e6f4fa",
   "metadata": {},
   "outputs": [],
   "source": [
    "import pandas as pd\n",
    "import numpy as np\n",
    "import matplotlib.pyplot as plt\n",
    "import seaborn as sns\n",
    "from sklearn import datasets"
   ]
  },
  {
   "cell_type": "code",
   "execution_count": 2,
   "id": "cba1a844",
   "metadata": {},
   "outputs": [
    {
     "name": "stdout",
     "output_type": "stream",
     "text": [
      "<class 'pandas.core.frame.DataFrame'>\n",
      "RangeIndex: 150 entries, 0 to 149\n",
      "Data columns (total 5 columns):\n",
      " #   Column        Non-Null Count  Dtype  \n",
      "---  ------        --------------  -----  \n",
      " 0   sepal_length  150 non-null    float64\n",
      " 1   sepal_width   150 non-null    float64\n",
      " 2   petal_length  150 non-null    float64\n",
      " 3   petal_width   150 non-null    float64\n",
      " 4   species       150 non-null    int64  \n",
      "dtypes: float64(4), int64(1)\n",
      "memory usage: 6.0 KB\n"
     ]
    }
   ],
   "source": [
    "iris_data = datasets.load_iris()\n",
    "iris = pd.DataFrame(iris_data.data,columns=[\"sepal_length\",\"sepal_width\",\"petal_length\",\"petal_width\"])\n",
    "iris['species'] = pd.Series(iris_data.target)\n",
    "iris.info()"
   ]
  },
  {
   "cell_type": "code",
   "execution_count": 3,
   "id": "f47fe0da",
   "metadata": {},
   "outputs": [
    {
     "data": {
      "image/png": "[encoded data removed]",
      "text/plain": [
       "<Figure size 261.375x216 with 1 Axes>"
      ]
     },
     "metadata": {
      "filenames": {
       "image/png": "/home/runner/work/ids-s22/ids-s22/notes/_build/jupyter_execute/docs/GMM_3_0.png"
      },
      "needs_background": "light"
     },
     "output_type": "display_data"
    },
    {
     "data": {
      "image/png": "[encoded data removed]",
      "text/plain": [
       "<Figure size 261.375x216 with 1 Axes>"
      ]
     },
     "metadata": {
      "filenames": {
       "image/png": "/home/runner/work/ids-s22/ids-s22/notes/_build/jupyter_execute/docs/GMM_3_1.png"
      },
      "needs_background": "light"
     },
     "output_type": "display_data"
    },
    {
     "data": {
      "image/png": "[encoded data removed]",
      "text/plain": [
       "<Figure size 261.375x216 with 1 Axes>"
      ]
     },
     "metadata": {
      "filenames": {
       "image/png": "/home/runner/work/ids-s22/ids-s22/notes/_build/jupyter_execute/docs/GMM_3_2.png"
      },
      "needs_background": "light"
     },
     "output_type": "display_data"
    }
   ],
   "source": [
    "sns.FacetGrid(iris,hue=\"species\", height=3).map(sns.histplot,\"petal_length\").add_legend()\n",
    "sns.FacetGrid(iris,hue=\"species\", height=3).map(sns.histplot,\"petal_width\").add_legend()\n",
    "sns.FacetGrid(iris,hue=\"species\", height=3).map(sns.histplot,\"sepal_length\").add_legend()\n",
    "plt.show()"
   ]
  },
  {
   "cell_type": "markdown",
   "id": "d7467618",
   "metadata": {},
   "source": [
    "For a more concise visualization later, we just select `sepal_length` and `sepal_width` as the input variables."
   ]
  },
  {
   "cell_type": "code",
   "execution_count": 4,
   "id": "e26436b1",
   "metadata": {},
   "outputs": [],
   "source": [
    "X = iris.iloc[:, [0, 1]].values\n",
    "y = iris.iloc[:, 4]"
   ]
  },
  {
   "cell_type": "markdown",
   "id": "a9685773",
   "metadata": {},
   "source": [
    "### Training GMM"
   ]
  },
  {
   "cell_type": "code",
   "execution_count": 5,
   "id": "bcf475a9",
   "metadata": {},
   "outputs": [
    {
     "data": {
      "text/plain": [
       "GaussianMixture(n_components=3)"
      ]
     },
     "execution_count": 5,
     "metadata": {},
     "output_type": "execute_result"
    }
   ],
   "source": [
    "from sklearn.mixture import GaussianMixture\n",
    "\n",
    "GMM = GaussianMixture(n_components = 3)\n",
    "GMM.fit(X)"
   ]
  },
  {
   "cell_type": "markdown",
   "id": "9ed06407",
   "metadata": {},
   "source": [
    "### Results\n",
    "We can plot the Gaussians by using a `plot_gmm` function defined on \n",
    "<https://jakevdp.github.io/PythonDataScienceHandbook/05.12-gaussian-mixtures.html>."
   ]
  },
  {
   "cell_type": "code",
   "execution_count": 6,
   "id": "d1b53c39",
   "metadata": {},
   "outputs": [],
   "source": [
    "from matplotlib.patches import Ellipse\n",
    "\n",
    "def draw_ellipse(position, covariance, ax=None, **kwargs):\n",
    "    \"\"\"Draw an ellipse with a given position and covariance\"\"\"\n",
    "    ax = ax or plt.gca()\n",
    "    \n",
    "    # Convert covariance to principal axes\n",
    "    if covariance.shape == (2, 2):\n",
    "        U, s, Vt = np.linalg.svd(covariance)\n",
    "        angle = np.degrees(np.arctan2(U[1, 0], U[0, 0]))\n",
    "        width, height = 2 * np.sqrt(s)\n",
    "    else:\n",
    "        angle = 0\n",
    "        width, height = 2 * np.sqrt(covariance)\n",
    "    \n",
    "    # Draw the Ellipse\n",
    "    for nsig in range(1, 4):\n",
    "        ax.add_patch(Ellipse(position, nsig * width, nsig * height,\n",
    "                             angle, **kwargs))\n",
    "        \n",
    "def plot_gmm(gmm, X, label=True, ax=None):\n",
    "    ax = ax or plt.gca()\n",
    "    labels = gmm.predict(X)\n",
    "    if label:\n",
    "        ax.scatter(X[:, 0], X[:, 1], c=labels, s=40, cmap='viridis', zorder=2)\n",
    "    else:\n",
    "        ax.scatter(X[:, 0], X[:, 1], s=40, zorder=2)\n",
    "    ax.axis('equal')\n",
    "    \n",
    "    w_factor = 0.2 / gmm.weights_.max()\n",
    "    for pos, covar, w in zip(gmm.means_, gmm.covariances_, gmm.weights_):\n",
    "        draw_ellipse(pos, covar, alpha=w * w_factor)"
   ]
  },
  {
   "cell_type": "code",
   "execution_count": 7,
   "id": "7b8bae1c",
   "metadata": {},
   "outputs": [
    {
     "data": {
      "image/png": "[encoded data removed]",
      "text/plain": [
       "<Figure size 432x288 with 1 Axes>"
      ]
     },
     "metadata": {
      "filenames": {
       "image/png": "/home/runner/work/ids-s22/ids-s22/notes/_build/jupyter_execute/docs/GMM_10_0.png"
      },
      "needs_background": "light"
     },
     "output_type": "display_data"
    }
   ],
   "source": [
    "plot_gmm(GMM, X)"
   ]
  },
  {
   "cell_type": "code",
   "execution_count": 8,
   "id": "5ed3b67a",
   "metadata": {},
   "outputs": [
    {
     "name": "stdout",
     "output_type": "stream",
     "text": [
      "-1.4987505566235166\n",
      "8\n"
     ]
    }
   ],
   "source": [
    "# print the converged log-likelihood value\n",
    "print(GMM.lower_bound_)\n",
    " \n",
    "# print the number of iterations needed\n",
    "# for the log-likelihood value to converge\n",
    "print(GMM.n_iter_)"
   ]
  },
  {
   "cell_type": "markdown",
   "id": "cad7dbfd",
   "metadata": {},
   "source": [
    "### Prediction\n",
    "\n",
    "If we have some new data, we can use `GMM.predict` to predict which Gaussian they belong to."
   ]
  },
  {
   "cell_type": "code",
   "execution_count": 9,
   "id": "a2aa5a14",
   "metadata": {},
   "outputs": [],
   "source": [
    "from numpy.random import choice\n",
    "from numpy.random import multivariate_normal\n",
    "\n",
    "# first choose the clusters for 4 new data points\n",
    "draw = choice(range(3), 4, p=GMM.weights_)\n",
    "\n",
    "# sample the new data points within their chosen cluster\n",
    "sample_test=[]\n",
    "for i in range(len(draw)): \n",
    "    n = draw[i]\n",
    "    sample_test.append(\n",
    "        multivariate_normal(GMM.means_[n],GMM.covariances_[n]))"
   ]
  },
  {
   "cell_type": "code",
   "execution_count": 10,
   "id": "306b3a08",
   "metadata": {},
   "outputs": [
    {
     "data": {
      "text/plain": [
       "array([2, 1, 0, 1])"
      ]
     },
     "execution_count": 10,
     "metadata": {},
     "output_type": "execute_result"
    }
   ],
   "source": [
    "GMM.predict(sample_test)"
   ]
  },
  {
   "cell_type": "markdown",
   "id": "aa2c0b51",
   "metadata": {},
   "source": [
    "## Comparison to K-means\n",
    "\n",
    "Both GMM and K-means are unsupervised clustering models, but GMM seems to be more robust \n",
    "as it introduces probabilities. However, GMM is generally slower than K-Means because \n",
    "it takes more iterations to converge. GMM can also quickly converge to a local minimum, \n",
    "not the optimal solution.\n",
    "\n",
    "In practice, GMM can be initialized by K-Means centroids to speed up the convergence."
   ]
  },
  {
   "cell_type": "code",
   "execution_count": null,
   "id": "7ece23d1",
   "metadata": {},
   "outputs": [],
   "source": []
  }
 ],
 "metadata": {
  "jupytext": {
   "text_representation": {
    "extension": ".md",
    "format_name": "myst",
    "format_version": 0.13,
    "jupytext_version": "1.11.5"
   }
  },
  "kernelspec": {
   "display_name": "Python 3 (ipykernel)",
   "language": "python",
   "name": "python3"
  },
  "language_info": {
   "codemirror_mode": {
    "name": "ipython",
    "version": 3
   },
   "file_extension": ".py",
   "mimetype": "text/x-python",
   "name": "python",
   "nbconvert_exporter": "python",
   "pygments_lexer": "ipython3",
   "version": "3.9.12"
  },
  "source_map": [
   12,
   72,
   80,
   87,
   92,
   96,
   99,
   103,
   108,
   114,
   149,
   153,
   160,
   166,
   181,
   183,
   194
  ]
 },
 "nbformat": 4,
 "nbformat_minor": 5
}