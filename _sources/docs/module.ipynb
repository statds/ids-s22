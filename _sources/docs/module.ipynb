{
 "cells": [
  {
   "cell_type": "markdown",
   "id": "f3439722",
   "metadata": {},
   "source": [
    "(module)=\n",
    "\n",
    "# Building a Python Module\n",
    "\n",
    "This is a basic tutorial on how to build your own a Python module, or package. There are a few required downloads necessary and strict steps to follow.\n",
    "\n",
    "## File Structure\n",
    "\n",
    "The file structure for this example is as follows:\n",
    "\n",
    "--> `base_stat3255tutorial`\n",
    "\n",
    "--------> `stat3255tutorial`\n",
    "\n",
    "----------------> `__init__.py`\n",
    "\n",
    "----------------> `add.py`\n",
    "\n",
    "--------> `setup.py`\n",
    "\n",
    "You always want to have a base folder that houses your actual module. `add.py` contains the code and functions that we would like to package.\n",
    "    \n",
    "## \\_\\_init\\_\\_.py\n",
    "\n",
    "In the `__init__.py` file, we want to import the functions from the file that we stored them. It tells Python to treat the directory as a module. You would need an `__init__.py` file in every sub-folder of the directory if you had a more complex directory.\n",
    "\n",
    "```python\n",
    "from stat3255tutorial.add import add\n",
    "```\n",
    "\n",
    "## setup.py\n",
    "\n",
    "`setup.py` goes in the base directory alongside your actual module. This file has information about the package, like the name, version, dependencies, etc.\n",
    "\n",
    "```python\n",
    "from setuptools import find_packages, setup\n",
    "setup(\n",
    "    name='stat3255tutorial',\n",
    "    packages=find_packages(),\n",
    "    version='0.1.0',\n",
    "    description='Tutorial Python library for STAT 3255',\n",
    "    author='Anthony Zeimbekakis',\n",
    "    license='license',\n",
    ")\n",
    "```\n",
    "\n",
    "Now, we need to run the following command in the terminal. \n",
    "\n",
    "    python setup.py sdist bdist_wheel\n",
    "    \n",
    "This command builds a source distribution and a wheel. The source distribution contains source code and the wheel makes the installation faster.\n",
    "\n",
    "## PyPi\n",
    "\n",
    "From [PyPi](https://pypi.org), \"the Python Package Index (PyPI) is a repository of software for the Python programming language.\" Anyone and everyone can make a Python package and upload it to the repository for download. Note that you must have a PyPi account in order to upload a package.\n",
    "\n",
    "The files that we are actually uploading are the ones that were generated when we ran `setup.py`. In order to upload, the `twine` package is required and can be installed with a simple command.\n",
    "\n",
    "    pip install twine\n",
    "    \n",
    "With that good to go, run the following command in the terminal. You will need your username and password.\n",
    "\n",
    "    twine upload dist/*\n",
    "    \n",
    "This uploads all the contents in the `dist` folder which was created by `setup.py`. Now, we can install our very own Python package!\n",
    "\n",
    "## Installing Our Package\n",
    "\n",
    "We can now install our package just like any other that we've done before.\n",
    "\n",
    "    pip install stat3255tutorial\n",
    "    \n",
    "Now, Python should recognize the package and we can access the functions inside."
   ]
  },
  {
   "cell_type": "code",
   "execution_count": 1,
   "id": "443c0048",
   "metadata": {},
   "outputs": [
    {
     "data": {
      "text/plain": [
       "2"
      ]
     },
     "execution_count": 1,
     "metadata": {},
     "output_type": "execute_result"
    }
   ],
   "source": [
    "import stat3255tutorial as stat\n",
    "\n",
    "stat.add(1, 1)"
   ]
  },
  {
   "cell_type": "markdown",
   "id": "79b899f4",
   "metadata": {},
   "source": [
    "## More Information\n",
    "\n",
    "The package `stat3255tutorial` is very bare bones and lacks much of what you would need for an actual package release. The [Python Packaging Authority](https://packaging.python.org/en/latest/guides/distributing-packages-using-setuptools/) has a much more in-depth tutorial that contains information on licensing, versioning, and other topics and should be the first resource consulted."
   ]
  }
 ],
 "metadata": {
  "jupytext": {
   "text_representation": {
    "extension": ".md",
    "format_name": "myst",
    "format_version": 0.13,
    "jupytext_version": "1.11.5"
   }
  },
  "kernelspec": {
   "display_name": "Python 3 (ipykernel)",
   "language": "python",
   "name": "python3"
  },
  "language_info": {
   "codemirror_mode": {
    "name": "ipython",
    "version": 3
   },
   "file_extension": ".py",
   "mimetype": "text/x-python",
   "name": "python",
   "nbconvert_exporter": "python",
   "pygments_lexer": "ipython3",
   "version": "3.9.12"
  },
  "source_map": [
   12,
   88,
   92
  ]
 },
 "nbformat": 4,
 "nbformat_minor": 5
}