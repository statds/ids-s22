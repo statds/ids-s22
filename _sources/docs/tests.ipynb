{
 "cells": [
  {
   "cell_type": "markdown",
   "id": "159d0af8",
   "metadata": {},
   "source": [
    "(hypotest)=\n",
    "\n",
    "# Hypothesis Tests\n",
    "\n",
    "## Zero-Correlation Tests\n",
    "\n",
    "This is the same as independence test.\n",
    "\n",
    "\n",
    "Correlation tests\n",
    "`scipy.stats.pearsonr()`\n",
    "`scipy.stats.spearmanr()`\n",
    "`scipy.stats.kendalltau()`"
   ]
  },
  {
   "cell_type": "code",
   "execution_count": 1,
   "id": "9b19af33",
   "metadata": {},
   "outputs": [
    {
     "data": {
      "text/plain": [
       "KendalltauResult(correlation=0.4751515151515152, pvalue=2.4781510897828352e-12)"
      ]
     },
     "execution_count": 1,
     "metadata": {},
     "output_type": "execute_result"
    }
   ],
   "source": [
    "import scipy.stats as ss\n",
    "import numpy as np\n",
    "nobs = 100\n",
    "x1 = np.random.random(nobs)\n",
    "x2 = np.random.random(nobs)\n",
    "x3 = np.random.random(nobs)\n",
    "y1 = x1 + x2\n",
    "y2 = x1 + x3\n",
    "\n",
    "ss.pearsonr(y1, y2)\n",
    "ss.spearmanr(x1, x2)\n",
    "ss.kendalltau(y1, x2)"
   ]
  },
  {
   "cell_type": "code",
   "execution_count": 2,
   "id": "4b100322",
   "metadata": {},
   "outputs": [
    {
     "data": {
      "text/plain": [
       "(-0.0672730249731324, 0.5060336560533527)"
      ]
     },
     "execution_count": 2,
     "metadata": {},
     "output_type": "execute_result"
    }
   ],
   "source": [
    "ss.pearsonr(x1, x2)"
   ]
  },
  {
   "cell_type": "markdown",
   "id": "b8413d18",
   "metadata": {},
   "source": [
    "## Association Test for Categorical Variables\n",
    "\n",
    "Pearson's Chi-squared test\n",
    "`scipy.stats.chi2_contingency()`\n",
    "\n",
    "Fisher's exact tests\n",
    "`scipy.stats.fisher_exact()`\n",
    "\n",
    "Let's create categorical variables by cutting continuous variables."
   ]
  },
  {
   "cell_type": "code",
   "execution_count": 3,
   "id": "95bdface",
   "metadata": {},
   "outputs": [],
   "source": [
    "import pandas as pd # for pd.cut\n",
    "## y's are dependent\n",
    "ybins = [0, .5, 1, 1.5, 2]\n",
    "labels = ['A', 'B', 'C', 'D']\n",
    "y1b = pd.cut(y1, bins = ybins, labels = labels)\n",
    "y2b = pd.cut(y2, bins = ybins, labels = labels)"
   ]
  },
  {
   "cell_type": "markdown",
   "id": "af1eada3",
   "metadata": {},
   "source": [
    "We know `y1` and `y2` are dependent. Let's test it."
   ]
  },
  {
   "cell_type": "code",
   "execution_count": 4,
   "id": "bfc34f94",
   "metadata": {},
   "outputs": [
    {
     "name": "stdout",
     "output_type": "stream",
     "text": [
      "0.0017437947507276017\n"
     ]
    }
   ],
   "source": [
    "ytab = pd.crosstab(y1b, y2b)\n",
    "chi2, p, dof, ex = ss.chi2_contingency(ytab)\n",
    "print(p)"
   ]
  },
  {
   "cell_type": "markdown",
   "id": "d396ea93",
   "metadata": {},
   "source": [
    "We know `x1` and `x2` are independent. Let's test it by dichotomizing\n",
    "them."
   ]
  },
  {
   "cell_type": "code",
   "execution_count": 5,
   "id": "9a620c65",
   "metadata": {},
   "outputs": [],
   "source": [
    "## x's are independent\n",
    "xbins = [0, 0.5, 1]\n",
    "x1b = pd.cut(x1, bins = xbins, labels = ['A', 'B'])\n",
    "x2b = pd.cut(x2, bins = xbins, labels = ['A', 'B'])\n",
    "xtab = pd.crosstab(x1b, x2b)\n",
    "chi2, p, dof, ex = ss.chi2_contingency(xtab)"
   ]
  },
  {
   "cell_type": "markdown",
   "id": "40e87469",
   "metadata": {},
   "source": [
    "Since this is a $2\\times 2$ table, we can use Fisher's exact test."
   ]
  },
  {
   "cell_type": "code",
   "execution_count": 6,
   "id": "b365c3eb",
   "metadata": {},
   "outputs": [
    {
     "name": "stdout",
     "output_type": "stream",
     "text": [
      "0.4237859812385127\n"
     ]
    }
   ],
   "source": [
    "## only for 2x2 tables\n",
    "oddsratio, p = ss.fisher_exact(xtab)\n",
    "print(p)"
   ]
  }
 ],
 "metadata": {
  "jupytext": {
   "text_representation": {
    "extension": ".md",
    "format_name": "myst",
    "format_version": 0.13,
    "jupytext_version": "1.11.5"
   }
  },
  "kernelspec": {
   "display_name": "Python 3 (ipykernel)",
   "language": "python",
   "name": "python3"
  },
  "language_info": {
   "codemirror_mode": {
    "name": "ipython",
    "version": 3
   },
   "file_extension": ".py",
   "mimetype": "text/x-python",
   "name": "python",
   "nbconvert_exporter": "python",
   "pygments_lexer": "ipython3",
   "version": "3.9.12"
  },
  "source_map": [
   12,
   28,
   43,
   45,
   56,
   63,
   66,
   70,
   74,
   81,
   84
  ]
 },
 "nbformat": 4,
 "nbformat_minor": 5
}