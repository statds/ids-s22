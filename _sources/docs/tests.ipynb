{
 "cells": [
  {
   "cell_type": "markdown",
   "id": "bf088077",
   "metadata": {},
   "source": [
    "(statmodels)=\n",
    "\n",
    "# Hypothesis Tests\n",
    "\n",
    "## Zero-Correlation Tests\n",
    "\n",
    "This is the same as independence test.\n",
    "\n",
    "\n",
    "Correlation tests\n",
    "`scipy.stats.pearsonr()`\n",
    "`scipy.stats.spearmanr()`\n",
    "`scipy.stats.kendalltau()`"
   ]
  },
  {
   "cell_type": "code",
   "execution_count": 1,
   "id": "9e26eaab",
   "metadata": {},
   "outputs": [
    {
     "data": {
      "text/plain": [
       "KendalltauResult(correlation=0.5010101010101011, pvalue=1.5161961124603773e-13)"
      ]
     },
     "execution_count": 1,
     "metadata": {},
     "output_type": "execute_result"
    }
   ],
   "source": [
    "import scipy.stats as ss\n",
    "import numpy as np\n",
    "nobs = 100\n",
    "x1 = np.random.random(nobs)\n",
    "x2 = np.random.random(nobs)\n",
    "x3 = np.random.random(nobs)\n",
    "y1 = x1 + x2\n",
    "y2 = x1 + x3\n",
    "\n",
    "ss.pearsonr(y1, y2)\n",
    "ss.spearmanr(x1, x2)\n",
    "ss.kendalltau(y1, x2)"
   ]
  },
  {
   "cell_type": "markdown",
   "id": "69cf2fa0",
   "metadata": {},
   "source": [
    "## Association Test for Categorical Variables\n",
    "\n",
    "Pearson's Chi-squared test\n",
    "`scipy.stats.chi2_contingency()`\n",
    "\n",
    "Fisher's exact tests\n",
    "`scipy.stats.fisher_exact()`\n",
    "\n",
    "```\n",
    "## y's are dependent\n",
    "ybins = [0, .5, 1, 1.5, 2]\n",
    "labels = ['A', 'B', 'C', 'D']\n",
    "y1b = pd.cut(y1, bins = bins, labels = labels)\n",
    "y2b = pd.cut(y2, bins = bins, labels = labels)\n",
    "ytab = pd.crosstab(y1b, y2b)\n",
    "chi2, p, dof, ex = ss.chi2_contingency(ytab)\n",
    "oddsratio, p = ss.fisher_exact(ytab)\n",
    "\n",
    "## x's are independent\n",
    "xbins = [0, 0.5, 1]\n",
    "x1b = pd.cut(x1, bins = bins, labels = labels)\n",
    "x2b = pd.cut(x2, bins = bins, labels = labels)\n",
    "xtab = pd.crosstab(x1b, x2b)\n",
    "chi2, p, dof, ex = ss.chi2_contingency(xtab)\n",
    "## only for 2x2 tables\n",
    "oddsratio, p = ss.fisher_exact(xtab)\n",
    "```"
   ]
  }
 ],
 "metadata": {
  "jupytext": {
   "text_representation": {
    "extension": ".md",
    "format_name": "myst",
    "format_version": 0.13,
    "jupytext_version": "1.11.5"
   }
  },
  "kernelspec": {
   "display_name": "Python 3 (ipykernel)",
   "language": "python",
   "name": "python3"
  },
  "language_info": {
   "codemirror_mode": {
    "name": "ipython",
    "version": 3
   },
   "file_extension": ".py",
   "mimetype": "text/x-python",
   "name": "python",
   "nbconvert_exporter": "python",
   "pygments_lexer": "ipython3",
   "version": "3.9.10"
  },
  "source_map": [
   12,
   28,
   41
  ]
 },
 "nbformat": 4,
 "nbformat_minor": 5
}