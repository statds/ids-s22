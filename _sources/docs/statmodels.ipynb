{
 "cells": [
  {
   "cell_type": "markdown",
   "id": "4f7b3f24",
   "metadata": {},
   "source": [
    "(statmodels)=\n",
    "\n",
    "# Statistical Tests and Models\n",
    "\n",
    "There are multiple Python libraries/packages that allow you to perform complex statistical tests and build various models."
   ]
  }
 ],
 "metadata": {
  "jupytext": {
   "text_representation": {
    "extension": ".md",
    "format_name": "myst",
    "format_version": 0.13,
    "jupytext_version": "1.11.5"
   }
  },
  "kernelspec": {
   "display_name": "Python 3 (ipykernel)",
   "language": "python",
   "name": "python3"
  },
  "language_info": {
   "codemirror_mode": {
    "name": "ipython",
    "version": 3
   },
   "file_extension": ".py",
   "mimetype": "text/x-python",
   "name": "python",
   "nbconvert_exporter": "python",
   "pygments_lexer": "ipython3",
   "version": "3.9.10"
  },
  "source_map": [
   12
  ]
 },
 "nbformat": 4,
 "nbformat_minor": 5
}