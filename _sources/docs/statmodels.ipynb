{
 "cells": [
  {
   "cell_type": "markdown",
   "id": "2c67bace",
   "metadata": {},
   "source": [
    "(statmodels)=\n",
    "\n",
    "# Statistical Tests and Models\n",
    "\n",
    "\n",
    "> [`statsmodels`](https://www.statsmodels.org/stable/about.html#about-statsmodels)\n",
    "> is a Python module that provides classes and functions for the\n",
    "> estimation of many different statistical models, as well as for\n",
    "> conducting statistical tests, and statistical data exploration. An\n",
    "> extensive list of result statistics are available for each\n",
    "> estimator. The results are tested against existing statistical\n",
    "> packages to ensure that they are correct. The package is released\n",
    "> under the open source Modified BSD (3-clause) license. The online\n",
    "> documentation is hosted at <statsmodels.org>.\n",
    "\n",
    "\n",
    "> `statsmodels` supports specifying models using R-style formulas and\n",
    "> `pandas DataFrames`.\n",
    "\n",
    "\n",
    "There are multiple Python libraries/packages that allow you to perform\n",
    "complex statistical tests and build various models."
   ]
  }
 ],
 "metadata": {
  "jupytext": {
   "text_representation": {
    "extension": ".md",
    "format_name": "myst",
    "format_version": 0.13,
    "jupytext_version": "1.11.5"
   }
  },
  "kernelspec": {
   "display_name": "Python 3 (ipykernel)",
   "language": "python",
   "name": "python3"
  },
  "language_info": {
   "codemirror_mode": {
    "name": "ipython",
    "version": 3
   },
   "file_extension": ".py",
   "mimetype": "text/x-python",
   "name": "python",
   "nbconvert_exporter": "python",
   "pygments_lexer": "ipython3",
   "version": "3.9.12"
  },
  "source_map": [
   12
  ]
 },
 "nbformat": 4,
 "nbformat_minor": 5
}