{
 "cells": [
  {
   "cell_type": "markdown",
   "id": "988974a8",
   "metadata": {},
   "source": [
    "(fixedit)=\n",
    "\n",
    "# I Fixed It\n",
    "\n",
    "When something does not work as expected, be sure to read the error\n",
    "message carefully. Oftentimes, the problem has been encountered by\n",
    "others. A Google search for the quoted error message may lead to an\n",
    "existing solution.\n",
    "\n",
    "\n",
    "This is a collection of questions and answers during this semester,\n",
    "which could be helpful for others with the same problems.\n",
    "\n",
    "## TypeError when trying to build the Jupyter Book\n",
    "\n",
    "### Error in Question:\n",
    "\n",
    "    TypeError: asdict() got an unexpected keyword argument 'value_serializer'\n",
    "\n",
    "### Solution: Upgrade a package\n",
    "The solution that worked for me came from this forum: \n",
    "<https://githubhelp.com/executablebooks/sphinx-external-toc/issues/49>.\n",
    "In the forum, it's suggested that the package `sphinx-external-toc`\n",
    "may be outdated and the current version does not meet the requirements\n",
    "to build the book.\n",
    "\n",
    "To solve this, you can use pip to update this package. Enter the\n",
    "following into the command line:\n",
    "\n",
    "    pip install --upgrade sphinx-external-toc\n",
    "\n",
    "\n",
    "In my case I had to use pip3 install, but the idea should be the\n",
    "same. Then, run `jb build .` again and the book should build without\n",
    "error. This solution worked for me so hopefully it works for anyone\n",
    "else who runs into this error!"
   ]
  },
  {
   "cell_type": "markdown",
   "id": "84a9887f",
   "metadata": {},
   "source": [
    "## ModuleNotFoundError when importing Cartopy into Jupyter Notebook\n",
    "\n",
    "### Error in Question\n",
    "Sometimes when importing Cartopy into jupyter notebook after installing it, we will have an error message:\n",
    "\n",
    "    ModuleNotFoundError: No module named 'cartopy'\n",
    "    \n",
    "This might be due to a conflict between different environments.\n",
    "\n",
    "### Solution: Enter into a new environment\n",
    "The simplest way is to use `conda activate base` to enter into the base environment of conda and reinstall Cartopy into that environment. (Use `conda install -c conda-forge cartopy` instead of `pip`. `pip` won't install all the required dependencies of Cartopy so it will be a mess.) Then you can launch Jupyter Notebook in that environment and hopefully Cartopy can be imported now."
   ]
  }
 ],
 "metadata": {
  "jupytext": {
   "text_representation": {
    "extension": ".md",
    "format_name": "myst",
    "format_version": 0.13,
    "jupytext_version": "1.11.5"
   }
  },
  "kernelspec": {
   "display_name": "Python 3 (ipykernel)",
   "language": "python",
   "name": "python3"
  },
  "language_info": {
   "codemirror_mode": {
    "name": "ipython",
    "version": 3
   },
   "file_extension": ".py",
   "mimetype": "text/x-python",
   "name": "python",
   "nbconvert_exporter": "python",
   "pygments_lexer": "ipython3",
   "version": "3.9.10"
  },
  "source_map": [
   12,
   51
  ]
 },
 "nbformat": 4,
 "nbformat_minor": 5
}