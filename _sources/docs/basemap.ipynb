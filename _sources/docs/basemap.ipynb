{
 "cells": [
  {
   "cell_type": "markdown",
   "id": "c06ec636",
   "metadata": {},
   "source": [
    "(basemap)=\n",
    "\n",
    "# Basemap\n",
    "\n",
    "An executive summary ... its functions ... authors ... and history ...\n",
    "\n",
    "Basemap is a python library that can be used in combination with matplotlib to create two dimensional maps. \n",
    "\n",
    "The library was originally created by Jeff Whitaker. It has since been contributed to by many people across multiple subject areas.\n",
    "\n",
    "Starting in 2016, The Cartopy Project began development as a replacement for Basemap.\n",
    "\n",
    "The last documented contributor to Basemap was Ben Root, who agreed to maintain the library until 2020.\n",
    "\n",
    "Pros of Basemap:\n",
    "- Relatively easy to learn\n",
    "- 25 different types of mapping projections\n",
    "- Great options to color in the map\n",
    "\n",
    "Cons of Basemap:\n",
    "- Slow loading times, especially with high detail settings\n",
    "- Basemap is depricated\n",
    "- Not recommended for graphing certain areas by themselves (i.e. United States without Canada and Mexico)\n",
    "\n",
    "Source: https://matplotlib.org/basemap/\n",
    "\n",
    "\n",
    "Use the NYC MV Collisons-Crashes data to demonstrate ...\n",
    "\n",
    "Think of questions of interest that can be answered by visualization\n",
    "..."
   ]
  }
 ],
 "metadata": {
  "jupytext": {
   "text_representation": {
    "extension": ".md",
    "format_name": "myst",
    "format_version": 0.13,
    "jupytext_version": "1.11.5"
   }
  },
  "kernelspec": {
   "display_name": "Python 3 (ipykernel)",
   "language": "python",
   "name": "python3"
  },
  "language_info": {
   "codemirror_mode": {
    "name": "ipython",
    "version": 3
   },
   "file_extension": ".py",
   "mimetype": "text/x-python",
   "name": "python",
   "nbconvert_exporter": "python",
   "pygments_lexer": "ipython3",
   "version": "3.9.10"
  },
  "source_map": [
   12
  ]
 },
 "nbformat": 4,
 "nbformat_minor": 5
}