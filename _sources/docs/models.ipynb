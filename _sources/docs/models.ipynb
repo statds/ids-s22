{
 "cells": [
  {
   "cell_type": "markdown",
   "id": "b9e48cd6",
   "metadata": {},
   "source": [
    "(regmodels)=\n",
    "\n",
    "# Linear and Generalized Linear Models\n",
    "\n",
    "Let's simulate some data for illustrations."
   ]
  },
  {
   "cell_type": "code",
   "execution_count": 1,
   "id": "363dcb15",
   "metadata": {},
   "outputs": [],
   "source": [
    "import numpy as np\n",
    "import statsmodels.api as sm\n",
    "\n",
    "nobs = 200\n",
    "ncov = 5\n",
    "np.random.seed(123)\n",
    "x = np.random.random((nobs, ncov)) # Uniform over [0, 1)\n",
    "beta = np.repeat(1, ncov)\n",
    "y = 2 + np.dot(x, beta) + np.random.normal(size = nobs)"
   ]
  },
  {
   "cell_type": "code",
   "execution_count": 2,
   "id": "21f6b160",
   "metadata": {},
   "outputs": [
    {
     "data": {
      "text/plain": [
       "(200,)"
      ]
     },
     "execution_count": 2,
     "metadata": {},
     "output_type": "execute_result"
    }
   ],
   "source": [
    "y.shape"
   ]
  },
  {
   "cell_type": "code",
   "execution_count": 3,
   "id": "84276e99",
   "metadata": {},
   "outputs": [
    {
     "data": {
      "text/plain": [
       "(200, 5)"
      ]
     },
     "execution_count": 3,
     "metadata": {},
     "output_type": "execute_result"
    }
   ],
   "source": [
    "x.shape"
   ]
  },
  {
   "cell_type": "markdown",
   "id": "72cf8399",
   "metadata": {},
   "source": [
    "That is, the true linear regression model is\n",
    "```{math}\n",
    "y = 2 + x_1 + x_2 + x_3 + x_4 + x_5 + \\epsilon.\n",
    "```\n",
    "\n",
    "A regression model for the observed data can be fitted as"
   ]
  },
  {
   "cell_type": "code",
   "execution_count": 4,
   "id": "4b33eff7",
   "metadata": {},
   "outputs": [
    {
     "data": {
      "text/html": [
       "<table class=\"simpletable\">\n",
       "<caption>OLS Regression Results</caption>\n",
       "<tr>\n",
       "  <th>Dep. Variable:</th>            <td>y</td>        <th>  R-squared:         </th> <td>   0.309</td>\n",
       "</tr>\n",
       "<tr>\n",
       "  <th>Model:</th>                   <td>OLS</td>       <th>  Adj. R-squared:    </th> <td>   0.292</td>\n",
       "</tr>\n",
       "<tr>\n",
       "  <th>Method:</th>             <td>Least Squares</td>  <th>  F-statistic:       </th> <td>   17.38</td>\n",
       "</tr>\n",
       "<tr>\n",
       "  <th>Date:</th>             <td>Tue, 29 Mar 2022</td> <th>  Prob (F-statistic):</th> <td>3.31e-14</td>\n",
       "</tr>\n",
       "<tr>\n",
       "  <th>Time:</th>                 <td>01:57:24</td>     <th>  Log-Likelihood:    </th> <td> -272.91</td>\n",
       "</tr>\n",
       "<tr>\n",
       "  <th>No. Observations:</th>      <td>   200</td>      <th>  AIC:               </th> <td>   557.8</td>\n",
       "</tr>\n",
       "<tr>\n",
       "  <th>Df Residuals:</th>          <td>   194</td>      <th>  BIC:               </th> <td>   577.6</td>\n",
       "</tr>\n",
       "<tr>\n",
       "  <th>Df Model:</th>              <td>     5</td>      <th>                     </th>     <td> </td>   \n",
       "</tr>\n",
       "<tr>\n",
       "  <th>Covariance Type:</th>      <td>nonrobust</td>    <th>                     </th>     <td> </td>   \n",
       "</tr>\n",
       "</table>\n",
       "<table class=\"simpletable\">\n",
       "<tr>\n",
       "    <td></td>       <th>coef</th>     <th>std err</th>      <th>t</th>      <th>P>|t|</th>  <th>[0.025</th>    <th>0.975]</th>  \n",
       "</tr>\n",
       "<tr>\n",
       "  <th>const</th> <td>    1.8754</td> <td>    0.282</td> <td>    6.656</td> <td> 0.000</td> <td>    1.320</td> <td>    2.431</td>\n",
       "</tr>\n",
       "<tr>\n",
       "  <th>x1</th>    <td>    1.1703</td> <td>    0.248</td> <td>    4.723</td> <td> 0.000</td> <td>    0.682</td> <td>    1.659</td>\n",
       "</tr>\n",
       "<tr>\n",
       "  <th>x2</th>    <td>    0.8988</td> <td>    0.235</td> <td>    3.825</td> <td> 0.000</td> <td>    0.435</td> <td>    1.362</td>\n",
       "</tr>\n",
       "<tr>\n",
       "  <th>x3</th>    <td>    0.9784</td> <td>    0.238</td> <td>    4.114</td> <td> 0.000</td> <td>    0.509</td> <td>    1.448</td>\n",
       "</tr>\n",
       "<tr>\n",
       "  <th>x4</th>    <td>    1.3418</td> <td>    0.250</td> <td>    5.367</td> <td> 0.000</td> <td>    0.849</td> <td>    1.835</td>\n",
       "</tr>\n",
       "<tr>\n",
       "  <th>x5</th>    <td>    0.6027</td> <td>    0.239</td> <td>    2.519</td> <td> 0.013</td> <td>    0.131</td> <td>    1.075</td>\n",
       "</tr>\n",
       "</table>\n",
       "<table class=\"simpletable\">\n",
       "<tr>\n",
       "  <th>Omnibus:</th>       <td> 0.810</td> <th>  Durbin-Watson:     </th> <td>   1.978</td>\n",
       "</tr>\n",
       "<tr>\n",
       "  <th>Prob(Omnibus):</th> <td> 0.667</td> <th>  Jarque-Bera (JB):  </th> <td>   0.903</td>\n",
       "</tr>\n",
       "<tr>\n",
       "  <th>Skew:</th>          <td>-0.144</td> <th>  Prob(JB):          </th> <td>   0.637</td>\n",
       "</tr>\n",
       "<tr>\n",
       "  <th>Kurtosis:</th>      <td> 2.839</td> <th>  Cond. No.          </th> <td>    8.31</td>\n",
       "</tr>\n",
       "</table><br/><br/>Notes:<br/>[1] Standard Errors assume that the covariance matrix of the errors is correctly specified."
      ],
      "text/plain": [
       "<class 'statsmodels.iolib.summary.Summary'>\n",
       "\"\"\"\n",
       "                            OLS Regression Results                            \n",
       "==============================================================================\n",
       "Dep. Variable:                      y   R-squared:                       0.309\n",
       "Model:                            OLS   Adj. R-squared:                  0.292\n",
       "Method:                 Least Squares   F-statistic:                     17.38\n",
       "Date:                Tue, 29 Mar 2022   Prob (F-statistic):           3.31e-14\n",
       "Time:                        01:57:24   Log-Likelihood:                -272.91\n",
       "No. Observations:                 200   AIC:                             557.8\n",
       "Df Residuals:                     194   BIC:                             577.6\n",
       "Df Model:                           5                                         \n",
       "Covariance Type:            nonrobust                                         \n",
       "==============================================================================\n",
       "                 coef    std err          t      P>|t|      [0.025      0.975]\n",
       "------------------------------------------------------------------------------\n",
       "const          1.8754      0.282      6.656      0.000       1.320       2.431\n",
       "x1             1.1703      0.248      4.723      0.000       0.682       1.659\n",
       "x2             0.8988      0.235      3.825      0.000       0.435       1.362\n",
       "x3             0.9784      0.238      4.114      0.000       0.509       1.448\n",
       "x4             1.3418      0.250      5.367      0.000       0.849       1.835\n",
       "x5             0.6027      0.239      2.519      0.013       0.131       1.075\n",
       "==============================================================================\n",
       "Omnibus:                        0.810   Durbin-Watson:                   1.978\n",
       "Prob(Omnibus):                  0.667   Jarque-Bera (JB):                0.903\n",
       "Skew:                          -0.144   Prob(JB):                        0.637\n",
       "Kurtosis:                       2.839   Cond. No.                         8.31\n",
       "==============================================================================\n",
       "\n",
       "Notes:\n",
       "[1] Standard Errors assume that the covariance matrix of the errors is correctly specified.\n",
       "\"\"\""
      ]
     },
     "execution_count": 4,
     "metadata": {},
     "output_type": "execute_result"
    }
   ],
   "source": [
    "xmat = sm.add_constant(x)\n",
    "mymod = sm.OLS(y, xmat)\n",
    "myfit = mymod.fit()\n",
    "myfit.summary()"
   ]
  },
  {
   "cell_type": "markdown",
   "id": "83a25857",
   "metadata": {},
   "source": [
    "How are the regression coefficients interpreted? Intercept?\n",
    "\n",
    "Why does it make sense to center the covariates?\n",
    "\n",
    "Now we form a data frame with the variables"
   ]
  },
  {
   "cell_type": "code",
   "execution_count": 5,
   "id": "25e2393a",
   "metadata": {},
   "outputs": [
    {
     "name": "stdout",
     "output_type": "stream",
     "text": [
      "<class 'pandas.core.frame.DataFrame'>\n",
      "RangeIndex: 200 entries, 0 to 199\n",
      "Data columns (total 6 columns):\n",
      " #   Column  Non-Null Count  Dtype  \n",
      "---  ------  --------------  -----  \n",
      " 0   y       200 non-null    float64\n",
      " 1   x1      200 non-null    float64\n",
      " 2   x2      200 non-null    float64\n",
      " 3   x3      200 non-null    float64\n",
      " 4   x4      200 non-null    float64\n",
      " 5   x5      200 non-null    float64\n",
      "dtypes: float64(6)\n",
      "memory usage: 9.5 KB\n"
     ]
    }
   ],
   "source": [
    "import pandas as pd\n",
    "df = np.concatenate((y.reshape((nobs, 1)), x), axis = 1)\n",
    "df = pd.DataFrame(data = df,\n",
    "                  columns = [\"y\"] + [\"x\" + str(i) for i in range(1,\n",
    "                  ncov + 1)])\n",
    "df.info()"
   ]
  },
  {
   "cell_type": "markdown",
   "id": "ade0dde3",
   "metadata": {},
   "source": [
    "Let's use a formula to specify the regression model as in R, and fit\n",
    "a robust linear model (`rlm`) instead of OLS."
   ]
  },
  {
   "cell_type": "code",
   "execution_count": 6,
   "id": "897b4112",
   "metadata": {},
   "outputs": [
    {
     "data": {
      "text/html": [
       "<table class=\"simpletable\">\n",
       "<caption>Robust linear Model Regression Results</caption>\n",
       "<tr>\n",
       "  <th>Dep. Variable:</th>          <td>y</td>        <th>  No. Observations:  </th> <td>   200</td>\n",
       "</tr>\n",
       "<tr>\n",
       "  <th>Model:</th>                 <td>RLM</td>       <th>  Df Residuals:      </th> <td>   194</td>\n",
       "</tr>\n",
       "<tr>\n",
       "  <th>Method:</th>               <td>IRLS</td>       <th>  Df Model:          </th> <td>     5</td>\n",
       "</tr>\n",
       "<tr>\n",
       "  <th>Norm:</th>                <td>HuberT</td>      <th>                     </th>    <td> </td>  \n",
       "</tr>\n",
       "<tr>\n",
       "  <th>Scale Est.:</th>            <td>mad</td>       <th>                     </th>    <td> </td>  \n",
       "</tr>\n",
       "<tr>\n",
       "  <th>Cov Type:</th>              <td>H1</td>        <th>                     </th>    <td> </td>  \n",
       "</tr>\n",
       "<tr>\n",
       "  <th>Date:</th>           <td>Tue, 29 Mar 2022</td> <th>                     </th>    <td> </td>  \n",
       "</tr>\n",
       "<tr>\n",
       "  <th>Time:</th>               <td>01:57:24</td>     <th>                     </th>    <td> </td>  \n",
       "</tr>\n",
       "<tr>\n",
       "  <th>No. Iterations:</th>        <td>16</td>        <th>                     </th>    <td> </td>  \n",
       "</tr>\n",
       "</table>\n",
       "<table class=\"simpletable\">\n",
       "<tr>\n",
       "      <td></td>         <th>coef</th>     <th>std err</th>      <th>z</th>      <th>P>|z|</th>  <th>[0.025</th>    <th>0.975]</th>  \n",
       "</tr>\n",
       "<tr>\n",
       "  <th>Intercept</th> <td>    1.8353</td> <td>    0.294</td> <td>    6.246</td> <td> 0.000</td> <td>    1.259</td> <td>    2.411</td>\n",
       "</tr>\n",
       "<tr>\n",
       "  <th>x1</th>        <td>    1.1254</td> <td>    0.258</td> <td>    4.355</td> <td> 0.000</td> <td>    0.619</td> <td>    1.632</td>\n",
       "</tr>\n",
       "<tr>\n",
       "  <th>x2</th>        <td>    0.9664</td> <td>    0.245</td> <td>    3.944</td> <td> 0.000</td> <td>    0.486</td> <td>    1.447</td>\n",
       "</tr>\n",
       "<tr>\n",
       "  <th>x3</th>        <td>    0.9995</td> <td>    0.248</td> <td>    4.029</td> <td> 0.000</td> <td>    0.513</td> <td>    1.486</td>\n",
       "</tr>\n",
       "<tr>\n",
       "  <th>x4</th>        <td>    1.3275</td> <td>    0.261</td> <td>    5.091</td> <td> 0.000</td> <td>    0.816</td> <td>    1.839</td>\n",
       "</tr>\n",
       "<tr>\n",
       "  <th>x5</th>        <td>    0.6768</td> <td>    0.250</td> <td>    2.712</td> <td> 0.007</td> <td>    0.188</td> <td>    1.166</td>\n",
       "</tr>\n",
       "</table><br/><br/>If the model instance has been used for another fit with different fit parameters, then the fit options might not be the correct ones anymore ."
      ],
      "text/plain": [
       "<class 'statsmodels.iolib.summary.Summary'>\n",
       "\"\"\"\n",
       "                    Robust linear Model Regression Results                    \n",
       "==============================================================================\n",
       "Dep. Variable:                      y   No. Observations:                  200\n",
       "Model:                            RLM   Df Residuals:                      194\n",
       "Method:                          IRLS   Df Model:                            5\n",
       "Norm:                          HuberT                                         \n",
       "Scale Est.:                       mad                                         \n",
       "Cov Type:                          H1                                         \n",
       "Date:                Tue, 29 Mar 2022                                         \n",
       "Time:                        01:57:24                                         \n",
       "No. Iterations:                    16                                         \n",
       "==============================================================================\n",
       "                 coef    std err          z      P>|z|      [0.025      0.975]\n",
       "------------------------------------------------------------------------------\n",
       "Intercept      1.8353      0.294      6.246      0.000       1.259       2.411\n",
       "x1             1.1254      0.258      4.355      0.000       0.619       1.632\n",
       "x2             0.9664      0.245      3.944      0.000       0.486       1.447\n",
       "x3             0.9995      0.248      4.029      0.000       0.513       1.486\n",
       "x4             1.3275      0.261      5.091      0.000       0.816       1.839\n",
       "x5             0.6768      0.250      2.712      0.007       0.188       1.166\n",
       "==============================================================================\n",
       "\n",
       "If the model instance has been used for another fit with different fit parameters, then the fit options might not be the correct ones anymore .\n",
       "\"\"\""
      ]
     },
     "execution_count": 6,
     "metadata": {},
     "output_type": "execute_result"
    }
   ],
   "source": [
    "import statsmodels.formula.api as smf\n",
    "mymod = smf.rlm(formula = \"y ~ x1 + x2 + x3 + x4 + x5\", data = df)\n",
    "myfit = mymod.fit()\n",
    "myfit.summary()"
   ]
  },
  {
   "cell_type": "markdown",
   "id": "6c98209d",
   "metadata": {},
   "source": [
    "For model diagnostics, one can check residual plots."
   ]
  },
  {
   "cell_type": "code",
   "execution_count": 7,
   "id": "67ac75b2",
   "metadata": {},
   "outputs": [
    {
     "name": "stdout",
     "output_type": "stream",
     "text": [
      "eval_env: 1\n"
     ]
    },
    {
     "data": {
      "image/png": "[encoded data removed]",
      "text/plain": [
       "<Figure size 864x576 with 4 Axes>"
      ]
     },
     "metadata": {
      "filenames": {
       "image/png": "/home/runner/work/ids-s22/ids-s22/notes/_build/jupyter_execute/docs/models_11_1.png"
      },
      "needs_background": "light"
     },
     "output_type": "display_data"
    }
   ],
   "source": [
    "import matplotlib.pyplot as plt\n",
    "\n",
    "myOlsFit = smf.ols(formula = \"y ~ x1 + x2 + x3 + x4 + x5\", data = df).fit()\n",
    "fig = plt.figure(figsize = (12, 8))\n",
    "## residual versus x1; can do the same for other covariates\n",
    "fig = sm.graphics.plot_regress_exog(myOlsFit, 'x1', fig=fig)"
   ]
  },
  {
   "cell_type": "markdown",
   "id": "99907100",
   "metadata": {},
   "source": [
    "See more on [residual diagnostics and specification\n",
    "tests](https://www.statsmodels.org/stable/stats.html#residual-diagnostics-and-specification-tests).\n",
    "\n",
    "\n",
    "# Generalized Linear Regression\n",
    "\n",
    "A linear regression model cannot be applied to presence/absence or\n",
    "count data. \n",
    "\n",
    "\n",
    "Binary or count data need to be modeled under a generlized\n",
    "framework. Consider a binary or count variable $Y$ with possible\n",
    "covariates $X$.  A generalized model describes a transformation $g$\n",
    "of the conditional mean $E[Y | X]$ by a linear predictor\n",
    "$X^{\\top}\\beta$. That is\n",
    "\\begin{equation*}\n",
    "g( E[Y | X] ) = X^{\\top} \\beta.\n",
    "\\end{equation*}\n",
    "The transformation $g$ is known as the link function.\n",
    "\n",
    "\n",
    "For logistic regression with binary outcomes, the link function is\n",
    "the logit function\n",
    "\\begin{equation*}\n",
    "g(u) = \\log \\frac{u}{1 - u}, \\quad u \\in (0, 1).\n",
    "\\end{equation*}\n",
    "\n",
    "What is the interpretation of the regression coefficients in a\n",
    "logistic regression? Intercept?\n",
    "\n",
    "A logistic regression can be fit with `statsmodels.api.glm`.\n",
    "\n",
    "Let's generate some binary data first by dichotomizing existing variables."
   ]
  },
  {
   "cell_type": "code",
   "execution_count": 8,
   "id": "3b7712c7",
   "metadata": {},
   "outputs": [],
   "source": [
    "df['yb' ] = np.where(df['y' ] > 2.5, 1, 0)\n",
    "df['x1b'] = np.where(df['x1'] > 0.5, 1, 0)"
   ]
  },
  {
   "cell_type": "markdown",
   "id": "0f94e21b",
   "metadata": {},
   "source": [
    "Fit a logistic regression for `y1b`."
   ]
  },
  {
   "cell_type": "code",
   "execution_count": 9,
   "id": "c29d518c",
   "metadata": {},
   "outputs": [
    {
     "data": {
      "text/html": [
       "<table class=\"simpletable\">\n",
       "<caption>Generalized Linear Model Regression Results</caption>\n",
       "<tr>\n",
       "  <th>Dep. Variable:</th>          <td>yb</td>        <th>  No. Observations:  </th>  <td>   200</td> \n",
       "</tr>\n",
       "<tr>\n",
       "  <th>Model:</th>                  <td>GLM</td>       <th>  Df Residuals:      </th>  <td>   194</td> \n",
       "</tr>\n",
       "<tr>\n",
       "  <th>Model Family:</th>        <td>Binomial</td>     <th>  Df Model:          </th>  <td>     5</td> \n",
       "</tr>\n",
       "<tr>\n",
       "  <th>Link Function:</th>         <td>Logit</td>      <th>  Scale:             </th> <td>  1.0000</td>\n",
       "</tr>\n",
       "<tr>\n",
       "  <th>Method:</th>                <td>IRLS</td>       <th>  Log-Likelihood:    </th> <td> -30.654</td>\n",
       "</tr>\n",
       "<tr>\n",
       "  <th>Date:</th>            <td>Tue, 29 Mar 2022</td> <th>  Deviance:          </th> <td>  61.307</td>\n",
       "</tr>\n",
       "<tr>\n",
       "  <th>Time:</th>                <td>01:57:26</td>     <th>  Pearson chi2:      </th>  <td>  217.</td> \n",
       "</tr>\n",
       "<tr>\n",
       "  <th>No. Iterations:</th>          <td>7</td>        <th>  Pseudo R-squ. (CS):</th>  <td>0.05871</td>\n",
       "</tr>\n",
       "<tr>\n",
       "  <th>Covariance Type:</th>     <td>nonrobust</td>    <th>                     </th>     <td> </td>   \n",
       "</tr>\n",
       "</table>\n",
       "<table class=\"simpletable\">\n",
       "<tr>\n",
       "      <td></td>         <th>coef</th>     <th>std err</th>      <th>z</th>      <th>P>|z|</th>  <th>[0.025</th>    <th>0.975]</th>  \n",
       "</tr>\n",
       "<tr>\n",
       "  <th>Intercept</th> <td>   -0.4354</td> <td>    1.309</td> <td>   -0.333</td> <td> 0.739</td> <td>   -3.002</td> <td>    2.131</td>\n",
       "</tr>\n",
       "<tr>\n",
       "  <th>x1b</th>       <td>    1.2721</td> <td>    0.845</td> <td>    1.505</td> <td> 0.132</td> <td>   -0.384</td> <td>    2.928</td>\n",
       "</tr>\n",
       "<tr>\n",
       "  <th>x2</th>        <td>    2.6897</td> <td>    1.418</td> <td>    1.897</td> <td> 0.058</td> <td>   -0.089</td> <td>    5.469</td>\n",
       "</tr>\n",
       "<tr>\n",
       "  <th>x3</th>        <td>   -0.0537</td> <td>    1.270</td> <td>   -0.042</td> <td> 0.966</td> <td>   -2.542</td> <td>    2.435</td>\n",
       "</tr>\n",
       "<tr>\n",
       "  <th>x4</th>        <td>    2.6576</td> <td>    1.438</td> <td>    1.848</td> <td> 0.065</td> <td>   -0.160</td> <td>    5.476</td>\n",
       "</tr>\n",
       "<tr>\n",
       "  <th>x5</th>        <td>    1.8752</td> <td>    1.330</td> <td>    1.409</td> <td> 0.159</td> <td>   -0.732</td> <td>    4.483</td>\n",
       "</tr>\n",
       "</table>"
      ],
      "text/plain": [
       "<class 'statsmodels.iolib.summary.Summary'>\n",
       "\"\"\"\n",
       "                 Generalized Linear Model Regression Results                  \n",
       "==============================================================================\n",
       "Dep. Variable:                     yb   No. Observations:                  200\n",
       "Model:                            GLM   Df Residuals:                      194\n",
       "Model Family:                Binomial   Df Model:                            5\n",
       "Link Function:                  Logit   Scale:                          1.0000\n",
       "Method:                          IRLS   Log-Likelihood:                -30.654\n",
       "Date:                Tue, 29 Mar 2022   Deviance:                       61.307\n",
       "Time:                        01:57:26   Pearson chi2:                     217.\n",
       "No. Iterations:                     7   Pseudo R-squ. (CS):            0.05871\n",
       "Covariance Type:            nonrobust                                         \n",
       "==============================================================================\n",
       "                 coef    std err          z      P>|z|      [0.025      0.975]\n",
       "------------------------------------------------------------------------------\n",
       "Intercept     -0.4354      1.309     -0.333      0.739      -3.002       2.131\n",
       "x1b            1.2721      0.845      1.505      0.132      -0.384       2.928\n",
       "x2             2.6897      1.418      1.897      0.058      -0.089       5.469\n",
       "x3            -0.0537      1.270     -0.042      0.966      -2.542       2.435\n",
       "x4             2.6576      1.438      1.848      0.065      -0.160       5.476\n",
       "x5             1.8752      1.330      1.409      0.159      -0.732       4.483\n",
       "==============================================================================\n",
       "\"\"\""
      ]
     },
     "execution_count": 9,
     "metadata": {},
     "output_type": "execute_result"
    }
   ],
   "source": [
    "mylogistic = smf.glm(formula = 'yb ~ x1b + x2 + x3 + x4 + x5', data = df,\n",
    "                     family = sm.families.Binomial())\n",
    "mylfit = mylogistic.fit()\n",
    "mylfit.summary()"
   ]
  },
  {
   "cell_type": "markdown",
   "id": "3ce4f376",
   "metadata": {},
   "source": [
    "If we treat `y1b` as count data, a Poisson regression can be fitted."
   ]
  },
  {
   "cell_type": "code",
   "execution_count": 10,
   "id": "c5c2eb6d",
   "metadata": {},
   "outputs": [
    {
     "data": {
      "text/html": [
       "<table class=\"simpletable\">\n",
       "<caption>Generalized Linear Model Regression Results</caption>\n",
       "<tr>\n",
       "  <th>Dep. Variable:</th>          <td>yb</td>        <th>  No. Observations:  </th>  <td>   200</td> \n",
       "</tr>\n",
       "<tr>\n",
       "  <th>Model:</th>                  <td>GLM</td>       <th>  Df Residuals:      </th>  <td>   194</td> \n",
       "</tr>\n",
       "<tr>\n",
       "  <th>Model Family:</th>         <td>Poisson</td>     <th>  Df Model:          </th>  <td>     5</td> \n",
       "</tr>\n",
       "<tr>\n",
       "  <th>Link Function:</th>          <td>Log</td>       <th>  Scale:             </th> <td>  1.0000</td>\n",
       "</tr>\n",
       "<tr>\n",
       "  <th>Method:</th>                <td>IRLS</td>       <th>  Log-Likelihood:    </th> <td> -199.55</td>\n",
       "</tr>\n",
       "<tr>\n",
       "  <th>Date:</th>            <td>Tue, 29 Mar 2022</td> <th>  Deviance:          </th> <td>  17.091</td>\n",
       "</tr>\n",
       "<tr>\n",
       "  <th>Time:</th>                <td>01:57:26</td>     <th>  Pearson chi2:      </th>  <td>  8.99</td> \n",
       "</tr>\n",
       "<tr>\n",
       "  <th>No. Iterations:</th>          <td>4</td>        <th>  Pseudo R-squ. (CS):</th> <td>0.002487</td>\n",
       "</tr>\n",
       "<tr>\n",
       "  <th>Covariance Type:</th>     <td>nonrobust</td>    <th>                     </th>     <td> </td>   \n",
       "</tr>\n",
       "</table>\n",
       "<table class=\"simpletable\">\n",
       "<tr>\n",
       "      <td></td>         <th>coef</th>     <th>std err</th>      <th>z</th>      <th>P>|z|</th>  <th>[0.025</th>    <th>0.975]</th>  \n",
       "</tr>\n",
       "<tr>\n",
       "  <th>Intercept</th> <td>   -0.2045</td> <td>    0.288</td> <td>   -0.710</td> <td> 0.477</td> <td>   -0.769</td> <td>    0.360</td>\n",
       "</tr>\n",
       "<tr>\n",
       "  <th>x1b</th>       <td>    0.0445</td> <td>    0.146</td> <td>    0.304</td> <td> 0.761</td> <td>   -0.242</td> <td>    0.331</td>\n",
       "</tr>\n",
       "<tr>\n",
       "  <th>x2</th>        <td>    0.0965</td> <td>    0.249</td> <td>    0.387</td> <td> 0.699</td> <td>   -0.392</td> <td>    0.585</td>\n",
       "</tr>\n",
       "<tr>\n",
       "  <th>x3</th>        <td>   -0.0088</td> <td>    0.254</td> <td>   -0.035</td> <td> 0.972</td> <td>   -0.507</td> <td>    0.490</td>\n",
       "</tr>\n",
       "<tr>\n",
       "  <th>x4</th>        <td>    0.1072</td> <td>    0.267</td> <td>    0.402</td> <td> 0.688</td> <td>   -0.416</td> <td>    0.630</td>\n",
       "</tr>\n",
       "<tr>\n",
       "  <th>x5</th>        <td>    0.0750</td> <td>    0.253</td> <td>    0.296</td> <td> 0.767</td> <td>   -0.421</td> <td>    0.571</td>\n",
       "</tr>\n",
       "</table>"
      ],
      "text/plain": [
       "<class 'statsmodels.iolib.summary.Summary'>\n",
       "\"\"\"\n",
       "                 Generalized Linear Model Regression Results                  \n",
       "==============================================================================\n",
       "Dep. Variable:                     yb   No. Observations:                  200\n",
       "Model:                            GLM   Df Residuals:                      194\n",
       "Model Family:                 Poisson   Df Model:                            5\n",
       "Link Function:                    Log   Scale:                          1.0000\n",
       "Method:                          IRLS   Log-Likelihood:                -199.55\n",
       "Date:                Tue, 29 Mar 2022   Deviance:                       17.091\n",
       "Time:                        01:57:26   Pearson chi2:                     8.99\n",
       "No. Iterations:                     4   Pseudo R-squ. (CS):           0.002487\n",
       "Covariance Type:            nonrobust                                         \n",
       "==============================================================================\n",
       "                 coef    std err          z      P>|z|      [0.025      0.975]\n",
       "------------------------------------------------------------------------------\n",
       "Intercept     -0.2045      0.288     -0.710      0.477      -0.769       0.360\n",
       "x1b            0.0445      0.146      0.304      0.761      -0.242       0.331\n",
       "x2             0.0965      0.249      0.387      0.699      -0.392       0.585\n",
       "x3            -0.0088      0.254     -0.035      0.972      -0.507       0.490\n",
       "x4             0.1072      0.267      0.402      0.688      -0.416       0.630\n",
       "x5             0.0750      0.253      0.296      0.767      -0.421       0.571\n",
       "==============================================================================\n",
       "\"\"\""
      ]
     },
     "execution_count": 10,
     "metadata": {},
     "output_type": "execute_result"
    }
   ],
   "source": [
    "myPois = smf.glm(formula = 'yb ~ x1b + x2 + x3 + x4 + x5', data = df,\n",
    "                 family = sm.families.Poisson())\n",
    "mypfit = myPois.fit()\n",
    "mypfit.summary()"
   ]
  },
  {
   "cell_type": "code",
   "execution_count": null,
   "id": "88263f3c",
   "metadata": {},
   "outputs": [],
   "source": []
  }
 ],
 "metadata": {
  "jupytext": {
   "text_representation": {
    "extension": ".md",
    "format_name": "myst",
    "format_version": 0.13,
    "jupytext_version": "1.11.5"
   }
  },
  "kernelspec": {
   "display_name": "Python 3 (ipykernel)",
   "language": "python",
   "name": "python3"
  },
  "language_info": {
   "codemirror_mode": {
    "name": "ipython",
    "version": 3
   },
   "file_extension": ".py",
   "mimetype": "text/x-python",
   "name": "python",
   "nbconvert_exporter": "python",
   "pygments_lexer": "ipython3",
   "version": "3.9.10"
  },
  "source_map": [
   12,
   20,
   32,
   36,
   38,
   47,
   52,
   60,
   67,
   72,
   77,
   81,
   88,
   124,
   127,
   131,
   136,
   140,
   147
  ]
 },
 "nbformat": 4,
 "nbformat_minor": 5
}